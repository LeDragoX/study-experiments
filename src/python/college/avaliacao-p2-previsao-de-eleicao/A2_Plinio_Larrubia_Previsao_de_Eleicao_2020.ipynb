{
  "cells": [
    {
      "cell_type": "markdown",
      "metadata": {},
      "source": [
        "# Avaliação A2 - Previsão de Eleição\n",
        "\n",
        "Com Base nos arquivos dos **dados eleitorais de 2020**, O Aluno deverá criar uma **Aplicação WEB** usando STREAMLIT para prever a situação do **Candidato a Vereador**, no município de **Campos de Goytacazes** (Eleito, Não eleito, Suplente)\n",
        "\n",
        "## O mesmo deverá ser divido em duas partes\n",
        "\n",
        "> 1a parte - Toda análise no Colab\n",
        "\n",
        "> 2a parte - Aplicativo na WEB\n",
        "\n",
        "- Idade\n",
        "- Sexo\n",
        "- Valor de Despesa\n",
        "- Valor de receita\n",
        "- Estado civil\n",
        "- Raça\n",
        "- Ocupação\n",
        "- Partido\n",
        "- Escolaridade\n",
        "\n",
        "## Todos as etapas projeto deverá ser bem descrito/comentando.\n",
        "\n",
        "Pontos que serão avaliados:\n",
        "\n",
        "1. Obtenção da base dados\n",
        "2. Analise exploratória dos dados\n",
        "3. Gráficos de:\n",
        "   - Idade\n",
        "   - Sexo\n",
        "   - Valor de Despesa\n",
        "   - Valor de receita\n",
        "   - Estado civil\n",
        "   - Raça\n",
        "   - Ocupação\n",
        "   - Partido\n",
        "   - Escolaridade\n",
        "4. Preparação dos Dados\n",
        "5. Arquitetura da Rede Neural\n",
        "6. Acurácia do modelo\n",
        "7. Previsão de dados\n",
        "8. Layout da app Wev\n",
        "9. Resultado no App WEB\n",
        "   a. não é para treinar a rede novamente no Aplicativo\n",
        "\n",
        "## Detalhes\n",
        "\n",
        "- **3 Datasets:** https://www.tse.jus.br/eleicoes/estatisticas/repositorio-de-dados-eleitorais-1 > Prestação de contas eleitorais > 2020 > 3 Arquivos .zip\n",
        "- **Aluno:** Plínio Larrubia Ferreira de Moura\n",
        "\n",
        "## Observações:\n",
        "\n",
        "1. Só será aceito as avaliações dos alunos que comparecerem a aula do dia 09 de dezembro de 2021.\n",
        "2. A avaliação é individual.\n"
      ]
    },
    {
      "cell_type": "markdown",
      "metadata": {
        "id": "DJyh_BfHNz1_"
      },
      "source": [
        "## 0: Importação das bibliotecas\n"
      ]
    },
    {
      "cell_type": "code",
      "execution_count": 115,
      "metadata": {
        "id": "xMDVkEEdN2e-"
      },
      "outputs": [],
      "source": [
        "# Imports\n",
        "import matplotlib.pyplot as plt\n",
        "import os\n",
        "import numpy as np\n",
        "import pandas as pd\n",
        "import pickle\n",
        "import seaborn as sns\n",
        "import tensorflow as tf\n",
        "import zipfile\n",
        "from keras.callbacks import ModelCheckpoint\n",
        "from keras.layers import Dense\n",
        "from keras.layers import LSTM\n",
        "from keras.models import Sequential\n",
        "from sklearn.model_selection import train_test_split\n",
        "from sklearn.preprocessing import LabelEncoder\n",
        "from sklearn.preprocessing import MinMaxScaler\n"
      ]
    },
    {
      "cell_type": "markdown",
      "metadata": {
        "id": "kDYFw_DlOKH_"
      },
      "source": [
        "## 1: Carregamento e exploração da base de dados\n"
      ]
    },
    {
      "cell_type": "markdown",
      "metadata": {
        "id": "slvRbuL1tfTd"
      },
      "source": [
        "### Ler base da dados\n"
      ]
    },
    {
      "cell_type": "code",
      "execution_count": 59,
      "metadata": {
        "colab": {
          "base_uri": "https://localhost:8080/"
        },
        "id": "rqldhqgdOLxc",
        "outputId": "1847e568-ac92-4a98-92d2-47242864d8ec"
      },
      "outputs": [],
      "source": [
        "# from google.colab import drive\n",
        "# drive.mount('/content/drive')\n"
      ]
    },
    {
      "cell_type": "markdown",
      "metadata": {},
      "source": [
        "### Extraindo do `zip`, senão iria ficar muito grande\n"
      ]
    },
    {
      "cell_type": "code",
      "execution_count": 60,
      "metadata": {},
      "outputs": [],
      "source": [
        "path = 'data/eleicao.zip'\n",
        "zip_object = zipfile.ZipFile(file=path, mode='r')\n",
        "zip_object.extractall('./data')\n",
        "zip_object.close()\n"
      ]
    },
    {
      "cell_type": "code",
      "execution_count": 61,
      "metadata": {
        "id": "n00rRLpyOwEg"
      },
      "outputs": [],
      "source": [
        "# candidatos = pd.read_csv('/content/drive/MyDrive/ic/Eleicao/consulta_cand_2020_RJ.csv', sep=';', encoding=\"ISO-8859-1\")\n",
        "# receitas = pd.read_csv('/content/drive/MyDrive/ic/Eleicao/receitas_candidatos_2020_RJ.csv', sep=';', encoding=\"ISO-8859-1\")\n",
        "# despesas = pd.read_csv('/content/drive/MyDrive/ic/Eleicao/despesas_contratadas_candidatos_2020_RJ.csv', sep=';', encoding=\"ISO-8859-1\")\n",
        "\n",
        "candidatos = pd.read_csv('data/Plinio Larrubia Ferreira de Moura - consulta_cand_2020_RJ.csv', sep=';', encoding=\"latin1\")\n",
        "receitas = pd.read_csv('data/Plinio Larrubia Ferreira de Moura - receitas_candidatos_2020_RJ.csv', sep=';', encoding=\"latin1\")\n",
        "despesas = pd.read_csv('data/Plinio Larrubia Ferreira de Moura - despesas_contratadas_candidatos_2020_RJ.csv', sep=';', encoding=\"latin1\")\n"
      ]
    },
    {
      "cell_type": "code",
      "execution_count": 62,
      "metadata": {
        "colab": {
          "base_uri": "https://localhost:8080/"
        },
        "id": "02eP_6FJOENu",
        "outputId": "21b7d0ac-1045-4408-e7e5-52bd8ef59e44"
      },
      "outputs": [
        {
          "name": "stdout",
          "output_type": "stream",
          "text": [
            "<class 'pandas.core.frame.DataFrame'>\n",
            "RangeIndex: 26510 entries, 0 to 26509\n",
            "Data columns (total 32 columns):\n",
            " #   Column                        Non-Null Count  Dtype  \n",
            "---  ------                        --------------  -----  \n",
            " 0   SG_UE                         26510 non-null  int64  \n",
            " 1   NM_UE                         26510 non-null  object \n",
            " 2   CD_CARGO                      26510 non-null  int64  \n",
            " 3   DS_CARGO                      26510 non-null  object \n",
            " 4   NR_CANDIDATO                  26510 non-null  int64  \n",
            " 5   NM_CANDIDATO                  26510 non-null  object \n",
            " 6   NM_URNA_CANDIDATO             26510 non-null  object \n",
            " 7   NR_CPF_CANDIDATO              26510 non-null  int64  \n",
            " 8   NM_EMAIL                      26510 non-null  object \n",
            " 9   TP_AGREMIACAO                 26510 non-null  object \n",
            " 10  NR_PARTIDO                    26510 non-null  int64  \n",
            " 11  SG_PARTIDO                    26510 non-null  object \n",
            " 12  NM_PARTIDO                    26510 non-null  object \n",
            " 13  DS_COMPOSICAO_COLIGACAO       26510 non-null  object \n",
            " 14  CD_NACIONALIDADE              26510 non-null  int64  \n",
            " 15  NR_IDADE_DATA_POSSE           26510 non-null  int64  \n",
            " 16  DS_GENERO                     26510 non-null  object \n",
            " 17  DS_GRAU_INSTRUCAO             26510 non-null  object \n",
            " 18  DS_ESTADO_CIVIL               26510 non-null  object \n",
            " 19  DS_COR_RACA                   26510 non-null  object \n",
            " 20  DS_OCUPACAO                   26510 non-null  object \n",
            " 21  VR_DESPESA_MAX_CAMPANHA       26510 non-null  float64\n",
            " 22  DS_SIT_TOT_TURNO              26510 non-null  object \n",
            " 23  ST_REELEICAO                  26510 non-null  object \n",
            " 24  ST_DECLARAR_BENS              26510 non-null  object \n",
            " 25  NR_PROTOCOLO_CANDIDATURA      26510 non-null  int64  \n",
            " 26  NR_PROCESSO                   26510 non-null  object \n",
            " 27  CD_SITUACAO_CANDIDATO_PLEITO  26510 non-null  int64  \n",
            " 28  DS_SITUACAO_CANDIDATO_PLEITO  26510 non-null  object \n",
            " 29  CD_SITUACAO_CANDIDATO_URNA    26510 non-null  int64  \n",
            " 30  DS_SITUACAO_CANDIDATO_URNA    26510 non-null  object \n",
            " 31  ST_CANDIDATO_INSERIDO_URNA    26510 non-null  object \n",
            "dtypes: float64(1), int64(10), object(21)\n",
            "memory usage: 6.5+ MB\n"
          ]
        }
      ],
      "source": [
        "candidatos.info()"
      ]
    },
    {
      "cell_type": "code",
      "execution_count": 63,
      "metadata": {
        "colab": {
          "base_uri": "https://localhost:8080/"
        },
        "id": "E5hi5jzpOLud",
        "outputId": "440ed1d7-812b-45da-a652-e13ac5ce8e8d"
      },
      "outputs": [
        {
          "name": "stdout",
          "output_type": "stream",
          "text": [
            "<class 'pandas.core.frame.DataFrame'>\n",
            "RangeIndex: 111851 entries, 0 to 111850\n",
            "Data columns (total 57 columns):\n",
            " #   Column                       Non-Null Count   Dtype \n",
            "---  ------                       --------------   ----- \n",
            " 0   DT_GERACAO                   111851 non-null  object\n",
            " 1   HH_GERACAO                   111851 non-null  object\n",
            " 2   ANO_ELEICAO                  111851 non-null  int64 \n",
            " 3   CD_TIPO_ELEICAO              111851 non-null  int64 \n",
            " 4   NM_TIPO_ELEICAO              111851 non-null  object\n",
            " 5   CD_ELEICAO                   111851 non-null  int64 \n",
            " 6   DS_ELEICAO                   111851 non-null  object\n",
            " 7   DT_ELEICAO                   111851 non-null  object\n",
            " 8   ST_TURNO                     111851 non-null  int64 \n",
            " 9   TP_PRESTACAO_CONTAS          111851 non-null  object\n",
            " 10  DT_PRESTACAO_CONTAS          111851 non-null  object\n",
            " 11  SQ_PRESTADOR_CONTAS          111851 non-null  int64 \n",
            " 12  SG_UF                        111851 non-null  object\n",
            " 13  SG_UE                        111851 non-null  int64 \n",
            " 14  NM_UE                        111851 non-null  object\n",
            " 15  NR_CNPJ_PRESTADOR_CONTA      111851 non-null  int64 \n",
            " 16  CD_CARGO                     111851 non-null  int64 \n",
            " 17  DS_CARGO                     111851 non-null  object\n",
            " 18  SQ_CANDIDATO                 111851 non-null  int64 \n",
            " 19  NR_CANDIDATO                 111851 non-null  int64 \n",
            " 20  NM_CANDIDATO                 111851 non-null  object\n",
            " 21  NR_CPF_CANDIDATO             111851 non-null  int64 \n",
            " 22  NR_CPF_VICE_CANDIDATO        111851 non-null  int64 \n",
            " 23  NR_PARTIDO                   111851 non-null  int64 \n",
            " 24  SG_PARTIDO                   111851 non-null  object\n",
            " 25  NM_PARTIDO                   111851 non-null  object\n",
            " 26  CD_FONTE_RECEITA             111851 non-null  int64 \n",
            " 27  DS_FONTE_RECEITA             111851 non-null  object\n",
            " 28  CD_ORIGEM_RECEITA            111851 non-null  int64 \n",
            " 29  DS_ORIGEM_RECEITA            111851 non-null  object\n",
            " 30  CD_NATUREZA_RECEITA          111851 non-null  int64 \n",
            " 31  DS_NATUREZA_RECEITA          111851 non-null  object\n",
            " 32  CD_ESPECIE_RECEITA           111851 non-null  int64 \n",
            " 33  DS_ESPECIE_RECEITA           111851 non-null  object\n",
            " 34  CD_CNAE_DOADOR               111851 non-null  int64 \n",
            " 35  DS_CNAE_DOADOR               111851 non-null  object\n",
            " 36  NR_CPF_CNPJ_DOADOR           111851 non-null  int64 \n",
            " 37  NM_DOADOR                    111851 non-null  object\n",
            " 38  NM_DOADOR_RFB                111851 non-null  object\n",
            " 39  CD_ESFERA_PARTIDARIA_DOADOR  111851 non-null  object\n",
            " 40  DS_ESFERA_PARTIDARIA_DOADOR  111851 non-null  object\n",
            " 41  SG_UF_DOADOR                 111851 non-null  object\n",
            " 42  CD_MUNICIPIO_DOADOR          111851 non-null  int64 \n",
            " 43  NM_MUNICIPIO_DOADOR          111851 non-null  object\n",
            " 44  SQ_CANDIDATO_DOADOR          111851 non-null  int64 \n",
            " 45  NR_CANDIDATO_DOADOR          111851 non-null  int64 \n",
            " 46  CD_CARGO_CANDIDATO_DOADOR    111851 non-null  int64 \n",
            " 47  DS_CARGO_CANDIDATO_DOADOR    111851 non-null  object\n",
            " 48  NR_PARTIDO_DOADOR            111851 non-null  int64 \n",
            " 49  SG_PARTIDO_DOADOR            111851 non-null  object\n",
            " 50  NM_PARTIDO_DOADOR            111851 non-null  object\n",
            " 51  NR_RECIBO_DOACAO             111851 non-null  object\n",
            " 52  NR_DOCUMENTO_DOACAO          111850 non-null  object\n",
            " 53  SQ_RECEITA                   111851 non-null  int64 \n",
            " 54  DT_RECEITA                   111851 non-null  object\n",
            " 55  DS_RECEITA                   111851 non-null  object\n",
            " 56  VR_RECEITA                   111851 non-null  object\n",
            "dtypes: int64(25), object(32)\n",
            "memory usage: 48.6+ MB\n"
          ]
        }
      ],
      "source": [
        "receitas.info()"
      ]
    },
    {
      "cell_type": "code",
      "execution_count": 64,
      "metadata": {
        "colab": {
          "base_uri": "https://localhost:8080/"
        },
        "id": "lITFEEEWOU3W",
        "outputId": "c7c88f94-9602-4873-efb9-d36cce62c194"
      },
      "outputs": [
        {
          "name": "stdout",
          "output_type": "stream",
          "text": [
            "<class 'pandas.core.frame.DataFrame'>\n",
            "RangeIndex: 230112 entries, 0 to 230111\n",
            "Data columns (total 53 columns):\n",
            " #   Column                     Non-Null Count   Dtype \n",
            "---  ------                     --------------   ----- \n",
            " 0   DT_GERACAO                 230112 non-null  object\n",
            " 1   HH_GERACAO                 230112 non-null  object\n",
            " 2   ANO_ELEICAO                230112 non-null  int64 \n",
            " 3   CD_TIPO_ELEICAO            230112 non-null  int64 \n",
            " 4   NM_TIPO_ELEICAO            230112 non-null  object\n",
            " 5   CD_ELEICAO                 230112 non-null  int64 \n",
            " 6   DS_ELEICAO                 230112 non-null  object\n",
            " 7   DT_ELEICAO                 230112 non-null  object\n",
            " 8   ST_TURNO                   230112 non-null  int64 \n",
            " 9   TP_PRESTACAO_CONTAS        230112 non-null  object\n",
            " 10  DT_PRESTACAO_CONTAS        230112 non-null  object\n",
            " 11  SQ_PRESTADOR_CONTAS        230112 non-null  int64 \n",
            " 12  SG_UF                      230112 non-null  object\n",
            " 13  SG_UE                      230112 non-null  int64 \n",
            " 14  NM_UE                      230112 non-null  object\n",
            " 15  NR_CNPJ_PRESTADOR_CONTA    230112 non-null  int64 \n",
            " 16  CD_CARGO                   230112 non-null  int64 \n",
            " 17  DS_CARGO                   230112 non-null  object\n",
            " 18  SQ_CANDIDATO               230112 non-null  int64 \n",
            " 19  NR_CANDIDATO               230112 non-null  int64 \n",
            " 20  NM_CANDIDATO               230112 non-null  object\n",
            " 21  NR_CPF_CANDIDATO           230112 non-null  int64 \n",
            " 22  NR_CPF_VICE_CANDIDATO      230112 non-null  int64 \n",
            " 23  NR_PARTIDO                 230112 non-null  int64 \n",
            " 24  SG_PARTIDO                 230112 non-null  object\n",
            " 25  NM_PARTIDO                 230112 non-null  object\n",
            " 26  CD_TIPO_FORNECEDOR         230112 non-null  int64 \n",
            " 27  DS_TIPO_FORNECEDOR         230112 non-null  object\n",
            " 28  CD_CNAE_FORNECEDOR         230112 non-null  int64 \n",
            " 29  DS_CNAE_FORNECEDOR         230112 non-null  object\n",
            " 30  NR_CPF_CNPJ_FORNECEDOR     230112 non-null  int64 \n",
            " 31  NM_FORNECEDOR              230112 non-null  object\n",
            " 32  NM_FORNECEDOR_RFB          230112 non-null  object\n",
            " 33  CD_ESFERA_PART_FORNECEDOR  230112 non-null  int64 \n",
            " 34  DS_ESFERA_PART_FORNECEDOR  230112 non-null  object\n",
            " 35  SG_UF_FORNECEDOR           230112 non-null  object\n",
            " 36  CD_MUNICIPIO_FORNECEDOR    230112 non-null  int64 \n",
            " 37  NM_MUNICIPIO_FORNECEDOR    230112 non-null  object\n",
            " 38  SQ_CANDIDATO_FORNECEDOR    230112 non-null  int64 \n",
            " 39  NR_CANDIDATO_FORNECEDOR    230112 non-null  int64 \n",
            " 40  CD_CARGO_FORNECEDOR        230112 non-null  int64 \n",
            " 41  DS_CARGO_FORNECEDOR        230112 non-null  object\n",
            " 42  NR_PARTIDO_FORNECEDOR      230112 non-null  int64 \n",
            " 43  SG_PARTIDO_FORNECEDOR      230112 non-null  object\n",
            " 44  NM_PARTIDO_FORNECEDOR      230112 non-null  object\n",
            " 45  DS_TIPO_DOCUMENTO          230112 non-null  object\n",
            " 46  NR_DOCUMENTO               229971 non-null  object\n",
            " 47  CD_ORIGEM_DESPESA          230112 non-null  int64 \n",
            " 48  DS_ORIGEM_DESPESA          230112 non-null  object\n",
            " 49  SQ_DESPESA                 230112 non-null  int64 \n",
            " 50  DT_DESPESA                 230112 non-null  object\n",
            " 51  DS_DESPESA                 230112 non-null  object\n",
            " 52  VR_DESPESA_CONTRATADA      230112 non-null  object\n",
            "dtypes: int64(24), object(29)\n",
            "memory usage: 93.0+ MB\n"
          ]
        }
      ],
      "source": [
        "despesas.info()"
      ]
    },
    {
      "cell_type": "code",
      "execution_count": 65,
      "metadata": {
        "colab": {
          "base_uri": "https://localhost:8080/"
        },
        "id": "zUK3d1GgvSf6",
        "outputId": "f03b1c82-a9ee-41ef-ed72-d197837d08d0"
      },
      "outputs": [
        {
          "data": {
            "text/plain": [
              "Index(['SG_UE', 'NM_UE', 'CD_CARGO', 'DS_CARGO', 'NR_CANDIDATO',\n",
              "       'NM_CANDIDATO', 'NM_URNA_CANDIDATO', 'NR_CPF_CANDIDATO', 'NM_EMAIL',\n",
              "       'TP_AGREMIACAO', 'NR_PARTIDO', 'SG_PARTIDO', 'NM_PARTIDO',\n",
              "       'DS_COMPOSICAO_COLIGACAO', 'CD_NACIONALIDADE', 'NR_IDADE_DATA_POSSE',\n",
              "       'DS_GENERO', 'DS_GRAU_INSTRUCAO', 'DS_ESTADO_CIVIL', 'DS_COR_RACA',\n",
              "       'DS_OCUPACAO', 'VR_DESPESA_MAX_CAMPANHA', 'DS_SIT_TOT_TURNO',\n",
              "       'ST_REELEICAO', 'ST_DECLARAR_BENS', 'NR_PROTOCOLO_CANDIDATURA',\n",
              "       'NR_PROCESSO', 'CD_SITUACAO_CANDIDATO_PLEITO',\n",
              "       'DS_SITUACAO_CANDIDATO_PLEITO', 'CD_SITUACAO_CANDIDATO_URNA',\n",
              "       'DS_SITUACAO_CANDIDATO_URNA', 'ST_CANDIDATO_INSERIDO_URNA'],\n",
              "      dtype='object')"
            ]
          },
          "execution_count": 65,
          "metadata": {},
          "output_type": "execute_result"
        }
      ],
      "source": [
        "candidatos.columns\n"
      ]
    },
    {
      "cell_type": "code",
      "execution_count": 66,
      "metadata": {
        "id": "YyrvZbXjvbli"
      },
      "outputs": [],
      "source": [
        "# deletar colunas\n",
        "candidatos = candidatos.iloc[:, 0:23]\n",
        "candidatos.drop(['NM_URNA_CANDIDATO', 'SG_PARTIDO', 'VR_DESPESA_MAX_CAMPANHA'], axis=1, inplace=True)"
      ]
    },
    {
      "cell_type": "code",
      "execution_count": 67,
      "metadata": {
        "colab": {
          "base_uri": "https://localhost:8080/"
        },
        "id": "LAzNHx9Txs91",
        "outputId": "c38f6b33-e6e0-406d-8f2c-8891b49f3ec8"
      },
      "outputs": [
        {
          "data": {
            "text/plain": [
              "Index(['SG_UE', 'NM_UE', 'CD_CARGO', 'DS_CARGO', 'NR_CANDIDATO',\n",
              "       'NM_CANDIDATO', 'NR_CPF_CANDIDATO', 'NM_EMAIL', 'TP_AGREMIACAO',\n",
              "       'NR_PARTIDO', 'NM_PARTIDO', 'DS_COMPOSICAO_COLIGACAO',\n",
              "       'CD_NACIONALIDADE', 'NR_IDADE_DATA_POSSE', 'DS_GENERO',\n",
              "       'DS_GRAU_INSTRUCAO', 'DS_ESTADO_CIVIL', 'DS_COR_RACA', 'DS_OCUPACAO',\n",
              "       'DS_SIT_TOT_TURNO'],\n",
              "      dtype='object')"
            ]
          },
          "execution_count": 67,
          "metadata": {},
          "output_type": "execute_result"
        }
      ],
      "source": [
        "candidatos.columns\n"
      ]
    },
    {
      "cell_type": "code",
      "execution_count": 68,
      "metadata": {},
      "outputs": [
        {
          "data": {
            "text/plain": [
              "Index(['DT_GERACAO', 'HH_GERACAO', 'ANO_ELEICAO', 'CD_TIPO_ELEICAO',\n",
              "       'NM_TIPO_ELEICAO', 'CD_ELEICAO', 'DS_ELEICAO', 'DT_ELEICAO', 'ST_TURNO',\n",
              "       'TP_PRESTACAO_CONTAS', 'DT_PRESTACAO_CONTAS', 'SQ_PRESTADOR_CONTAS',\n",
              "       'SG_UF', 'SG_UE', 'NM_UE', 'NR_CNPJ_PRESTADOR_CONTA', 'CD_CARGO',\n",
              "       'DS_CARGO', 'SQ_CANDIDATO', 'NR_CANDIDATO', 'NM_CANDIDATO',\n",
              "       'NR_CPF_CANDIDATO', 'NR_CPF_VICE_CANDIDATO', 'NR_PARTIDO', 'SG_PARTIDO',\n",
              "       'NM_PARTIDO', 'CD_FONTE_RECEITA', 'DS_FONTE_RECEITA',\n",
              "       'CD_ORIGEM_RECEITA', 'DS_ORIGEM_RECEITA', 'CD_NATUREZA_RECEITA',\n",
              "       'DS_NATUREZA_RECEITA', 'CD_ESPECIE_RECEITA', 'DS_ESPECIE_RECEITA',\n",
              "       'CD_CNAE_DOADOR', 'DS_CNAE_DOADOR', 'NR_CPF_CNPJ_DOADOR', 'NM_DOADOR',\n",
              "       'NM_DOADOR_RFB', 'CD_ESFERA_PARTIDARIA_DOADOR',\n",
              "       'DS_ESFERA_PARTIDARIA_DOADOR', 'SG_UF_DOADOR', 'CD_MUNICIPIO_DOADOR',\n",
              "       'NM_MUNICIPIO_DOADOR', 'SQ_CANDIDATO_DOADOR', 'NR_CANDIDATO_DOADOR',\n",
              "       'CD_CARGO_CANDIDATO_DOADOR', 'DS_CARGO_CANDIDATO_DOADOR',\n",
              "       'NR_PARTIDO_DOADOR', 'SG_PARTIDO_DOADOR', 'NM_PARTIDO_DOADOR',\n",
              "       'NR_RECIBO_DOACAO', 'NR_DOCUMENTO_DOACAO', 'SQ_RECEITA', 'DT_RECEITA',\n",
              "       'DS_RECEITA', 'VR_RECEITA'],\n",
              "      dtype='object')"
            ]
          },
          "execution_count": 68,
          "metadata": {},
          "output_type": "execute_result"
        }
      ],
      "source": [
        "receitas.columns"
      ]
    },
    {
      "cell_type": "code",
      "execution_count": 69,
      "metadata": {},
      "outputs": [
        {
          "data": {
            "text/plain": [
              "Index(['DT_GERACAO', 'HH_GERACAO', 'ANO_ELEICAO', 'CD_TIPO_ELEICAO',\n",
              "       'NM_TIPO_ELEICAO', 'CD_ELEICAO', 'DS_ELEICAO', 'DT_ELEICAO', 'ST_TURNO',\n",
              "       'TP_PRESTACAO_CONTAS', 'DT_PRESTACAO_CONTAS', 'SQ_PRESTADOR_CONTAS',\n",
              "       'SG_UF', 'SG_UE', 'NM_UE', 'NR_CNPJ_PRESTADOR_CONTA', 'CD_CARGO',\n",
              "       'DS_CARGO', 'SQ_CANDIDATO', 'NR_CANDIDATO', 'NM_CANDIDATO',\n",
              "       'NR_CPF_CANDIDATO', 'NR_CPF_VICE_CANDIDATO', 'NR_PARTIDO', 'SG_PARTIDO',\n",
              "       'NM_PARTIDO', 'CD_TIPO_FORNECEDOR', 'DS_TIPO_FORNECEDOR',\n",
              "       'CD_CNAE_FORNECEDOR', 'DS_CNAE_FORNECEDOR', 'NR_CPF_CNPJ_FORNECEDOR',\n",
              "       'NM_FORNECEDOR', 'NM_FORNECEDOR_RFB', 'CD_ESFERA_PART_FORNECEDOR',\n",
              "       'DS_ESFERA_PART_FORNECEDOR', 'SG_UF_FORNECEDOR',\n",
              "       'CD_MUNICIPIO_FORNECEDOR', 'NM_MUNICIPIO_FORNECEDOR',\n",
              "       'SQ_CANDIDATO_FORNECEDOR', 'NR_CANDIDATO_FORNECEDOR',\n",
              "       'CD_CARGO_FORNECEDOR', 'DS_CARGO_FORNECEDOR', 'NR_PARTIDO_FORNECEDOR',\n",
              "       'SG_PARTIDO_FORNECEDOR', 'NM_PARTIDO_FORNECEDOR', 'DS_TIPO_DOCUMENTO',\n",
              "       'NR_DOCUMENTO', 'CD_ORIGEM_DESPESA', 'DS_ORIGEM_DESPESA', 'SQ_DESPESA',\n",
              "       'DT_DESPESA', 'DS_DESPESA', 'VR_DESPESA_CONTRATADA'],\n",
              "      dtype='object')"
            ]
          },
          "execution_count": 69,
          "metadata": {},
          "output_type": "execute_result"
        }
      ],
      "source": [
        "despesas.columns"
      ]
    },
    {
      "cell_type": "markdown",
      "metadata": {
        "id": "GsOZr08_tnaa"
      },
      "source": [
        "### Carregar apenas os dados do Municipio pelo Cargo\n"
      ]
    },
    {
      "cell_type": "markdown",
      "metadata": {
        "id": "KgxOKnzLMU2a"
      },
      "source": [
        "#### Criação de variável para `Cargo` e `Municipio`\n"
      ]
    },
    {
      "cell_type": "code",
      "execution_count": 70,
      "metadata": {
        "id": "XdWlT5EUp2j4"
      },
      "outputs": [],
      "source": [
        "cargo = 'VEREADOR'\n",
        "municipio = 'CAMPOS DOS GOYTACAZES'\n"
      ]
    },
    {
      "cell_type": "markdown",
      "metadata": {
        "id": "-nGRE8k9MedB"
      },
      "source": [
        "#### Criar `Dataframe` com somente Candidatos de Campos\n"
      ]
    },
    {
      "cell_type": "code",
      "execution_count": 71,
      "metadata": {
        "colab": {
          "base_uri": "https://localhost:8080/",
          "height": 808
        },
        "id": "Mqc86e1oMss4",
        "outputId": "1c56c776-7f68-40d7-c150-da266a75bf80"
      },
      "outputs": [
        {
          "data": {
            "text/html": [
              "<div>\n",
              "<style scoped>\n",
              "    .dataframe tbody tr th:only-of-type {\n",
              "        vertical-align: middle;\n",
              "    }\n",
              "\n",
              "    .dataframe tbody tr th {\n",
              "        vertical-align: top;\n",
              "    }\n",
              "\n",
              "    .dataframe thead th {\n",
              "        text-align: right;\n",
              "    }\n",
              "</style>\n",
              "<table border=\"1\" class=\"dataframe\">\n",
              "  <thead>\n",
              "    <tr style=\"text-align: right;\">\n",
              "      <th></th>\n",
              "      <th>SG_UE</th>\n",
              "      <th>NM_UE</th>\n",
              "      <th>CD_CARGO</th>\n",
              "      <th>DS_CARGO</th>\n",
              "      <th>NR_CANDIDATO</th>\n",
              "      <th>NM_CANDIDATO</th>\n",
              "      <th>NR_CPF_CANDIDATO</th>\n",
              "      <th>NM_EMAIL</th>\n",
              "      <th>TP_AGREMIACAO</th>\n",
              "      <th>NR_PARTIDO</th>\n",
              "      <th>NM_PARTIDO</th>\n",
              "      <th>DS_COMPOSICAO_COLIGACAO</th>\n",
              "      <th>CD_NACIONALIDADE</th>\n",
              "      <th>NR_IDADE_DATA_POSSE</th>\n",
              "      <th>DS_GENERO</th>\n",
              "      <th>DS_GRAU_INSTRUCAO</th>\n",
              "      <th>DS_ESTADO_CIVIL</th>\n",
              "      <th>DS_COR_RACA</th>\n",
              "      <th>DS_OCUPACAO</th>\n",
              "      <th>DS_SIT_TOT_TURNO</th>\n",
              "    </tr>\n",
              "  </thead>\n",
              "  <tbody>\n",
              "    <tr>\n",
              "      <th>32</th>\n",
              "      <td>58190</td>\n",
              "      <td>CAMPOS DOS GOYTACAZES</td>\n",
              "      <td>13</td>\n",
              "      <td>VEREADOR</td>\n",
              "      <td>55025</td>\n",
              "      <td>FRANÇOISE DA SILVA CIAFRINO</td>\n",
              "      <td>7072909702</td>\n",
              "      <td>ADVOCACIAELEITORAL2020@HOTMAIL.COM</td>\n",
              "      <td>PARTIDO ISOLADO</td>\n",
              "      <td>55</td>\n",
              "      <td>PARTIDO SOCIAL DEMOCRÁTICO</td>\n",
              "      <td>PSD</td>\n",
              "      <td>1</td>\n",
              "      <td>55</td>\n",
              "      <td>FEMININO</td>\n",
              "      <td>ENSINO MÉDIO COMPLETO</td>\n",
              "      <td>VIÚVO(A)</td>\n",
              "      <td>BRANCA</td>\n",
              "      <td>DONA DE CASA</td>\n",
              "      <td>SUPLENTE</td>\n",
              "    </tr>\n",
              "    <tr>\n",
              "      <th>67</th>\n",
              "      <td>58190</td>\n",
              "      <td>CAMPOS DOS GOYTACAZES</td>\n",
              "      <td>13</td>\n",
              "      <td>VEREADOR</td>\n",
              "      <td>70111</td>\n",
              "      <td>JOSÉ ARMANDO GOMES PIMENTA</td>\n",
              "      <td>709211724</td>\n",
              "      <td>AVANTEMUNICIPIOCAMPOS@GMAILCOM</td>\n",
              "      <td>PARTIDO ISOLADO</td>\n",
              "      <td>70</td>\n",
              "      <td>AVANTE</td>\n",
              "      <td>AVANTE</td>\n",
              "      <td>1</td>\n",
              "      <td>51</td>\n",
              "      <td>MASCULINO</td>\n",
              "      <td>ENSINO FUNDAMENTAL INCOMPLETO</td>\n",
              "      <td>CASADO(A)</td>\n",
              "      <td>PRETA</td>\n",
              "      <td>OUTROS</td>\n",
              "      <td>SUPLENTE</td>\n",
              "    </tr>\n",
              "    <tr>\n",
              "      <th>105</th>\n",
              "      <td>58190</td>\n",
              "      <td>CAMPOS DOS GOYTACAZES</td>\n",
              "      <td>13</td>\n",
              "      <td>VEREADOR</td>\n",
              "      <td>12555</td>\n",
              "      <td>JOSE CARLOS DIAS DA SILVA</td>\n",
              "      <td>99061929768</td>\n",
              "      <td>ELEICAOCAMPOS2020@GMAIL.COM</td>\n",
              "      <td>PARTIDO ISOLADO</td>\n",
              "      <td>12</td>\n",
              "      <td>PARTIDO DEMOCRÁTICO TRABALHISTA</td>\n",
              "      <td>PDT</td>\n",
              "      <td>1</td>\n",
              "      <td>56</td>\n",
              "      <td>MASCULINO</td>\n",
              "      <td>ENSINO FUNDAMENTAL COMPLETO</td>\n",
              "      <td>DIVORCIADO(A)</td>\n",
              "      <td>BRANCA</td>\n",
              "      <td>COMERCIANTE</td>\n",
              "      <td>SUPLENTE</td>\n",
              "    </tr>\n",
              "    <tr>\n",
              "      <th>108</th>\n",
              "      <td>58190</td>\n",
              "      <td>CAMPOS DOS GOYTACAZES</td>\n",
              "      <td>13</td>\n",
              "      <td>VEREADOR</td>\n",
              "      <td>18777</td>\n",
              "      <td>FREDERICO HENRIQUE GONÇALVES</td>\n",
              "      <td>9034045757</td>\n",
              "      <td>FRED.CARMEM@GMAIL.COM</td>\n",
              "      <td>PARTIDO ISOLADO</td>\n",
              "      <td>18</td>\n",
              "      <td>REDE SUSTENTABILIDADE</td>\n",
              "      <td>REDE</td>\n",
              "      <td>1</td>\n",
              "      <td>39</td>\n",
              "      <td>MASCULINO</td>\n",
              "      <td>ENSINO MÉDIO COMPLETO</td>\n",
              "      <td>CASADO(A)</td>\n",
              "      <td>BRANCA</td>\n",
              "      <td>SERVIDOR PÚBLICO MUNICIPAL</td>\n",
              "      <td>NÃO ELEITO</td>\n",
              "    </tr>\n",
              "    <tr>\n",
              "      <th>120</th>\n",
              "      <td>58190</td>\n",
              "      <td>CAMPOS DOS GOYTACAZES</td>\n",
              "      <td>13</td>\n",
              "      <td>VEREADOR</td>\n",
              "      <td>51999</td>\n",
              "      <td>EDIVALDO VIEIRA DE AZEVEDO</td>\n",
              "      <td>1768302782</td>\n",
              "      <td>ELEICAOCAMPOS2020@GMAIL.COM</td>\n",
              "      <td>PARTIDO ISOLADO</td>\n",
              "      <td>51</td>\n",
              "      <td>PATRIOTA</td>\n",
              "      <td>PATRIOTA</td>\n",
              "      <td>1</td>\n",
              "      <td>49</td>\n",
              "      <td>MASCULINO</td>\n",
              "      <td>SUPERIOR COMPLETO</td>\n",
              "      <td>DIVORCIADO(A)</td>\n",
              "      <td>BRANCA</td>\n",
              "      <td>FISIOTERAPEUTA E TERAPEUTA OCUPACIONAL</td>\n",
              "      <td>NÃO ELEITO</td>\n",
              "    </tr>\n",
              "    <tr>\n",
              "      <th>...</th>\n",
              "      <td>...</td>\n",
              "      <td>...</td>\n",
              "      <td>...</td>\n",
              "      <td>...</td>\n",
              "      <td>...</td>\n",
              "      <td>...</td>\n",
              "      <td>...</td>\n",
              "      <td>...</td>\n",
              "      <td>...</td>\n",
              "      <td>...</td>\n",
              "      <td>...</td>\n",
              "      <td>...</td>\n",
              "      <td>...</td>\n",
              "      <td>...</td>\n",
              "      <td>...</td>\n",
              "      <td>...</td>\n",
              "      <td>...</td>\n",
              "      <td>...</td>\n",
              "      <td>...</td>\n",
              "      <td>...</td>\n",
              "    </tr>\n",
              "    <tr>\n",
              "      <th>26380</th>\n",
              "      <td>58190</td>\n",
              "      <td>CAMPOS DOS GOYTACAZES</td>\n",
              "      <td>13</td>\n",
              "      <td>VEREADOR</td>\n",
              "      <td>27789</td>\n",
              "      <td>EDSON DOS SANTOS FARIA</td>\n",
              "      <td>83836187787</td>\n",
              "      <td>ELEICAOCAMPOS2020@GMAIL.COM</td>\n",
              "      <td>PARTIDO ISOLADO</td>\n",
              "      <td>27</td>\n",
              "      <td>DEMOCRACIA CRISTÃ</td>\n",
              "      <td>DC</td>\n",
              "      <td>1</td>\n",
              "      <td>55</td>\n",
              "      <td>MASCULINO</td>\n",
              "      <td>ENSINO MÉDIO COMPLETO</td>\n",
              "      <td>CASADO(A)</td>\n",
              "      <td>PARDA</td>\n",
              "      <td>POLICIAL MILITAR</td>\n",
              "      <td>NÃO ELEITO</td>\n",
              "    </tr>\n",
              "    <tr>\n",
              "      <th>26389</th>\n",
              "      <td>58190</td>\n",
              "      <td>CAMPOS DOS GOYTACAZES</td>\n",
              "      <td>13</td>\n",
              "      <td>VEREADOR</td>\n",
              "      <td>22789</td>\n",
              "      <td>RONALD CAMPOS MANHAES</td>\n",
              "      <td>86648829753</td>\n",
              "      <td>ELEICAOCAMPOS2020@GMAIL.COM</td>\n",
              "      <td>PARTIDO ISOLADO</td>\n",
              "      <td>22</td>\n",
              "      <td>PARTIDO LIBERAL</td>\n",
              "      <td>PL</td>\n",
              "      <td>1</td>\n",
              "      <td>55</td>\n",
              "      <td>MASCULINO</td>\n",
              "      <td>ENSINO FUNDAMENTAL INCOMPLETO</td>\n",
              "      <td>CASADO(A)</td>\n",
              "      <td>BRANCA</td>\n",
              "      <td>EMPRESÁRIO</td>\n",
              "      <td>SUPLENTE</td>\n",
              "    </tr>\n",
              "    <tr>\n",
              "      <th>26407</th>\n",
              "      <td>58190</td>\n",
              "      <td>CAMPOS DOS GOYTACAZES</td>\n",
              "      <td>13</td>\n",
              "      <td>VEREADOR</td>\n",
              "      <td>40369</td>\n",
              "      <td>CÁTIA MARIA DE OLIVEIRA DE MELLO</td>\n",
              "      <td>7899316723</td>\n",
              "      <td>CATIAMELLONUTRI@GMAIL.COM</td>\n",
              "      <td>PARTIDO ISOLADO</td>\n",
              "      <td>40</td>\n",
              "      <td>PARTIDO SOCIALISTA BRASILEIRO</td>\n",
              "      <td>PSB</td>\n",
              "      <td>1</td>\n",
              "      <td>43</td>\n",
              "      <td>FEMININO</td>\n",
              "      <td>SUPERIOR COMPLETO</td>\n",
              "      <td>CASADO(A)</td>\n",
              "      <td>PARDA</td>\n",
              "      <td>NUTRICIONISTA E ASSEMELHADOS</td>\n",
              "      <td>NÃO ELEITO</td>\n",
              "    </tr>\n",
              "    <tr>\n",
              "      <th>26411</th>\n",
              "      <td>58190</td>\n",
              "      <td>CAMPOS DOS GOYTACAZES</td>\n",
              "      <td>13</td>\n",
              "      <td>VEREADOR</td>\n",
              "      <td>33000</td>\n",
              "      <td>ZACARIAS TEIXEIRA PEREIRA</td>\n",
              "      <td>99058987787</td>\n",
              "      <td>PMN33CAMPOS@OUTLOOK.COM</td>\n",
              "      <td>PARTIDO ISOLADO</td>\n",
              "      <td>33</td>\n",
              "      <td>PARTIDO DA MOBILIZAÇÃO NACIONAL</td>\n",
              "      <td>PMN</td>\n",
              "      <td>1</td>\n",
              "      <td>53</td>\n",
              "      <td>MASCULINO</td>\n",
              "      <td>ENSINO FUNDAMENTAL COMPLETO</td>\n",
              "      <td>SOLTEIRO(A)</td>\n",
              "      <td>BRANCA</td>\n",
              "      <td>OUTROS</td>\n",
              "      <td>NÃO ELEITO</td>\n",
              "    </tr>\n",
              "    <tr>\n",
              "      <th>26458</th>\n",
              "      <td>58190</td>\n",
              "      <td>CAMPOS DOS GOYTACAZES</td>\n",
              "      <td>13</td>\n",
              "      <td>VEREADOR</td>\n",
              "      <td>12444</td>\n",
              "      <td>ALTAMIR  BARBARA JUNIOR</td>\n",
              "      <td>77852761704</td>\n",
              "      <td>ELEICAOCAMPOS2020@GMAIL.COM</td>\n",
              "      <td>PARTIDO ISOLADO</td>\n",
              "      <td>12</td>\n",
              "      <td>PARTIDO DEMOCRÁTICO TRABALHISTA</td>\n",
              "      <td>PDT</td>\n",
              "      <td>1</td>\n",
              "      <td>57</td>\n",
              "      <td>MASCULINO</td>\n",
              "      <td>SUPERIOR COMPLETO</td>\n",
              "      <td>CASADO(A)</td>\n",
              "      <td>BRANCA</td>\n",
              "      <td>EMPRESÁRIO</td>\n",
              "      <td>SUPLENTE</td>\n",
              "    </tr>\n",
              "  </tbody>\n",
              "</table>\n",
              "<p>818 rows × 20 columns</p>\n",
              "</div>"
            ],
            "text/plain": [
              "       SG_UE                  NM_UE  CD_CARGO  DS_CARGO  NR_CANDIDATO  \\\n",
              "32     58190  CAMPOS DOS GOYTACAZES        13  VEREADOR         55025   \n",
              "67     58190  CAMPOS DOS GOYTACAZES        13  VEREADOR         70111   \n",
              "105    58190  CAMPOS DOS GOYTACAZES        13  VEREADOR         12555   \n",
              "108    58190  CAMPOS DOS GOYTACAZES        13  VEREADOR         18777   \n",
              "120    58190  CAMPOS DOS GOYTACAZES        13  VEREADOR         51999   \n",
              "...      ...                    ...       ...       ...           ...   \n",
              "26380  58190  CAMPOS DOS GOYTACAZES        13  VEREADOR         27789   \n",
              "26389  58190  CAMPOS DOS GOYTACAZES        13  VEREADOR         22789   \n",
              "26407  58190  CAMPOS DOS GOYTACAZES        13  VEREADOR         40369   \n",
              "26411  58190  CAMPOS DOS GOYTACAZES        13  VEREADOR         33000   \n",
              "26458  58190  CAMPOS DOS GOYTACAZES        13  VEREADOR         12444   \n",
              "\n",
              "                           NM_CANDIDATO  NR_CPF_CANDIDATO  \\\n",
              "32          FRANÇOISE DA SILVA CIAFRINO        7072909702   \n",
              "67           JOSÉ ARMANDO GOMES PIMENTA         709211724   \n",
              "105           JOSE CARLOS DIAS DA SILVA       99061929768   \n",
              "108        FREDERICO HENRIQUE GONÇALVES        9034045757   \n",
              "120          EDIVALDO VIEIRA DE AZEVEDO        1768302782   \n",
              "...                                 ...               ...   \n",
              "26380            EDSON DOS SANTOS FARIA       83836187787   \n",
              "26389             RONALD CAMPOS MANHAES       86648829753   \n",
              "26407  CÁTIA MARIA DE OLIVEIRA DE MELLO        7899316723   \n",
              "26411         ZACARIAS TEIXEIRA PEREIRA       99058987787   \n",
              "26458           ALTAMIR  BARBARA JUNIOR       77852761704   \n",
              "\n",
              "                                 NM_EMAIL    TP_AGREMIACAO  NR_PARTIDO  \\\n",
              "32     ADVOCACIAELEITORAL2020@HOTMAIL.COM  PARTIDO ISOLADO          55   \n",
              "67         AVANTEMUNICIPIOCAMPOS@GMAILCOM  PARTIDO ISOLADO          70   \n",
              "105           ELEICAOCAMPOS2020@GMAIL.COM  PARTIDO ISOLADO          12   \n",
              "108                 FRED.CARMEM@GMAIL.COM  PARTIDO ISOLADO          18   \n",
              "120           ELEICAOCAMPOS2020@GMAIL.COM  PARTIDO ISOLADO          51   \n",
              "...                                   ...              ...         ...   \n",
              "26380         ELEICAOCAMPOS2020@GMAIL.COM  PARTIDO ISOLADO          27   \n",
              "26389         ELEICAOCAMPOS2020@GMAIL.COM  PARTIDO ISOLADO          22   \n",
              "26407           CATIAMELLONUTRI@GMAIL.COM  PARTIDO ISOLADO          40   \n",
              "26411             PMN33CAMPOS@OUTLOOK.COM  PARTIDO ISOLADO          33   \n",
              "26458         ELEICAOCAMPOS2020@GMAIL.COM  PARTIDO ISOLADO          12   \n",
              "\n",
              "                            NM_PARTIDO DS_COMPOSICAO_COLIGACAO  \\\n",
              "32          PARTIDO SOCIAL DEMOCRÁTICO                     PSD   \n",
              "67                              AVANTE                  AVANTE   \n",
              "105    PARTIDO DEMOCRÁTICO TRABALHISTA                     PDT   \n",
              "108              REDE SUSTENTABILIDADE                    REDE   \n",
              "120                           PATRIOTA                PATRIOTA   \n",
              "...                                ...                     ...   \n",
              "26380                DEMOCRACIA CRISTÃ                      DC   \n",
              "26389                  PARTIDO LIBERAL                      PL   \n",
              "26407    PARTIDO SOCIALISTA BRASILEIRO                     PSB   \n",
              "26411  PARTIDO DA MOBILIZAÇÃO NACIONAL                     PMN   \n",
              "26458  PARTIDO DEMOCRÁTICO TRABALHISTA                     PDT   \n",
              "\n",
              "       CD_NACIONALIDADE  NR_IDADE_DATA_POSSE  DS_GENERO  \\\n",
              "32                    1                   55   FEMININO   \n",
              "67                    1                   51  MASCULINO   \n",
              "105                   1                   56  MASCULINO   \n",
              "108                   1                   39  MASCULINO   \n",
              "120                   1                   49  MASCULINO   \n",
              "...                 ...                  ...        ...   \n",
              "26380                 1                   55  MASCULINO   \n",
              "26389                 1                   55  MASCULINO   \n",
              "26407                 1                   43   FEMININO   \n",
              "26411                 1                   53  MASCULINO   \n",
              "26458                 1                   57  MASCULINO   \n",
              "\n",
              "                   DS_GRAU_INSTRUCAO DS_ESTADO_CIVIL DS_COR_RACA  \\\n",
              "32             ENSINO MÉDIO COMPLETO        VIÚVO(A)      BRANCA   \n",
              "67     ENSINO FUNDAMENTAL INCOMPLETO       CASADO(A)       PRETA   \n",
              "105      ENSINO FUNDAMENTAL COMPLETO   DIVORCIADO(A)      BRANCA   \n",
              "108            ENSINO MÉDIO COMPLETO       CASADO(A)      BRANCA   \n",
              "120                SUPERIOR COMPLETO   DIVORCIADO(A)      BRANCA   \n",
              "...                              ...             ...         ...   \n",
              "26380          ENSINO MÉDIO COMPLETO       CASADO(A)       PARDA   \n",
              "26389  ENSINO FUNDAMENTAL INCOMPLETO       CASADO(A)      BRANCA   \n",
              "26407              SUPERIOR COMPLETO       CASADO(A)       PARDA   \n",
              "26411    ENSINO FUNDAMENTAL COMPLETO     SOLTEIRO(A)      BRANCA   \n",
              "26458              SUPERIOR COMPLETO       CASADO(A)      BRANCA   \n",
              "\n",
              "                                  DS_OCUPACAO DS_SIT_TOT_TURNO  \n",
              "32                               DONA DE CASA         SUPLENTE  \n",
              "67                                     OUTROS         SUPLENTE  \n",
              "105                               COMERCIANTE         SUPLENTE  \n",
              "108                SERVIDOR PÚBLICO MUNICIPAL       NÃO ELEITO  \n",
              "120    FISIOTERAPEUTA E TERAPEUTA OCUPACIONAL       NÃO ELEITO  \n",
              "...                                       ...              ...  \n",
              "26380                        POLICIAL MILITAR       NÃO ELEITO  \n",
              "26389                              EMPRESÁRIO         SUPLENTE  \n",
              "26407            NUTRICIONISTA E ASSEMELHADOS       NÃO ELEITO  \n",
              "26411                                  OUTROS       NÃO ELEITO  \n",
              "26458                              EMPRESÁRIO         SUPLENTE  \n",
              "\n",
              "[818 rows x 20 columns]"
            ]
          },
          "execution_count": 71,
          "metadata": {},
          "output_type": "execute_result"
        }
      ],
      "source": [
        "df_candidato_mun = candidatos.loc[(candidatos['NM_UE'] == municipio) & (candidatos['DS_CARGO'] == cargo)] # Candidatos de Campos\n",
        "df_candidato_mun\n"
      ]
    },
    {
      "cell_type": "code",
      "execution_count": 72,
      "metadata": {
        "colab": {
          "base_uri": "https://localhost:8080/",
          "height": 964
        },
        "id": "glXcKu1UM4ko",
        "outputId": "44bdf157-6409-483c-fcb4-24bf567b4c32"
      },
      "outputs": [
        {
          "data": {
            "text/html": [
              "<div>\n",
              "<style scoped>\n",
              "    .dataframe tbody tr th:only-of-type {\n",
              "        vertical-align: middle;\n",
              "    }\n",
              "\n",
              "    .dataframe tbody tr th {\n",
              "        vertical-align: top;\n",
              "    }\n",
              "\n",
              "    .dataframe thead th {\n",
              "        text-align: right;\n",
              "    }\n",
              "</style>\n",
              "<table border=\"1\" class=\"dataframe\">\n",
              "  <thead>\n",
              "    <tr style=\"text-align: right;\">\n",
              "      <th></th>\n",
              "      <th>DT_GERACAO</th>\n",
              "      <th>HH_GERACAO</th>\n",
              "      <th>ANO_ELEICAO</th>\n",
              "      <th>CD_TIPO_ELEICAO</th>\n",
              "      <th>NM_TIPO_ELEICAO</th>\n",
              "      <th>CD_ELEICAO</th>\n",
              "      <th>DS_ELEICAO</th>\n",
              "      <th>DT_ELEICAO</th>\n",
              "      <th>ST_TURNO</th>\n",
              "      <th>TP_PRESTACAO_CONTAS</th>\n",
              "      <th>...</th>\n",
              "      <th>DS_CARGO_CANDIDATO_DOADOR</th>\n",
              "      <th>NR_PARTIDO_DOADOR</th>\n",
              "      <th>SG_PARTIDO_DOADOR</th>\n",
              "      <th>NM_PARTIDO_DOADOR</th>\n",
              "      <th>NR_RECIBO_DOACAO</th>\n",
              "      <th>NR_DOCUMENTO_DOACAO</th>\n",
              "      <th>SQ_RECEITA</th>\n",
              "      <th>DT_RECEITA</th>\n",
              "      <th>DS_RECEITA</th>\n",
              "      <th>VR_RECEITA</th>\n",
              "    </tr>\n",
              "  </thead>\n",
              "  <tbody>\n",
              "    <tr>\n",
              "      <th>18</th>\n",
              "      <td>08/12/2021</td>\n",
              "      <td>22:20:30</td>\n",
              "      <td>2020</td>\n",
              "      <td>2</td>\n",
              "      <td>Ordinária</td>\n",
              "      <td>426</td>\n",
              "      <td>Eleições Municipais 2020</td>\n",
              "      <td>15/11/2020</td>\n",
              "      <td>1</td>\n",
              "      <td>Final</td>\n",
              "      <td>...</td>\n",
              "      <td>#NULO#</td>\n",
              "      <td>-1</td>\n",
              "      <td>#NULO#</td>\n",
              "      <td>#NULO#</td>\n",
              "      <td>452221358190RJ000001E</td>\n",
              "      <td>618.087.680</td>\n",
              "      <td>20066154</td>\n",
              "      <td>02/10/2020</td>\n",
              "      <td>#NULO#</td>\n",
              "      <td>1000,00</td>\n",
              "    </tr>\n",
              "    <tr>\n",
              "      <th>19</th>\n",
              "      <td>08/12/2021</td>\n",
              "      <td>22:20:30</td>\n",
              "      <td>2020</td>\n",
              "      <td>2</td>\n",
              "      <td>Ordinária</td>\n",
              "      <td>426</td>\n",
              "      <td>Eleições Municipais 2020</td>\n",
              "      <td>15/11/2020</td>\n",
              "      <td>1</td>\n",
              "      <td>Final</td>\n",
              "      <td>...</td>\n",
              "      <td>#NULO#</td>\n",
              "      <td>-1</td>\n",
              "      <td>#NULO#</td>\n",
              "      <td>#NULO#</td>\n",
              "      <td>452221358190RJ000002E</td>\n",
              "      <td>677017917</td>\n",
              "      <td>20066153</td>\n",
              "      <td>15/10/2020</td>\n",
              "      <td>#NULO#</td>\n",
              "      <td>1000,00</td>\n",
              "    </tr>\n",
              "    <tr>\n",
              "      <th>20</th>\n",
              "      <td>08/12/2021</td>\n",
              "      <td>22:20:30</td>\n",
              "      <td>2020</td>\n",
              "      <td>2</td>\n",
              "      <td>Ordinária</td>\n",
              "      <td>426</td>\n",
              "      <td>Eleições Municipais 2020</td>\n",
              "      <td>15/11/2020</td>\n",
              "      <td>1</td>\n",
              "      <td>Final</td>\n",
              "      <td>...</td>\n",
              "      <td>#NULO#</td>\n",
              "      <td>-1</td>\n",
              "      <td>#NULO#</td>\n",
              "      <td>#NULO#</td>\n",
              "      <td>452221358190RJ000003E</td>\n",
              "      <td>36405912</td>\n",
              "      <td>20066152</td>\n",
              "      <td>19/10/2020</td>\n",
              "      <td>#NULO#</td>\n",
              "      <td>1000,00</td>\n",
              "    </tr>\n",
              "    <tr>\n",
              "      <th>212</th>\n",
              "      <td>08/12/2021</td>\n",
              "      <td>22:20:30</td>\n",
              "      <td>2020</td>\n",
              "      <td>2</td>\n",
              "      <td>Ordinária</td>\n",
              "      <td>426</td>\n",
              "      <td>Eleições Municipais 2020</td>\n",
              "      <td>15/11/2020</td>\n",
              "      <td>1</td>\n",
              "      <td>Final</td>\n",
              "      <td>...</td>\n",
              "      <td>#NULO#</td>\n",
              "      <td>-1</td>\n",
              "      <td>#NULO#</td>\n",
              "      <td>#NULO#</td>\n",
              "      <td>157891358190RJ000004E</td>\n",
              "      <td>CAF98FECC34428F9</td>\n",
              "      <td>18650995</td>\n",
              "      <td>15/10/2020</td>\n",
              "      <td>#NULO#</td>\n",
              "      <td>1000,00</td>\n",
              "    </tr>\n",
              "    <tr>\n",
              "      <th>251</th>\n",
              "      <td>08/12/2021</td>\n",
              "      <td>22:20:30</td>\n",
              "      <td>2020</td>\n",
              "      <td>2</td>\n",
              "      <td>Ordinária</td>\n",
              "      <td>426</td>\n",
              "      <td>Eleições Municipais 2020</td>\n",
              "      <td>15/11/2020</td>\n",
              "      <td>1</td>\n",
              "      <td>Final</td>\n",
              "      <td>...</td>\n",
              "      <td>#NULO#</td>\n",
              "      <td>-1</td>\n",
              "      <td>#NULO#</td>\n",
              "      <td>#NULO#</td>\n",
              "      <td>140001358190RJ000076E</td>\n",
              "      <td>#NULO#</td>\n",
              "      <td>18117116</td>\n",
              "      <td>06/11/2020</td>\n",
              "      <td>DOAÇÃO SERVIÇOS DE APOIO</td>\n",
              "      <td>200,00</td>\n",
              "    </tr>\n",
              "    <tr>\n",
              "      <th>...</th>\n",
              "      <td>...</td>\n",
              "      <td>...</td>\n",
              "      <td>...</td>\n",
              "      <td>...</td>\n",
              "      <td>...</td>\n",
              "      <td>...</td>\n",
              "      <td>...</td>\n",
              "      <td>...</td>\n",
              "      <td>...</td>\n",
              "      <td>...</td>\n",
              "      <td>...</td>\n",
              "      <td>...</td>\n",
              "      <td>...</td>\n",
              "      <td>...</td>\n",
              "      <td>...</td>\n",
              "      <td>...</td>\n",
              "      <td>...</td>\n",
              "      <td>...</td>\n",
              "      <td>...</td>\n",
              "      <td>...</td>\n",
              "      <td>...</td>\n",
              "    </tr>\n",
              "    <tr>\n",
              "      <th>107449</th>\n",
              "      <td>08/12/2021</td>\n",
              "      <td>22:20:30</td>\n",
              "      <td>2020</td>\n",
              "      <td>2</td>\n",
              "      <td>Ordinária</td>\n",
              "      <td>426</td>\n",
              "      <td>Eleições Municipais 2020</td>\n",
              "      <td>15/11/2020</td>\n",
              "      <td>1</td>\n",
              "      <td>Final</td>\n",
              "      <td>...</td>\n",
              "      <td>#NULO#</td>\n",
              "      <td>-1</td>\n",
              "      <td>#NULO#</td>\n",
              "      <td>#NULO#</td>\n",
              "      <td>176801358190RJ000011E</td>\n",
              "      <td>950683</td>\n",
              "      <td>18278789</td>\n",
              "      <td>08/12/2020</td>\n",
              "      <td>#NULO#</td>\n",
              "      <td>223,40</td>\n",
              "    </tr>\n",
              "    <tr>\n",
              "      <th>110575</th>\n",
              "      <td>08/12/2021</td>\n",
              "      <td>22:20:30</td>\n",
              "      <td>2020</td>\n",
              "      <td>2</td>\n",
              "      <td>Ordinária</td>\n",
              "      <td>426</td>\n",
              "      <td>Eleições Municipais 2020</td>\n",
              "      <td>15/11/2020</td>\n",
              "      <td>1</td>\n",
              "      <td>Final</td>\n",
              "      <td>...</td>\n",
              "      <td>#NULO#</td>\n",
              "      <td>-1</td>\n",
              "      <td>#NULO#</td>\n",
              "      <td>#NULO#</td>\n",
              "      <td>123001358190RJ000006E</td>\n",
              "      <td>CAB72343463086</td>\n",
              "      <td>17676810</td>\n",
              "      <td>03/11/2020</td>\n",
              "      <td>#NULO#</td>\n",
              "      <td>350,00</td>\n",
              "    </tr>\n",
              "    <tr>\n",
              "      <th>110674</th>\n",
              "      <td>08/12/2021</td>\n",
              "      <td>22:20:30</td>\n",
              "      <td>2020</td>\n",
              "      <td>2</td>\n",
              "      <td>Ordinária</td>\n",
              "      <td>426</td>\n",
              "      <td>Eleições Municipais 2020</td>\n",
              "      <td>15/11/2020</td>\n",
              "      <td>1</td>\n",
              "      <td>Final</td>\n",
              "      <td>...</td>\n",
              "      <td>#NULO#</td>\n",
              "      <td>-1</td>\n",
              "      <td>#NULO#</td>\n",
              "      <td>#NULO#</td>\n",
              "      <td>700001358190RJ000008E</td>\n",
              "      <td>#NULO#</td>\n",
              "      <td>19062328</td>\n",
              "      <td>23/10/2020</td>\n",
              "      <td>PRODUÇÃO DE JINGLE</td>\n",
              "      <td>200,00</td>\n",
              "    </tr>\n",
              "    <tr>\n",
              "      <th>110675</th>\n",
              "      <td>08/12/2021</td>\n",
              "      <td>22:20:30</td>\n",
              "      <td>2020</td>\n",
              "      <td>2</td>\n",
              "      <td>Ordinária</td>\n",
              "      <td>426</td>\n",
              "      <td>Eleições Municipais 2020</td>\n",
              "      <td>15/11/2020</td>\n",
              "      <td>1</td>\n",
              "      <td>Final</td>\n",
              "      <td>...</td>\n",
              "      <td>#NULO#</td>\n",
              "      <td>-1</td>\n",
              "      <td>#NULO#</td>\n",
              "      <td>#NULO#</td>\n",
              "      <td>122001358190RJ000005E</td>\n",
              "      <td>#NULO#</td>\n",
              "      <td>18085594</td>\n",
              "      <td>27/09/2020</td>\n",
              "      <td>PRODUÇAO DE JINGLE PARA CAMPANHA ELEITORAL</td>\n",
              "      <td>1000,00</td>\n",
              "    </tr>\n",
              "    <tr>\n",
              "      <th>110695</th>\n",
              "      <td>08/12/2021</td>\n",
              "      <td>22:20:30</td>\n",
              "      <td>2020</td>\n",
              "      <td>2</td>\n",
              "      <td>Ordinária</td>\n",
              "      <td>426</td>\n",
              "      <td>Eleições Municipais 2020</td>\n",
              "      <td>15/11/2020</td>\n",
              "      <td>1</td>\n",
              "      <td>Final</td>\n",
              "      <td>...</td>\n",
              "      <td>#NULO#</td>\n",
              "      <td>-1</td>\n",
              "      <td>#NULO#</td>\n",
              "      <td>#NULO#</td>\n",
              "      <td>553451358190RJ000001E</td>\n",
              "      <td>8345092</td>\n",
              "      <td>19469699</td>\n",
              "      <td>30/10/2020</td>\n",
              "      <td>#NULO#</td>\n",
              "      <td>1012,00</td>\n",
              "    </tr>\n",
              "  </tbody>\n",
              "</table>\n",
              "<p>5888 rows × 57 columns</p>\n",
              "</div>"
            ],
            "text/plain": [
              "        DT_GERACAO HH_GERACAO  ANO_ELEICAO  CD_TIPO_ELEICAO NM_TIPO_ELEICAO  \\\n",
              "18      08/12/2021   22:20:30         2020                2       Ordinária   \n",
              "19      08/12/2021   22:20:30         2020                2       Ordinária   \n",
              "20      08/12/2021   22:20:30         2020                2       Ordinária   \n",
              "212     08/12/2021   22:20:30         2020                2       Ordinária   \n",
              "251     08/12/2021   22:20:30         2020                2       Ordinária   \n",
              "...            ...        ...          ...              ...             ...   \n",
              "107449  08/12/2021   22:20:30         2020                2       Ordinária   \n",
              "110575  08/12/2021   22:20:30         2020                2       Ordinária   \n",
              "110674  08/12/2021   22:20:30         2020                2       Ordinária   \n",
              "110675  08/12/2021   22:20:30         2020                2       Ordinária   \n",
              "110695  08/12/2021   22:20:30         2020                2       Ordinária   \n",
              "\n",
              "        CD_ELEICAO                DS_ELEICAO  DT_ELEICAO  ST_TURNO  \\\n",
              "18             426  Eleições Municipais 2020  15/11/2020         1   \n",
              "19             426  Eleições Municipais 2020  15/11/2020         1   \n",
              "20             426  Eleições Municipais 2020  15/11/2020         1   \n",
              "212            426  Eleições Municipais 2020  15/11/2020         1   \n",
              "251            426  Eleições Municipais 2020  15/11/2020         1   \n",
              "...            ...                       ...         ...       ...   \n",
              "107449         426  Eleições Municipais 2020  15/11/2020         1   \n",
              "110575         426  Eleições Municipais 2020  15/11/2020         1   \n",
              "110674         426  Eleições Municipais 2020  15/11/2020         1   \n",
              "110675         426  Eleições Municipais 2020  15/11/2020         1   \n",
              "110695         426  Eleições Municipais 2020  15/11/2020         1   \n",
              "\n",
              "       TP_PRESTACAO_CONTAS  ... DS_CARGO_CANDIDATO_DOADOR  NR_PARTIDO_DOADOR  \\\n",
              "18                   Final  ...                    #NULO#                 -1   \n",
              "19                   Final  ...                    #NULO#                 -1   \n",
              "20                   Final  ...                    #NULO#                 -1   \n",
              "212                  Final  ...                    #NULO#                 -1   \n",
              "251                  Final  ...                    #NULO#                 -1   \n",
              "...                    ...  ...                       ...                ...   \n",
              "107449               Final  ...                    #NULO#                 -1   \n",
              "110575               Final  ...                    #NULO#                 -1   \n",
              "110674               Final  ...                    #NULO#                 -1   \n",
              "110675               Final  ...                    #NULO#                 -1   \n",
              "110695               Final  ...                    #NULO#                 -1   \n",
              "\n",
              "       SG_PARTIDO_DOADOR  NM_PARTIDO_DOADOR       NR_RECIBO_DOACAO  \\\n",
              "18                #NULO#             #NULO#  452221358190RJ000001E   \n",
              "19                #NULO#             #NULO#  452221358190RJ000002E   \n",
              "20                #NULO#             #NULO#  452221358190RJ000003E   \n",
              "212               #NULO#             #NULO#  157891358190RJ000004E   \n",
              "251               #NULO#             #NULO#  140001358190RJ000076E   \n",
              "...                  ...                ...                    ...   \n",
              "107449            #NULO#             #NULO#  176801358190RJ000011E   \n",
              "110575            #NULO#             #NULO#  123001358190RJ000006E   \n",
              "110674            #NULO#             #NULO#  700001358190RJ000008E   \n",
              "110675            #NULO#             #NULO#  122001358190RJ000005E   \n",
              "110695            #NULO#             #NULO#  553451358190RJ000001E   \n",
              "\n",
              "        NR_DOCUMENTO_DOACAO  SQ_RECEITA  DT_RECEITA  \\\n",
              "18              618.087.680    20066154  02/10/2020   \n",
              "19                677017917    20066153  15/10/2020   \n",
              "20                 36405912    20066152  19/10/2020   \n",
              "212        CAF98FECC34428F9    18650995  15/10/2020   \n",
              "251                  #NULO#    18117116  06/11/2020   \n",
              "...                     ...         ...         ...   \n",
              "107449               950683    18278789  08/12/2020   \n",
              "110575       CAB72343463086    17676810  03/11/2020   \n",
              "110674               #NULO#    19062328  23/10/2020   \n",
              "110675               #NULO#    18085594  27/09/2020   \n",
              "110695              8345092    19469699  30/10/2020   \n",
              "\n",
              "                                         DS_RECEITA  VR_RECEITA  \n",
              "18                                           #NULO#     1000,00  \n",
              "19                                           #NULO#     1000,00  \n",
              "20                                           #NULO#     1000,00  \n",
              "212                                          #NULO#     1000,00  \n",
              "251                        DOAÇÃO SERVIÇOS DE APOIO      200,00  \n",
              "...                                             ...         ...  \n",
              "107449                                       #NULO#      223,40  \n",
              "110575                                       #NULO#      350,00  \n",
              "110674                           PRODUÇÃO DE JINGLE      200,00  \n",
              "110675  PRODUÇAO DE JINGLE PARA CAMPANHA ELEITORAL      1000,00  \n",
              "110695                                       #NULO#     1012,00  \n",
              "\n",
              "[5888 rows x 57 columns]"
            ]
          },
          "execution_count": 72,
          "metadata": {},
          "output_type": "execute_result"
        }
      ],
      "source": [
        "df_receita_mun = receitas.loc[(receitas['NM_UE'] == municipio) & (receitas['DS_CARGO'] == 'Vereador')] # Receitas de Candidatos de Campos\n",
        "df_receita_mun\n"
      ]
    },
    {
      "cell_type": "code",
      "execution_count": 73,
      "metadata": {
        "colab": {
          "base_uri": "https://localhost:8080/",
          "height": 843
        },
        "id": "hreA48pSM_jR",
        "outputId": "e2ab36ae-49c6-4dc2-ce84-f7ff2c745959"
      },
      "outputs": [
        {
          "data": {
            "text/html": [
              "<div>\n",
              "<style scoped>\n",
              "    .dataframe tbody tr th:only-of-type {\n",
              "        vertical-align: middle;\n",
              "    }\n",
              "\n",
              "    .dataframe tbody tr th {\n",
              "        vertical-align: top;\n",
              "    }\n",
              "\n",
              "    .dataframe thead th {\n",
              "        text-align: right;\n",
              "    }\n",
              "</style>\n",
              "<table border=\"1\" class=\"dataframe\">\n",
              "  <thead>\n",
              "    <tr style=\"text-align: right;\">\n",
              "      <th></th>\n",
              "      <th>DT_GERACAO</th>\n",
              "      <th>HH_GERACAO</th>\n",
              "      <th>ANO_ELEICAO</th>\n",
              "      <th>CD_TIPO_ELEICAO</th>\n",
              "      <th>NM_TIPO_ELEICAO</th>\n",
              "      <th>CD_ELEICAO</th>\n",
              "      <th>DS_ELEICAO</th>\n",
              "      <th>DT_ELEICAO</th>\n",
              "      <th>ST_TURNO</th>\n",
              "      <th>TP_PRESTACAO_CONTAS</th>\n",
              "      <th>...</th>\n",
              "      <th>SG_PARTIDO_FORNECEDOR</th>\n",
              "      <th>NM_PARTIDO_FORNECEDOR</th>\n",
              "      <th>DS_TIPO_DOCUMENTO</th>\n",
              "      <th>NR_DOCUMENTO</th>\n",
              "      <th>CD_ORIGEM_DESPESA</th>\n",
              "      <th>DS_ORIGEM_DESPESA</th>\n",
              "      <th>SQ_DESPESA</th>\n",
              "      <th>DT_DESPESA</th>\n",
              "      <th>DS_DESPESA</th>\n",
              "      <th>VR_DESPESA_CONTRATADA</th>\n",
              "    </tr>\n",
              "  </thead>\n",
              "  <tbody>\n",
              "    <tr>\n",
              "      <th>81</th>\n",
              "      <td>08/12/2021</td>\n",
              "      <td>22:16:37</td>\n",
              "      <td>2020</td>\n",
              "      <td>2</td>\n",
              "      <td>Ordinária</td>\n",
              "      <td>426</td>\n",
              "      <td>Eleições Municipais 2020</td>\n",
              "      <td>15/11/2020</td>\n",
              "      <td>1</td>\n",
              "      <td>Final</td>\n",
              "      <td>...</td>\n",
              "      <td>#NULO#</td>\n",
              "      <td>#NULO#</td>\n",
              "      <td>Nota Fiscal</td>\n",
              "      <td>1781</td>\n",
              "      <td>20140000</td>\n",
              "      <td>Publicidade por materiais impressos</td>\n",
              "      <td>36285722</td>\n",
              "      <td>04/11/2020</td>\n",
              "      <td>ADESIVOS PERFURADOS 0·60X0·25</td>\n",
              "      <td>350,00</td>\n",
              "    </tr>\n",
              "    <tr>\n",
              "      <th>82</th>\n",
              "      <td>08/12/2021</td>\n",
              "      <td>22:16:37</td>\n",
              "      <td>2020</td>\n",
              "      <td>2</td>\n",
              "      <td>Ordinária</td>\n",
              "      <td>426</td>\n",
              "      <td>Eleições Municipais 2020</td>\n",
              "      <td>15/11/2020</td>\n",
              "      <td>1</td>\n",
              "      <td>Final</td>\n",
              "      <td>...</td>\n",
              "      <td>#NULO#</td>\n",
              "      <td>#NULO#</td>\n",
              "      <td>Nota Fiscal</td>\n",
              "      <td>1781</td>\n",
              "      <td>20140000</td>\n",
              "      <td>Publicidade por materiais impressos</td>\n",
              "      <td>36285722</td>\n",
              "      <td>04/11/2020</td>\n",
              "      <td>ADESIVOS 40X12</td>\n",
              "      <td>120,00</td>\n",
              "    </tr>\n",
              "    <tr>\n",
              "      <th>83</th>\n",
              "      <td>08/12/2021</td>\n",
              "      <td>22:16:37</td>\n",
              "      <td>2020</td>\n",
              "      <td>2</td>\n",
              "      <td>Ordinária</td>\n",
              "      <td>426</td>\n",
              "      <td>Eleições Municipais 2020</td>\n",
              "      <td>15/11/2020</td>\n",
              "      <td>1</td>\n",
              "      <td>Final</td>\n",
              "      <td>...</td>\n",
              "      <td>#NULO#</td>\n",
              "      <td>#NULO#</td>\n",
              "      <td>Nota Fiscal</td>\n",
              "      <td>1781</td>\n",
              "      <td>20140000</td>\n",
              "      <td>Publicidade por materiais impressos</td>\n",
              "      <td>36285722</td>\n",
              "      <td>04/11/2020</td>\n",
              "      <td>ADESIVOS 0·80X0·80</td>\n",
              "      <td>130,00</td>\n",
              "    </tr>\n",
              "    <tr>\n",
              "      <th>157</th>\n",
              "      <td>08/12/2021</td>\n",
              "      <td>22:16:37</td>\n",
              "      <td>2020</td>\n",
              "      <td>2</td>\n",
              "      <td>Ordinária</td>\n",
              "      <td>426</td>\n",
              "      <td>Eleições Municipais 2020</td>\n",
              "      <td>15/11/2020</td>\n",
              "      <td>1</td>\n",
              "      <td>Final</td>\n",
              "      <td>...</td>\n",
              "      <td>#NULO#</td>\n",
              "      <td>#NULO#</td>\n",
              "      <td>Outro</td>\n",
              "      <td>0005</td>\n",
              "      <td>20120000</td>\n",
              "      <td>Serviços prestados por terceiros</td>\n",
              "      <td>34270369</td>\n",
              "      <td>31/10/2020</td>\n",
              "      <td>SERVIÇOS PRESTADOS NA FUNÇÃO DE CABO ELEITORAL</td>\n",
              "      <td>200,00</td>\n",
              "    </tr>\n",
              "    <tr>\n",
              "      <th>205</th>\n",
              "      <td>08/12/2021</td>\n",
              "      <td>22:16:37</td>\n",
              "      <td>2020</td>\n",
              "      <td>2</td>\n",
              "      <td>Ordinária</td>\n",
              "      <td>426</td>\n",
              "      <td>Eleições Municipais 2020</td>\n",
              "      <td>15/11/2020</td>\n",
              "      <td>1</td>\n",
              "      <td>Final</td>\n",
              "      <td>...</td>\n",
              "      <td>#NULO#</td>\n",
              "      <td>#NULO#</td>\n",
              "      <td>Nota Fiscal</td>\n",
              "      <td>56</td>\n",
              "      <td>20140000</td>\n",
              "      <td>Publicidade por materiais impressos</td>\n",
              "      <td>36776380</td>\n",
              "      <td>20/10/2020</td>\n",
              "      <td>SANTINHOS 10X7CM - 4/1 CORES</td>\n",
              "      <td>1000,00</td>\n",
              "    </tr>\n",
              "    <tr>\n",
              "      <th>...</th>\n",
              "      <td>...</td>\n",
              "      <td>...</td>\n",
              "      <td>...</td>\n",
              "      <td>...</td>\n",
              "      <td>...</td>\n",
              "      <td>...</td>\n",
              "      <td>...</td>\n",
              "      <td>...</td>\n",
              "      <td>...</td>\n",
              "      <td>...</td>\n",
              "      <td>...</td>\n",
              "      <td>...</td>\n",
              "      <td>...</td>\n",
              "      <td>...</td>\n",
              "      <td>...</td>\n",
              "      <td>...</td>\n",
              "      <td>...</td>\n",
              "      <td>...</td>\n",
              "      <td>...</td>\n",
              "      <td>...</td>\n",
              "      <td>...</td>\n",
              "    </tr>\n",
              "    <tr>\n",
              "      <th>229965</th>\n",
              "      <td>08/12/2021</td>\n",
              "      <td>22:16:37</td>\n",
              "      <td>2020</td>\n",
              "      <td>2</td>\n",
              "      <td>Ordinária</td>\n",
              "      <td>426</td>\n",
              "      <td>Eleições Municipais 2020</td>\n",
              "      <td>15/11/2020</td>\n",
              "      <td>1</td>\n",
              "      <td>Final</td>\n",
              "      <td>...</td>\n",
              "      <td>#NULO#</td>\n",
              "      <td>#NULO#</td>\n",
              "      <td>Nota Fiscal</td>\n",
              "      <td>1700</td>\n",
              "      <td>20110000</td>\n",
              "      <td>Publicidade por adesivos</td>\n",
              "      <td>39020954</td>\n",
              "      <td>16/10/2020</td>\n",
              "      <td>BANDEIRAS 1·00X0·70</td>\n",
              "      <td>300,00</td>\n",
              "    </tr>\n",
              "    <tr>\n",
              "      <th>229966</th>\n",
              "      <td>08/12/2021</td>\n",
              "      <td>22:16:37</td>\n",
              "      <td>2020</td>\n",
              "      <td>2</td>\n",
              "      <td>Ordinária</td>\n",
              "      <td>426</td>\n",
              "      <td>Eleições Municipais 2020</td>\n",
              "      <td>15/11/2020</td>\n",
              "      <td>1</td>\n",
              "      <td>Final</td>\n",
              "      <td>...</td>\n",
              "      <td>#NULO#</td>\n",
              "      <td>#NULO#</td>\n",
              "      <td>Nota Fiscal</td>\n",
              "      <td>1700</td>\n",
              "      <td>20110000</td>\n",
              "      <td>Publicidade por adesivos</td>\n",
              "      <td>39020954</td>\n",
              "      <td>16/10/2020</td>\n",
              "      <td>BANNER 1.20X0.60</td>\n",
              "      <td>20,00</td>\n",
              "    </tr>\n",
              "    <tr>\n",
              "      <th>230076</th>\n",
              "      <td>08/12/2021</td>\n",
              "      <td>22:16:37</td>\n",
              "      <td>2020</td>\n",
              "      <td>2</td>\n",
              "      <td>Ordinária</td>\n",
              "      <td>426</td>\n",
              "      <td>Eleições Municipais 2020</td>\n",
              "      <td>15/11/2020</td>\n",
              "      <td>1</td>\n",
              "      <td>Final</td>\n",
              "      <td>...</td>\n",
              "      <td>#NULO#</td>\n",
              "      <td>#NULO#</td>\n",
              "      <td>Nota Fiscal</td>\n",
              "      <td>3129194</td>\n",
              "      <td>20110000</td>\n",
              "      <td>Publicidade por adesivos</td>\n",
              "      <td>37307295</td>\n",
              "      <td>09/11/2020</td>\n",
              "      <td>PANFLETOS</td>\n",
              "      <td>500,03</td>\n",
              "    </tr>\n",
              "    <tr>\n",
              "      <th>230077</th>\n",
              "      <td>08/12/2021</td>\n",
              "      <td>22:16:37</td>\n",
              "      <td>2020</td>\n",
              "      <td>2</td>\n",
              "      <td>Ordinária</td>\n",
              "      <td>426</td>\n",
              "      <td>Eleições Municipais 2020</td>\n",
              "      <td>15/11/2020</td>\n",
              "      <td>1</td>\n",
              "      <td>Final</td>\n",
              "      <td>...</td>\n",
              "      <td>#NULO#</td>\n",
              "      <td>#NULO#</td>\n",
              "      <td>Nota Fiscal</td>\n",
              "      <td>3129194</td>\n",
              "      <td>20110000</td>\n",
              "      <td>Publicidade por adesivos</td>\n",
              "      <td>37307295</td>\n",
              "      <td>09/11/2020</td>\n",
              "      <td>ADESIVOS</td>\n",
              "      <td>265,20</td>\n",
              "    </tr>\n",
              "    <tr>\n",
              "      <th>230103</th>\n",
              "      <td>08/12/2021</td>\n",
              "      <td>22:16:37</td>\n",
              "      <td>2020</td>\n",
              "      <td>2</td>\n",
              "      <td>Ordinária</td>\n",
              "      <td>426</td>\n",
              "      <td>Eleições Municipais 2020</td>\n",
              "      <td>15/11/2020</td>\n",
              "      <td>1</td>\n",
              "      <td>Final</td>\n",
              "      <td>...</td>\n",
              "      <td>#NULO#</td>\n",
              "      <td>#NULO#</td>\n",
              "      <td>Fatura</td>\n",
              "      <td>475804475867750</td>\n",
              "      <td>20420000</td>\n",
              "      <td>Despesa com Impulsionamento de Conteúdos</td>\n",
              "      <td>37189272</td>\n",
              "      <td>12/11/2020</td>\n",
              "      <td>IMPULSIONAMENTO DE CONTEÚDO</td>\n",
              "      <td>200,00</td>\n",
              "    </tr>\n",
              "  </tbody>\n",
              "</table>\n",
              "<p>3742 rows × 53 columns</p>\n",
              "</div>"
            ],
            "text/plain": [
              "        DT_GERACAO HH_GERACAO  ANO_ELEICAO  CD_TIPO_ELEICAO NM_TIPO_ELEICAO  \\\n",
              "81      08/12/2021   22:16:37         2020                2       Ordinária   \n",
              "82      08/12/2021   22:16:37         2020                2       Ordinária   \n",
              "83      08/12/2021   22:16:37         2020                2       Ordinária   \n",
              "157     08/12/2021   22:16:37         2020                2       Ordinária   \n",
              "205     08/12/2021   22:16:37         2020                2       Ordinária   \n",
              "...            ...        ...          ...              ...             ...   \n",
              "229965  08/12/2021   22:16:37         2020                2       Ordinária   \n",
              "229966  08/12/2021   22:16:37         2020                2       Ordinária   \n",
              "230076  08/12/2021   22:16:37         2020                2       Ordinária   \n",
              "230077  08/12/2021   22:16:37         2020                2       Ordinária   \n",
              "230103  08/12/2021   22:16:37         2020                2       Ordinária   \n",
              "\n",
              "        CD_ELEICAO                DS_ELEICAO  DT_ELEICAO  ST_TURNO  \\\n",
              "81             426  Eleições Municipais 2020  15/11/2020         1   \n",
              "82             426  Eleições Municipais 2020  15/11/2020         1   \n",
              "83             426  Eleições Municipais 2020  15/11/2020         1   \n",
              "157            426  Eleições Municipais 2020  15/11/2020         1   \n",
              "205            426  Eleições Municipais 2020  15/11/2020         1   \n",
              "...            ...                       ...         ...       ...   \n",
              "229965         426  Eleições Municipais 2020  15/11/2020         1   \n",
              "229966         426  Eleições Municipais 2020  15/11/2020         1   \n",
              "230076         426  Eleições Municipais 2020  15/11/2020         1   \n",
              "230077         426  Eleições Municipais 2020  15/11/2020         1   \n",
              "230103         426  Eleições Municipais 2020  15/11/2020         1   \n",
              "\n",
              "       TP_PRESTACAO_CONTAS  ... SG_PARTIDO_FORNECEDOR  NM_PARTIDO_FORNECEDOR  \\\n",
              "81                   Final  ...                #NULO#                 #NULO#   \n",
              "82                   Final  ...                #NULO#                 #NULO#   \n",
              "83                   Final  ...                #NULO#                 #NULO#   \n",
              "157                  Final  ...                #NULO#                 #NULO#   \n",
              "205                  Final  ...                #NULO#                 #NULO#   \n",
              "...                    ...  ...                   ...                    ...   \n",
              "229965               Final  ...                #NULO#                 #NULO#   \n",
              "229966               Final  ...                #NULO#                 #NULO#   \n",
              "230076               Final  ...                #NULO#                 #NULO#   \n",
              "230077               Final  ...                #NULO#                 #NULO#   \n",
              "230103               Final  ...                #NULO#                 #NULO#   \n",
              "\n",
              "       DS_TIPO_DOCUMENTO     NR_DOCUMENTO CD_ORIGEM_DESPESA  \\\n",
              "81           Nota Fiscal             1781          20140000   \n",
              "82           Nota Fiscal             1781          20140000   \n",
              "83           Nota Fiscal             1781          20140000   \n",
              "157                Outro             0005          20120000   \n",
              "205          Nota Fiscal               56          20140000   \n",
              "...                  ...              ...               ...   \n",
              "229965       Nota Fiscal             1700          20110000   \n",
              "229966       Nota Fiscal             1700          20110000   \n",
              "230076       Nota Fiscal          3129194          20110000   \n",
              "230077       Nota Fiscal          3129194          20110000   \n",
              "230103            Fatura  475804475867750          20420000   \n",
              "\n",
              "                               DS_ORIGEM_DESPESA  SQ_DESPESA  DT_DESPESA  \\\n",
              "81           Publicidade por materiais impressos    36285722  04/11/2020   \n",
              "82           Publicidade por materiais impressos    36285722  04/11/2020   \n",
              "83           Publicidade por materiais impressos    36285722  04/11/2020   \n",
              "157             Serviços prestados por terceiros    34270369  31/10/2020   \n",
              "205          Publicidade por materiais impressos    36776380  20/10/2020   \n",
              "...                                          ...         ...         ...   \n",
              "229965                  Publicidade por adesivos    39020954  16/10/2020   \n",
              "229966                  Publicidade por adesivos    39020954  16/10/2020   \n",
              "230076                  Publicidade por adesivos    37307295  09/11/2020   \n",
              "230077                  Publicidade por adesivos    37307295  09/11/2020   \n",
              "230103  Despesa com Impulsionamento de Conteúdos    37189272  12/11/2020   \n",
              "\n",
              "                                            DS_DESPESA  VR_DESPESA_CONTRATADA  \n",
              "81                       ADESIVOS PERFURADOS 0·60X0·25                 350,00  \n",
              "82                                      ADESIVOS 40X12                 120,00  \n",
              "83                                  ADESIVOS 0·80X0·80                 130,00  \n",
              "157     SERVIÇOS PRESTADOS NA FUNÇÃO DE CABO ELEITORAL                 200,00  \n",
              "205                      SANTINHOS 10X7CM - 4/1 CORES                 1000,00  \n",
              "...                                                ...                    ...  \n",
              "229965                             BANDEIRAS 1·00X0·70                 300,00  \n",
              "229966                                BANNER 1.20X0.60                  20,00  \n",
              "230076                                       PANFLETOS                 500,03  \n",
              "230077                                        ADESIVOS                 265,20  \n",
              "230103                     IMPULSIONAMENTO DE CONTEÚDO                 200,00  \n",
              "\n",
              "[3742 rows x 53 columns]"
            ]
          },
          "execution_count": 73,
          "metadata": {},
          "output_type": "execute_result"
        }
      ],
      "source": [
        "df_despesa_mun = despesas.loc[(despesas['NM_UE'] == municipio) & (despesas['DS_CARGO'] == 'Vereador')] # Despesas de Canditados de Campos\n",
        "df_despesa_mun\n"
      ]
    },
    {
      "cell_type": "markdown",
      "metadata": {
        "id": "_YmG3QH7t2DG"
      },
      "source": [
        "### Determinar o valor total que cada Candidato possui de receita e despesa contratada\n"
      ]
    },
    {
      "cell_type": "code",
      "execution_count": 74,
      "metadata": {
        "id": "aMFgndAsCTCQ"
      },
      "outputs": [
        {
          "name": "stderr",
          "output_type": "stream",
          "text": [
            "/tmp/ipykernel_11734/3526042330.py:1: SettingWithCopyWarning: \n",
            "A value is trying to be set on a copy of a slice from a DataFrame.\n",
            "Try using .loc[row_indexer,col_indexer] = value instead\n",
            "\n",
            "See the caveats in the documentation: https://pandas.pydata.org/pandas-docs/stable/user_guide/indexing.html#returning-a-view-versus-a-copy\n",
            "  df_receita_mun['VR_RECEITA'] = df_receita_mun['VR_RECEITA'].apply(\n",
            "/tmp/ipykernel_11734/3526042330.py:3: SettingWithCopyWarning: \n",
            "A value is trying to be set on a copy of a slice from a DataFrame.\n",
            "Try using .loc[row_indexer,col_indexer] = value instead\n",
            "\n",
            "See the caveats in the documentation: https://pandas.pydata.org/pandas-docs/stable/user_guide/indexing.html#returning-a-view-versus-a-copy\n",
            "  df_despesa_mun['VR_DESPESA_CONTRATADA'] = df_despesa_mun['VR_DESPESA_CONTRATADA'].apply(\n"
          ]
        }
      ],
      "source": [
        "df_receita_mun['VR_RECEITA'] = df_receita_mun['VR_RECEITA'].apply(\n",
        "    lambda x: float(x.split()[0].replace(',', '.')))\n",
        "df_despesa_mun['VR_DESPESA_CONTRATADA'] = df_despesa_mun['VR_DESPESA_CONTRATADA'].apply(\n",
        "    lambda x: float(x.split()[0].replace(',', '.')))\n"
      ]
    },
    {
      "cell_type": "markdown",
      "metadata": {},
      "source": [
        "### Total de `receitas por candidato`"
      ]
    },
    {
      "cell_type": "code",
      "execution_count": 75,
      "metadata": {
        "colab": {
          "base_uri": "https://localhost:8080/",
          "height": 455
        },
        "id": "lZFa9cetCwZN",
        "outputId": "cc6512cc-9de8-4f1a-da26-193b58f6dc90"
      },
      "outputs": [
        {
          "data": {
            "text/html": [
              "<div>\n",
              "<style scoped>\n",
              "    .dataframe tbody tr th:only-of-type {\n",
              "        vertical-align: middle;\n",
              "    }\n",
              "\n",
              "    .dataframe tbody tr th {\n",
              "        vertical-align: top;\n",
              "    }\n",
              "\n",
              "    .dataframe thead th {\n",
              "        text-align: right;\n",
              "    }\n",
              "</style>\n",
              "<table border=\"1\" class=\"dataframe\">\n",
              "  <thead>\n",
              "    <tr style=\"text-align: right;\">\n",
              "      <th></th>\n",
              "      <th>VR_RECEITA</th>\n",
              "    </tr>\n",
              "    <tr>\n",
              "      <th>NR_CPF_CANDIDATO</th>\n",
              "      <th></th>\n",
              "    </tr>\n",
              "  </thead>\n",
              "  <tbody>\n",
              "    <tr>\n",
              "      <th>54102740</th>\n",
              "      <td>655.06</td>\n",
              "    </tr>\n",
              "    <tr>\n",
              "      <th>75945770</th>\n",
              "      <td>187.50</td>\n",
              "    </tr>\n",
              "    <tr>\n",
              "      <th>105387711</th>\n",
              "      <td>272.00</td>\n",
              "    </tr>\n",
              "    <tr>\n",
              "      <th>130014770</th>\n",
              "      <td>11615.38</td>\n",
              "    </tr>\n",
              "    <tr>\n",
              "      <th>135459737</th>\n",
              "      <td>6679.70</td>\n",
              "    </tr>\n",
              "    <tr>\n",
              "      <th>...</th>\n",
              "      <td>...</td>\n",
              "    </tr>\n",
              "    <tr>\n",
              "      <th>99074273734</th>\n",
              "      <td>13811.60</td>\n",
              "    </tr>\n",
              "    <tr>\n",
              "      <th>99086654720</th>\n",
              "      <td>5006.85</td>\n",
              "    </tr>\n",
              "    <tr>\n",
              "      <th>99383217715</th>\n",
              "      <td>27811.00</td>\n",
              "    </tr>\n",
              "    <tr>\n",
              "      <th>99473410700</th>\n",
              "      <td>1574.08</td>\n",
              "    </tr>\n",
              "    <tr>\n",
              "      <th>99908980653</th>\n",
              "      <td>950.00</td>\n",
              "    </tr>\n",
              "  </tbody>\n",
              "</table>\n",
              "<p>792 rows × 1 columns</p>\n",
              "</div>"
            ],
            "text/plain": [
              "                  VR_RECEITA\n",
              "NR_CPF_CANDIDATO            \n",
              "54102740              655.06\n",
              "75945770              187.50\n",
              "105387711             272.00\n",
              "130014770           11615.38\n",
              "135459737            6679.70\n",
              "...                      ...\n",
              "99074273734         13811.60\n",
              "99086654720          5006.85\n",
              "99383217715         27811.00\n",
              "99473410700          1574.08\n",
              "99908980653           950.00\n",
              "\n",
              "[792 rows x 1 columns]"
            ]
          },
          "execution_count": 75,
          "metadata": {},
          "output_type": "execute_result"
        }
      ],
      "source": [
        "soma_cand_receita = df_receita_mun[['NR_CPF_CANDIDATO', 'VR_RECEITA']].groupby('NR_CPF_CANDIDATO').sum('VR_RECEITA') # total receita por candidato\n",
        "soma_cand_receita\n"
      ]
    },
    {
      "cell_type": "markdown",
      "metadata": {},
      "source": [
        "### Total de `despesas por candidato`"
      ]
    },
    {
      "cell_type": "code",
      "execution_count": 76,
      "metadata": {
        "colab": {
          "base_uri": "https://localhost:8080/",
          "height": 455
        },
        "id": "057eVW-aNcuX",
        "outputId": "88c08b7d-a0bf-478c-fd84-e591ff159664"
      },
      "outputs": [
        {
          "data": {
            "text/html": [
              "<div>\n",
              "<style scoped>\n",
              "    .dataframe tbody tr th:only-of-type {\n",
              "        vertical-align: middle;\n",
              "    }\n",
              "\n",
              "    .dataframe tbody tr th {\n",
              "        vertical-align: top;\n",
              "    }\n",
              "\n",
              "    .dataframe thead th {\n",
              "        text-align: right;\n",
              "    }\n",
              "</style>\n",
              "<table border=\"1\" class=\"dataframe\">\n",
              "  <thead>\n",
              "    <tr style=\"text-align: right;\">\n",
              "      <th></th>\n",
              "      <th>VR_DESPESA_CONTRATADA</th>\n",
              "    </tr>\n",
              "    <tr>\n",
              "      <th>NR_CPF_CANDIDATO</th>\n",
              "      <th></th>\n",
              "    </tr>\n",
              "  </thead>\n",
              "  <tbody>\n",
              "    <tr>\n",
              "      <th>130014770</th>\n",
              "      <td>8915.35</td>\n",
              "    </tr>\n",
              "    <tr>\n",
              "      <th>135459737</th>\n",
              "      <td>5492.00</td>\n",
              "    </tr>\n",
              "    <tr>\n",
              "      <th>196241740</th>\n",
              "      <td>514.00</td>\n",
              "    </tr>\n",
              "    <tr>\n",
              "      <th>430964765</th>\n",
              "      <td>600.00</td>\n",
              "    </tr>\n",
              "    <tr>\n",
              "      <th>701592702</th>\n",
              "      <td>5500.00</td>\n",
              "    </tr>\n",
              "    <tr>\n",
              "      <th>...</th>\n",
              "      <td>...</td>\n",
              "    </tr>\n",
              "    <tr>\n",
              "      <th>95167250749</th>\n",
              "      <td>3303.50</td>\n",
              "    </tr>\n",
              "    <tr>\n",
              "      <th>95859683715</th>\n",
              "      <td>843.00</td>\n",
              "    </tr>\n",
              "    <tr>\n",
              "      <th>98802232768</th>\n",
              "      <td>630.00</td>\n",
              "    </tr>\n",
              "    <tr>\n",
              "      <th>99074273734</th>\n",
              "      <td>6918.15</td>\n",
              "    </tr>\n",
              "    <tr>\n",
              "      <th>99383217715</th>\n",
              "      <td>514.00</td>\n",
              "    </tr>\n",
              "  </tbody>\n",
              "</table>\n",
              "<p>337 rows × 1 columns</p>\n",
              "</div>"
            ],
            "text/plain": [
              "                  VR_DESPESA_CONTRATADA\n",
              "NR_CPF_CANDIDATO                       \n",
              "130014770                       8915.35\n",
              "135459737                       5492.00\n",
              "196241740                        514.00\n",
              "430964765                        600.00\n",
              "701592702                       5500.00\n",
              "...                                 ...\n",
              "95167250749                     3303.50\n",
              "95859683715                      843.00\n",
              "98802232768                      630.00\n",
              "99074273734                     6918.15\n",
              "99383217715                      514.00\n",
              "\n",
              "[337 rows x 1 columns]"
            ]
          },
          "execution_count": 76,
          "metadata": {},
          "output_type": "execute_result"
        }
      ],
      "source": [
        "soma_cand_despesa = df_despesa_mun[['NR_CPF_CANDIDATO', 'VR_DESPESA_CONTRATADA']].groupby('NR_CPF_CANDIDATO').sum('VR_DESPESA_CONTRATADA') # total despesa por Candidato\n",
        "soma_cand_despesa\n"
      ]
    },
    {
      "cell_type": "code",
      "execution_count": 77,
      "metadata": {
        "id": "26QdF1QloTRm"
      },
      "outputs": [
        {
          "data": {
            "text/html": [
              "<div>\n",
              "<style scoped>\n",
              "    .dataframe tbody tr th:only-of-type {\n",
              "        vertical-align: middle;\n",
              "    }\n",
              "\n",
              "    .dataframe tbody tr th {\n",
              "        vertical-align: top;\n",
              "    }\n",
              "\n",
              "    .dataframe thead th {\n",
              "        text-align: right;\n",
              "    }\n",
              "</style>\n",
              "<table border=\"1\" class=\"dataframe\">\n",
              "  <thead>\n",
              "    <tr style=\"text-align: right;\">\n",
              "      <th></th>\n",
              "      <th>SG_UE</th>\n",
              "      <th>NM_UE</th>\n",
              "      <th>CD_CARGO</th>\n",
              "      <th>DS_CARGO</th>\n",
              "      <th>NR_CANDIDATO</th>\n",
              "      <th>NM_CANDIDATO</th>\n",
              "      <th>NR_CPF_CANDIDATO</th>\n",
              "      <th>NM_EMAIL</th>\n",
              "      <th>TP_AGREMIACAO</th>\n",
              "      <th>NR_PARTIDO</th>\n",
              "      <th>...</th>\n",
              "      <th>CD_NACIONALIDADE</th>\n",
              "      <th>NR_IDADE_DATA_POSSE</th>\n",
              "      <th>DS_GENERO</th>\n",
              "      <th>DS_GRAU_INSTRUCAO</th>\n",
              "      <th>DS_ESTADO_CIVIL</th>\n",
              "      <th>DS_COR_RACA</th>\n",
              "      <th>DS_OCUPACAO</th>\n",
              "      <th>DS_SIT_TOT_TURNO</th>\n",
              "      <th>VR_RECEITA</th>\n",
              "      <th>VR_DESPESA_CONTRATADA</th>\n",
              "    </tr>\n",
              "  </thead>\n",
              "  <tbody>\n",
              "    <tr>\n",
              "      <th>0</th>\n",
              "      <td>58190</td>\n",
              "      <td>CAMPOS DOS GOYTACAZES</td>\n",
              "      <td>13</td>\n",
              "      <td>VEREADOR</td>\n",
              "      <td>55025</td>\n",
              "      <td>FRANÇOISE DA SILVA CIAFRINO</td>\n",
              "      <td>7072909702</td>\n",
              "      <td>ADVOCACIAELEITORAL2020@HOTMAIL.COM</td>\n",
              "      <td>PARTIDO ISOLADO</td>\n",
              "      <td>55</td>\n",
              "      <td>...</td>\n",
              "      <td>1</td>\n",
              "      <td>55</td>\n",
              "      <td>FEMININO</td>\n",
              "      <td>ENSINO MÉDIO COMPLETO</td>\n",
              "      <td>VIÚVO(A)</td>\n",
              "      <td>BRANCA</td>\n",
              "      <td>DONA DE CASA</td>\n",
              "      <td>SUPLENTE</td>\n",
              "      <td>11701.38</td>\n",
              "      <td>10000.0</td>\n",
              "    </tr>\n",
              "    <tr>\n",
              "      <th>1</th>\n",
              "      <td>58190</td>\n",
              "      <td>CAMPOS DOS GOYTACAZES</td>\n",
              "      <td>13</td>\n",
              "      <td>VEREADOR</td>\n",
              "      <td>18777</td>\n",
              "      <td>FREDERICO HENRIQUE GONÇALVES</td>\n",
              "      <td>9034045757</td>\n",
              "      <td>FRED.CARMEM@GMAIL.COM</td>\n",
              "      <td>PARTIDO ISOLADO</td>\n",
              "      <td>18</td>\n",
              "      <td>...</td>\n",
              "      <td>1</td>\n",
              "      <td>39</td>\n",
              "      <td>MASCULINO</td>\n",
              "      <td>ENSINO MÉDIO COMPLETO</td>\n",
              "      <td>CASADO(A)</td>\n",
              "      <td>BRANCA</td>\n",
              "      <td>SERVIDOR PÚBLICO MUNICIPAL</td>\n",
              "      <td>NÃO ELEITO</td>\n",
              "      <td>700.00</td>\n",
              "      <td>200.0</td>\n",
              "    </tr>\n",
              "    <tr>\n",
              "      <th>2</th>\n",
              "      <td>58190</td>\n",
              "      <td>CAMPOS DOS GOYTACAZES</td>\n",
              "      <td>13</td>\n",
              "      <td>VEREADOR</td>\n",
              "      <td>90333</td>\n",
              "      <td>THIAGO RANGEL LIMA</td>\n",
              "      <td>11729161790</td>\n",
              "      <td>ADVOCACIAELEITORAL2020@HOTMAIL.COM</td>\n",
              "      <td>PARTIDO ISOLADO</td>\n",
              "      <td>90</td>\n",
              "      <td>...</td>\n",
              "      <td>1</td>\n",
              "      <td>24</td>\n",
              "      <td>MASCULINO</td>\n",
              "      <td>SUPERIOR COMPLETO</td>\n",
              "      <td>SOLTEIRO(A)</td>\n",
              "      <td>PARDA</td>\n",
              "      <td>COMERCIANTE</td>\n",
              "      <td>ELEITO POR QP</td>\n",
              "      <td>107011.15</td>\n",
              "      <td>106439.8</td>\n",
              "    </tr>\n",
              "    <tr>\n",
              "      <th>3</th>\n",
              "      <td>58190</td>\n",
              "      <td>CAMPOS DOS GOYTACAZES</td>\n",
              "      <td>13</td>\n",
              "      <td>VEREADOR</td>\n",
              "      <td>22022</td>\n",
              "      <td>ADALBERTO TEIXEIRA GOMES</td>\n",
              "      <td>1778550703</td>\n",
              "      <td>ELEICAOCAMPOS2020@GMAIL.COM</td>\n",
              "      <td>PARTIDO ISOLADO</td>\n",
              "      <td>22</td>\n",
              "      <td>...</td>\n",
              "      <td>1</td>\n",
              "      <td>49</td>\n",
              "      <td>MASCULINO</td>\n",
              "      <td>ENSINO MÉDIO COMPLETO</td>\n",
              "      <td>CASADO(A)</td>\n",
              "      <td>PARDA</td>\n",
              "      <td>OUTROS</td>\n",
              "      <td>SUPLENTE</td>\n",
              "      <td>6998.85</td>\n",
              "      <td>2187.0</td>\n",
              "    </tr>\n",
              "    <tr>\n",
              "      <th>4</th>\n",
              "      <td>58190</td>\n",
              "      <td>CAMPOS DOS GOYTACAZES</td>\n",
              "      <td>13</td>\n",
              "      <td>VEREADOR</td>\n",
              "      <td>65100</td>\n",
              "      <td>ANTÔNIO SÉRGIO GOMES MANHÃES</td>\n",
              "      <td>50150448791</td>\n",
              "      <td>ANTONIOSERGIO0905@GMAIL.COM</td>\n",
              "      <td>PARTIDO ISOLADO</td>\n",
              "      <td>65</td>\n",
              "      <td>...</td>\n",
              "      <td>1</td>\n",
              "      <td>63</td>\n",
              "      <td>MASCULINO</td>\n",
              "      <td>ENSINO FUNDAMENTAL COMPLETO</td>\n",
              "      <td>CASADO(A)</td>\n",
              "      <td>PARDA</td>\n",
              "      <td>VIGILANTE</td>\n",
              "      <td>NÃO ELEITO</td>\n",
              "      <td>2791.58</td>\n",
              "      <td>2450.0</td>\n",
              "    </tr>\n",
              "  </tbody>\n",
              "</table>\n",
              "<p>5 rows × 22 columns</p>\n",
              "</div>"
            ],
            "text/plain": [
              "   SG_UE                  NM_UE  CD_CARGO  DS_CARGO  NR_CANDIDATO  \\\n",
              "0  58190  CAMPOS DOS GOYTACAZES        13  VEREADOR         55025   \n",
              "1  58190  CAMPOS DOS GOYTACAZES        13  VEREADOR         18777   \n",
              "2  58190  CAMPOS DOS GOYTACAZES        13  VEREADOR         90333   \n",
              "3  58190  CAMPOS DOS GOYTACAZES        13  VEREADOR         22022   \n",
              "4  58190  CAMPOS DOS GOYTACAZES        13  VEREADOR         65100   \n",
              "\n",
              "                   NM_CANDIDATO  NR_CPF_CANDIDATO  \\\n",
              "0   FRANÇOISE DA SILVA CIAFRINO        7072909702   \n",
              "1  FREDERICO HENRIQUE GONÇALVES        9034045757   \n",
              "2            THIAGO RANGEL LIMA       11729161790   \n",
              "3      ADALBERTO TEIXEIRA GOMES        1778550703   \n",
              "4  ANTÔNIO SÉRGIO GOMES MANHÃES       50150448791   \n",
              "\n",
              "                             NM_EMAIL    TP_AGREMIACAO  NR_PARTIDO  ...  \\\n",
              "0  ADVOCACIAELEITORAL2020@HOTMAIL.COM  PARTIDO ISOLADO          55  ...   \n",
              "1               FRED.CARMEM@GMAIL.COM  PARTIDO ISOLADO          18  ...   \n",
              "2  ADVOCACIAELEITORAL2020@HOTMAIL.COM  PARTIDO ISOLADO          90  ...   \n",
              "3         ELEICAOCAMPOS2020@GMAIL.COM  PARTIDO ISOLADO          22  ...   \n",
              "4         ANTONIOSERGIO0905@GMAIL.COM  PARTIDO ISOLADO          65  ...   \n",
              "\n",
              "  CD_NACIONALIDADE NR_IDADE_DATA_POSSE  DS_GENERO  \\\n",
              "0                1                  55   FEMININO   \n",
              "1                1                  39  MASCULINO   \n",
              "2                1                  24  MASCULINO   \n",
              "3                1                  49  MASCULINO   \n",
              "4                1                  63  MASCULINO   \n",
              "\n",
              "             DS_GRAU_INSTRUCAO DS_ESTADO_CIVIL DS_COR_RACA  \\\n",
              "0        ENSINO MÉDIO COMPLETO        VIÚVO(A)      BRANCA   \n",
              "1        ENSINO MÉDIO COMPLETO       CASADO(A)      BRANCA   \n",
              "2            SUPERIOR COMPLETO     SOLTEIRO(A)       PARDA   \n",
              "3        ENSINO MÉDIO COMPLETO       CASADO(A)       PARDA   \n",
              "4  ENSINO FUNDAMENTAL COMPLETO       CASADO(A)       PARDA   \n",
              "\n",
              "                  DS_OCUPACAO DS_SIT_TOT_TURNO VR_RECEITA  \\\n",
              "0                DONA DE CASA         SUPLENTE   11701.38   \n",
              "1  SERVIDOR PÚBLICO MUNICIPAL       NÃO ELEITO     700.00   \n",
              "2                 COMERCIANTE    ELEITO POR QP  107011.15   \n",
              "3                      OUTROS         SUPLENTE    6998.85   \n",
              "4                   VIGILANTE       NÃO ELEITO    2791.58   \n",
              "\n",
              "  VR_DESPESA_CONTRATADA  \n",
              "0               10000.0  \n",
              "1                 200.0  \n",
              "2              106439.8  \n",
              "3                2187.0  \n",
              "4                2450.0  \n",
              "\n",
              "[5 rows x 22 columns]"
            ]
          },
          "execution_count": 77,
          "metadata": {},
          "output_type": "execute_result"
        }
      ],
      "source": [
        "# cria um dataFrame com a juncao de todos os dados\n",
        "\n",
        "despesa_receita = pd.merge(soma_cand_receita, soma_cand_despesa, on=['NR_CPF_CANDIDATO'])\n",
        "df_candidato_mun = pd.merge(candidatos, despesa_receita, on=['NR_CPF_CANDIDATO'])\n",
        "df_candidato_mun.head(5)"
      ]
    },
    {
      "cell_type": "markdown",
      "metadata": {},
      "source": [
        "### Mantendo somente os valores:\n",
        "- `Eleito`,\n",
        "- `Não eleito`,\n",
        "- `Suplente somente`"
      ]
    },
    {
      "cell_type": "code",
      "execution_count": 78,
      "metadata": {},
      "outputs": [
        {
          "data": {
            "text/plain": [
              "array(['SUPLENTE', 'NÃO ELEITO', 'ELEITO POR QP', 'ELEITO POR MÉDIA',\n",
              "       '#NULO#'], dtype=object)"
            ]
          },
          "execution_count": 78,
          "metadata": {},
          "output_type": "execute_result"
        }
      ],
      "source": [
        "df_candidato_mun['DS_SIT_TOT_TURNO'].unique()"
      ]
    },
    {
      "cell_type": "code",
      "execution_count": 79,
      "metadata": {},
      "outputs": [
        {
          "name": "stderr",
          "output_type": "stream",
          "text": [
            "/home/ledragox/anaconda3/lib/python3.9/site-packages/pandas/core/indexing.py:1732: SettingWithCopyWarning: \n",
            "A value is trying to be set on a copy of a slice from a DataFrame\n",
            "\n",
            "See the caveats in the documentation: https://pandas.pydata.org/pandas-docs/stable/user_guide/indexing.html#returning-a-view-versus-a-copy\n",
            "  self._setitem_single_block(indexer, value, name)\n"
          ]
        },
        {
          "data": {
            "text/plain": [
              "array(['SUPLENTE', 'NÃO ELEITO', 'ELEITO', '#NULO#'], dtype=object)"
            ]
          },
          "execution_count": 79,
          "metadata": {},
          "output_type": "execute_result"
        }
      ],
      "source": [
        "df_candidato_mun['DS_SIT_TOT_TURNO'].loc[df_candidato_mun['DS_SIT_TOT_TURNO'] == 'ELEITO POR QP'] = 'ELEITO'\n",
        "df_candidato_mun['DS_SIT_TOT_TURNO'].loc[df_candidato_mun['DS_SIT_TOT_TURNO'] == 'ELEITO POR MÉDIA'] = 'ELEITO'\n",
        "df_candidato_mun['DS_SIT_TOT_TURNO'].unique()"
      ]
    },
    {
      "cell_type": "code",
      "execution_count": 80,
      "metadata": {},
      "outputs": [
        {
          "data": {
            "text/plain": [
              "array(['SUPLENTE', 'NÃO ELEITO', 'ELEITO'], dtype=object)"
            ]
          },
          "execution_count": 80,
          "metadata": {},
          "output_type": "execute_result"
        }
      ],
      "source": [
        "df_candidato_mun['DS_SIT_TOT_TURNO'].loc[df_candidato_mun['DS_SIT_TOT_TURNO'] == '#NULO#'] = 'NÃO ELEITO'\n",
        "df_candidato_mun['DS_SIT_TOT_TURNO'].unique()"
      ]
    },
    {
      "cell_type": "markdown",
      "metadata": {},
      "source": [
        "## 2: Análise Exploratória"
      ]
    },
    {
      "cell_type": "code",
      "execution_count": 81,
      "metadata": {},
      "outputs": [
        {
          "data": {
            "text/html": [
              "<div>\n",
              "<style scoped>\n",
              "    .dataframe tbody tr th:only-of-type {\n",
              "        vertical-align: middle;\n",
              "    }\n",
              "\n",
              "    .dataframe tbody tr th {\n",
              "        vertical-align: top;\n",
              "    }\n",
              "\n",
              "    .dataframe thead th {\n",
              "        text-align: right;\n",
              "    }\n",
              "</style>\n",
              "<table border=\"1\" class=\"dataframe\">\n",
              "  <thead>\n",
              "    <tr style=\"text-align: right;\">\n",
              "      <th></th>\n",
              "      <th>SG_UE</th>\n",
              "      <th>NM_UE</th>\n",
              "      <th>CD_CARGO</th>\n",
              "      <th>DS_CARGO</th>\n",
              "      <th>NR_CANDIDATO</th>\n",
              "      <th>NM_CANDIDATO</th>\n",
              "      <th>NR_CPF_CANDIDATO</th>\n",
              "      <th>NM_EMAIL</th>\n",
              "      <th>TP_AGREMIACAO</th>\n",
              "      <th>NR_PARTIDO</th>\n",
              "      <th>...</th>\n",
              "      <th>CD_NACIONALIDADE</th>\n",
              "      <th>NR_IDADE_DATA_POSSE</th>\n",
              "      <th>DS_GENERO</th>\n",
              "      <th>DS_GRAU_INSTRUCAO</th>\n",
              "      <th>DS_ESTADO_CIVIL</th>\n",
              "      <th>DS_COR_RACA</th>\n",
              "      <th>DS_OCUPACAO</th>\n",
              "      <th>DS_SIT_TOT_TURNO</th>\n",
              "      <th>VR_RECEITA</th>\n",
              "      <th>VR_DESPESA_CONTRATADA</th>\n",
              "    </tr>\n",
              "  </thead>\n",
              "  <tbody>\n",
              "    <tr>\n",
              "      <th>0</th>\n",
              "      <td>58190</td>\n",
              "      <td>CAMPOS DOS GOYTACAZES</td>\n",
              "      <td>13</td>\n",
              "      <td>VEREADOR</td>\n",
              "      <td>55025</td>\n",
              "      <td>FRANÇOISE DA SILVA CIAFRINO</td>\n",
              "      <td>7072909702</td>\n",
              "      <td>ADVOCACIAELEITORAL2020@HOTMAIL.COM</td>\n",
              "      <td>PARTIDO ISOLADO</td>\n",
              "      <td>55</td>\n",
              "      <td>...</td>\n",
              "      <td>1</td>\n",
              "      <td>55</td>\n",
              "      <td>FEMININO</td>\n",
              "      <td>ENSINO MÉDIO COMPLETO</td>\n",
              "      <td>VIÚVO(A)</td>\n",
              "      <td>BRANCA</td>\n",
              "      <td>DONA DE CASA</td>\n",
              "      <td>SUPLENTE</td>\n",
              "      <td>11701.38</td>\n",
              "      <td>10000.0</td>\n",
              "    </tr>\n",
              "    <tr>\n",
              "      <th>1</th>\n",
              "      <td>58190</td>\n",
              "      <td>CAMPOS DOS GOYTACAZES</td>\n",
              "      <td>13</td>\n",
              "      <td>VEREADOR</td>\n",
              "      <td>18777</td>\n",
              "      <td>FREDERICO HENRIQUE GONÇALVES</td>\n",
              "      <td>9034045757</td>\n",
              "      <td>FRED.CARMEM@GMAIL.COM</td>\n",
              "      <td>PARTIDO ISOLADO</td>\n",
              "      <td>18</td>\n",
              "      <td>...</td>\n",
              "      <td>1</td>\n",
              "      <td>39</td>\n",
              "      <td>MASCULINO</td>\n",
              "      <td>ENSINO MÉDIO COMPLETO</td>\n",
              "      <td>CASADO(A)</td>\n",
              "      <td>BRANCA</td>\n",
              "      <td>SERVIDOR PÚBLICO MUNICIPAL</td>\n",
              "      <td>NÃO ELEITO</td>\n",
              "      <td>700.00</td>\n",
              "      <td>200.0</td>\n",
              "    </tr>\n",
              "    <tr>\n",
              "      <th>2</th>\n",
              "      <td>58190</td>\n",
              "      <td>CAMPOS DOS GOYTACAZES</td>\n",
              "      <td>13</td>\n",
              "      <td>VEREADOR</td>\n",
              "      <td>90333</td>\n",
              "      <td>THIAGO RANGEL LIMA</td>\n",
              "      <td>11729161790</td>\n",
              "      <td>ADVOCACIAELEITORAL2020@HOTMAIL.COM</td>\n",
              "      <td>PARTIDO ISOLADO</td>\n",
              "      <td>90</td>\n",
              "      <td>...</td>\n",
              "      <td>1</td>\n",
              "      <td>24</td>\n",
              "      <td>MASCULINO</td>\n",
              "      <td>SUPERIOR COMPLETO</td>\n",
              "      <td>SOLTEIRO(A)</td>\n",
              "      <td>PARDA</td>\n",
              "      <td>COMERCIANTE</td>\n",
              "      <td>ELEITO</td>\n",
              "      <td>107011.15</td>\n",
              "      <td>106439.8</td>\n",
              "    </tr>\n",
              "    <tr>\n",
              "      <th>3</th>\n",
              "      <td>58190</td>\n",
              "      <td>CAMPOS DOS GOYTACAZES</td>\n",
              "      <td>13</td>\n",
              "      <td>VEREADOR</td>\n",
              "      <td>22022</td>\n",
              "      <td>ADALBERTO TEIXEIRA GOMES</td>\n",
              "      <td>1778550703</td>\n",
              "      <td>ELEICAOCAMPOS2020@GMAIL.COM</td>\n",
              "      <td>PARTIDO ISOLADO</td>\n",
              "      <td>22</td>\n",
              "      <td>...</td>\n",
              "      <td>1</td>\n",
              "      <td>49</td>\n",
              "      <td>MASCULINO</td>\n",
              "      <td>ENSINO MÉDIO COMPLETO</td>\n",
              "      <td>CASADO(A)</td>\n",
              "      <td>PARDA</td>\n",
              "      <td>OUTROS</td>\n",
              "      <td>SUPLENTE</td>\n",
              "      <td>6998.85</td>\n",
              "      <td>2187.0</td>\n",
              "    </tr>\n",
              "    <tr>\n",
              "      <th>4</th>\n",
              "      <td>58190</td>\n",
              "      <td>CAMPOS DOS GOYTACAZES</td>\n",
              "      <td>13</td>\n",
              "      <td>VEREADOR</td>\n",
              "      <td>65100</td>\n",
              "      <td>ANTÔNIO SÉRGIO GOMES MANHÃES</td>\n",
              "      <td>50150448791</td>\n",
              "      <td>ANTONIOSERGIO0905@GMAIL.COM</td>\n",
              "      <td>PARTIDO ISOLADO</td>\n",
              "      <td>65</td>\n",
              "      <td>...</td>\n",
              "      <td>1</td>\n",
              "      <td>63</td>\n",
              "      <td>MASCULINO</td>\n",
              "      <td>ENSINO FUNDAMENTAL COMPLETO</td>\n",
              "      <td>CASADO(A)</td>\n",
              "      <td>PARDA</td>\n",
              "      <td>VIGILANTE</td>\n",
              "      <td>NÃO ELEITO</td>\n",
              "      <td>2791.58</td>\n",
              "      <td>2450.0</td>\n",
              "    </tr>\n",
              "  </tbody>\n",
              "</table>\n",
              "<p>5 rows × 22 columns</p>\n",
              "</div>"
            ],
            "text/plain": [
              "   SG_UE                  NM_UE  CD_CARGO  DS_CARGO  NR_CANDIDATO  \\\n",
              "0  58190  CAMPOS DOS GOYTACAZES        13  VEREADOR         55025   \n",
              "1  58190  CAMPOS DOS GOYTACAZES        13  VEREADOR         18777   \n",
              "2  58190  CAMPOS DOS GOYTACAZES        13  VEREADOR         90333   \n",
              "3  58190  CAMPOS DOS GOYTACAZES        13  VEREADOR         22022   \n",
              "4  58190  CAMPOS DOS GOYTACAZES        13  VEREADOR         65100   \n",
              "\n",
              "                   NM_CANDIDATO  NR_CPF_CANDIDATO  \\\n",
              "0   FRANÇOISE DA SILVA CIAFRINO        7072909702   \n",
              "1  FREDERICO HENRIQUE GONÇALVES        9034045757   \n",
              "2            THIAGO RANGEL LIMA       11729161790   \n",
              "3      ADALBERTO TEIXEIRA GOMES        1778550703   \n",
              "4  ANTÔNIO SÉRGIO GOMES MANHÃES       50150448791   \n",
              "\n",
              "                             NM_EMAIL    TP_AGREMIACAO  NR_PARTIDO  ...  \\\n",
              "0  ADVOCACIAELEITORAL2020@HOTMAIL.COM  PARTIDO ISOLADO          55  ...   \n",
              "1               FRED.CARMEM@GMAIL.COM  PARTIDO ISOLADO          18  ...   \n",
              "2  ADVOCACIAELEITORAL2020@HOTMAIL.COM  PARTIDO ISOLADO          90  ...   \n",
              "3         ELEICAOCAMPOS2020@GMAIL.COM  PARTIDO ISOLADO          22  ...   \n",
              "4         ANTONIOSERGIO0905@GMAIL.COM  PARTIDO ISOLADO          65  ...   \n",
              "\n",
              "  CD_NACIONALIDADE NR_IDADE_DATA_POSSE  DS_GENERO  \\\n",
              "0                1                  55   FEMININO   \n",
              "1                1                  39  MASCULINO   \n",
              "2                1                  24  MASCULINO   \n",
              "3                1                  49  MASCULINO   \n",
              "4                1                  63  MASCULINO   \n",
              "\n",
              "             DS_GRAU_INSTRUCAO DS_ESTADO_CIVIL DS_COR_RACA  \\\n",
              "0        ENSINO MÉDIO COMPLETO        VIÚVO(A)      BRANCA   \n",
              "1        ENSINO MÉDIO COMPLETO       CASADO(A)      BRANCA   \n",
              "2            SUPERIOR COMPLETO     SOLTEIRO(A)       PARDA   \n",
              "3        ENSINO MÉDIO COMPLETO       CASADO(A)       PARDA   \n",
              "4  ENSINO FUNDAMENTAL COMPLETO       CASADO(A)       PARDA   \n",
              "\n",
              "                  DS_OCUPACAO DS_SIT_TOT_TURNO VR_RECEITA  \\\n",
              "0                DONA DE CASA         SUPLENTE   11701.38   \n",
              "1  SERVIDOR PÚBLICO MUNICIPAL       NÃO ELEITO     700.00   \n",
              "2                 COMERCIANTE           ELEITO  107011.15   \n",
              "3                      OUTROS         SUPLENTE    6998.85   \n",
              "4                   VIGILANTE       NÃO ELEITO    2791.58   \n",
              "\n",
              "  VR_DESPESA_CONTRATADA  \n",
              "0               10000.0  \n",
              "1                 200.0  \n",
              "2              106439.8  \n",
              "3                2187.0  \n",
              "4                2450.0  \n",
              "\n",
              "[5 rows x 22 columns]"
            ]
          },
          "execution_count": 81,
          "metadata": {},
          "output_type": "execute_result"
        }
      ],
      "source": [
        "data = df_candidato_mun\n",
        "data.head(5)"
      ]
    },
    {
      "cell_type": "code",
      "execution_count": 82,
      "metadata": {},
      "outputs": [
        {
          "data": {
            "text/html": [
              "<div>\n",
              "<style scoped>\n",
              "    .dataframe tbody tr th:only-of-type {\n",
              "        vertical-align: middle;\n",
              "    }\n",
              "\n",
              "    .dataframe tbody tr th {\n",
              "        vertical-align: top;\n",
              "    }\n",
              "\n",
              "    .dataframe thead th {\n",
              "        text-align: right;\n",
              "    }\n",
              "</style>\n",
              "<table border=\"1\" class=\"dataframe\">\n",
              "  <thead>\n",
              "    <tr style=\"text-align: right;\">\n",
              "      <th></th>\n",
              "      <th>SG_UE</th>\n",
              "      <th>NM_UE</th>\n",
              "      <th>CD_CARGO</th>\n",
              "      <th>DS_CARGO</th>\n",
              "      <th>NR_CANDIDATO</th>\n",
              "      <th>NM_CANDIDATO</th>\n",
              "      <th>NR_CPF_CANDIDATO</th>\n",
              "      <th>NM_EMAIL</th>\n",
              "      <th>TP_AGREMIACAO</th>\n",
              "      <th>NR_PARTIDO</th>\n",
              "      <th>...</th>\n",
              "      <th>CD_NACIONALIDADE</th>\n",
              "      <th>NR_IDADE_DATA_POSSE</th>\n",
              "      <th>DS_GENERO</th>\n",
              "      <th>DS_GRAU_INSTRUCAO</th>\n",
              "      <th>DS_ESTADO_CIVIL</th>\n",
              "      <th>DS_COR_RACA</th>\n",
              "      <th>DS_OCUPACAO</th>\n",
              "      <th>DS_SIT_TOT_TURNO</th>\n",
              "      <th>VR_RECEITA</th>\n",
              "      <th>VR_DESPESA_CONTRATADA</th>\n",
              "    </tr>\n",
              "  </thead>\n",
              "  <tbody>\n",
              "    <tr>\n",
              "      <th>332</th>\n",
              "      <td>58190</td>\n",
              "      <td>CAMPOS DOS GOYTACAZES</td>\n",
              "      <td>13</td>\n",
              "      <td>VEREADOR</td>\n",
              "      <td>20633</td>\n",
              "      <td>JOSE ROBSON DOMINGUES TAVARES</td>\n",
              "      <td>84818654787</td>\n",
              "      <td>NILOGG@GMAIL.COM</td>\n",
              "      <td>PARTIDO ISOLADO</td>\n",
              "      <td>20</td>\n",
              "      <td>...</td>\n",
              "      <td>1</td>\n",
              "      <td>57</td>\n",
              "      <td>MASCULINO</td>\n",
              "      <td>ENSINO MÉDIO COMPLETO</td>\n",
              "      <td>SOLTEIRO(A)</td>\n",
              "      <td>PARDA</td>\n",
              "      <td>SUPERVISOR, INSPETOR E AGENTE DE COMPRAS E VENDAS</td>\n",
              "      <td>SUPLENTE</td>\n",
              "      <td>2593.67</td>\n",
              "      <td>9.00</td>\n",
              "    </tr>\n",
              "    <tr>\n",
              "      <th>333</th>\n",
              "      <td>58190</td>\n",
              "      <td>CAMPOS DOS GOYTACAZES</td>\n",
              "      <td>13</td>\n",
              "      <td>VEREADOR</td>\n",
              "      <td>65065</td>\n",
              "      <td>ROBSON CORDEIRO DOS SANTOS</td>\n",
              "      <td>81859848753</td>\n",
              "      <td>RAIOSGAMAEX@GMAIL.COM</td>\n",
              "      <td>PARTIDO ISOLADO</td>\n",
              "      <td>65</td>\n",
              "      <td>...</td>\n",
              "      <td>1</td>\n",
              "      <td>54</td>\n",
              "      <td>MASCULINO</td>\n",
              "      <td>ENSINO MÉDIO COMPLETO</td>\n",
              "      <td>CASADO(A)</td>\n",
              "      <td>PARDA</td>\n",
              "      <td>SERVIDOR PÚBLICO MUNICIPAL</td>\n",
              "      <td>NÃO ELEITO</td>\n",
              "      <td>2791.58</td>\n",
              "      <td>2519.58</td>\n",
              "    </tr>\n",
              "    <tr>\n",
              "      <th>334</th>\n",
              "      <td>58190</td>\n",
              "      <td>CAMPOS DOS GOYTACAZES</td>\n",
              "      <td>13</td>\n",
              "      <td>VEREADOR</td>\n",
              "      <td>27789</td>\n",
              "      <td>EDSON DOS SANTOS FARIA</td>\n",
              "      <td>83836187787</td>\n",
              "      <td>ELEICAOCAMPOS2020@GMAIL.COM</td>\n",
              "      <td>PARTIDO ISOLADO</td>\n",
              "      <td>27</td>\n",
              "      <td>...</td>\n",
              "      <td>1</td>\n",
              "      <td>55</td>\n",
              "      <td>MASCULINO</td>\n",
              "      <td>ENSINO MÉDIO COMPLETO</td>\n",
              "      <td>CASADO(A)</td>\n",
              "      <td>PARDA</td>\n",
              "      <td>POLICIAL MILITAR</td>\n",
              "      <td>NÃO ELEITO</td>\n",
              "      <td>5716.85</td>\n",
              "      <td>325.50</td>\n",
              "    </tr>\n",
              "    <tr>\n",
              "      <th>335</th>\n",
              "      <td>58190</td>\n",
              "      <td>CAMPOS DOS GOYTACAZES</td>\n",
              "      <td>13</td>\n",
              "      <td>VEREADOR</td>\n",
              "      <td>22789</td>\n",
              "      <td>RONALD CAMPOS MANHAES</td>\n",
              "      <td>86648829753</td>\n",
              "      <td>ELEICAOCAMPOS2020@GMAIL.COM</td>\n",
              "      <td>PARTIDO ISOLADO</td>\n",
              "      <td>22</td>\n",
              "      <td>...</td>\n",
              "      <td>1</td>\n",
              "      <td>55</td>\n",
              "      <td>MASCULINO</td>\n",
              "      <td>ENSINO FUNDAMENTAL INCOMPLETO</td>\n",
              "      <td>CASADO(A)</td>\n",
              "      <td>BRANCA</td>\n",
              "      <td>EMPRESÁRIO</td>\n",
              "      <td>SUPLENTE</td>\n",
              "      <td>6461.85</td>\n",
              "      <td>1300.00</td>\n",
              "    </tr>\n",
              "    <tr>\n",
              "      <th>336</th>\n",
              "      <td>58190</td>\n",
              "      <td>CAMPOS DOS GOYTACAZES</td>\n",
              "      <td>13</td>\n",
              "      <td>VEREADOR</td>\n",
              "      <td>12444</td>\n",
              "      <td>ALTAMIR  BARBARA JUNIOR</td>\n",
              "      <td>77852761704</td>\n",
              "      <td>ELEICAOCAMPOS2020@GMAIL.COM</td>\n",
              "      <td>PARTIDO ISOLADO</td>\n",
              "      <td>12</td>\n",
              "      <td>...</td>\n",
              "      <td>1</td>\n",
              "      <td>57</td>\n",
              "      <td>MASCULINO</td>\n",
              "      <td>SUPERIOR COMPLETO</td>\n",
              "      <td>CASADO(A)</td>\n",
              "      <td>BRANCA</td>\n",
              "      <td>EMPRESÁRIO</td>\n",
              "      <td>SUPLENTE</td>\n",
              "      <td>6191.85</td>\n",
              "      <td>680.00</td>\n",
              "    </tr>\n",
              "  </tbody>\n",
              "</table>\n",
              "<p>5 rows × 22 columns</p>\n",
              "</div>"
            ],
            "text/plain": [
              "     SG_UE                  NM_UE  CD_CARGO  DS_CARGO  NR_CANDIDATO  \\\n",
              "332  58190  CAMPOS DOS GOYTACAZES        13  VEREADOR         20633   \n",
              "333  58190  CAMPOS DOS GOYTACAZES        13  VEREADOR         65065   \n",
              "334  58190  CAMPOS DOS GOYTACAZES        13  VEREADOR         27789   \n",
              "335  58190  CAMPOS DOS GOYTACAZES        13  VEREADOR         22789   \n",
              "336  58190  CAMPOS DOS GOYTACAZES        13  VEREADOR         12444   \n",
              "\n",
              "                      NM_CANDIDATO  NR_CPF_CANDIDATO  \\\n",
              "332  JOSE ROBSON DOMINGUES TAVARES       84818654787   \n",
              "333     ROBSON CORDEIRO DOS SANTOS       81859848753   \n",
              "334         EDSON DOS SANTOS FARIA       83836187787   \n",
              "335          RONALD CAMPOS MANHAES       86648829753   \n",
              "336        ALTAMIR  BARBARA JUNIOR       77852761704   \n",
              "\n",
              "                        NM_EMAIL    TP_AGREMIACAO  NR_PARTIDO  ...  \\\n",
              "332             NILOGG@GMAIL.COM  PARTIDO ISOLADO          20  ...   \n",
              "333        RAIOSGAMAEX@GMAIL.COM  PARTIDO ISOLADO          65  ...   \n",
              "334  ELEICAOCAMPOS2020@GMAIL.COM  PARTIDO ISOLADO          27  ...   \n",
              "335  ELEICAOCAMPOS2020@GMAIL.COM  PARTIDO ISOLADO          22  ...   \n",
              "336  ELEICAOCAMPOS2020@GMAIL.COM  PARTIDO ISOLADO          12  ...   \n",
              "\n",
              "    CD_NACIONALIDADE NR_IDADE_DATA_POSSE  DS_GENERO  \\\n",
              "332                1                  57  MASCULINO   \n",
              "333                1                  54  MASCULINO   \n",
              "334                1                  55  MASCULINO   \n",
              "335                1                  55  MASCULINO   \n",
              "336                1                  57  MASCULINO   \n",
              "\n",
              "                 DS_GRAU_INSTRUCAO DS_ESTADO_CIVIL DS_COR_RACA  \\\n",
              "332          ENSINO MÉDIO COMPLETO     SOLTEIRO(A)       PARDA   \n",
              "333          ENSINO MÉDIO COMPLETO       CASADO(A)       PARDA   \n",
              "334          ENSINO MÉDIO COMPLETO       CASADO(A)       PARDA   \n",
              "335  ENSINO FUNDAMENTAL INCOMPLETO       CASADO(A)      BRANCA   \n",
              "336              SUPERIOR COMPLETO       CASADO(A)      BRANCA   \n",
              "\n",
              "                                           DS_OCUPACAO DS_SIT_TOT_TURNO  \\\n",
              "332  SUPERVISOR, INSPETOR E AGENTE DE COMPRAS E VENDAS         SUPLENTE   \n",
              "333                         SERVIDOR PÚBLICO MUNICIPAL       NÃO ELEITO   \n",
              "334                                   POLICIAL MILITAR       NÃO ELEITO   \n",
              "335                                         EMPRESÁRIO         SUPLENTE   \n",
              "336                                         EMPRESÁRIO         SUPLENTE   \n",
              "\n",
              "    VR_RECEITA VR_DESPESA_CONTRATADA  \n",
              "332    2593.67                  9.00  \n",
              "333    2791.58               2519.58  \n",
              "334    5716.85                325.50  \n",
              "335    6461.85               1300.00  \n",
              "336    6191.85                680.00  \n",
              "\n",
              "[5 rows x 22 columns]"
            ]
          },
          "execution_count": 82,
          "metadata": {},
          "output_type": "execute_result"
        }
      ],
      "source": [
        "data.iloc[-5:, :]"
      ]
    },
    {
      "cell_type": "markdown",
      "metadata": {},
      "source": [
        "## 3: Gráficos"
      ]
    },
    {
      "cell_type": "code",
      "execution_count": 83,
      "metadata": {},
      "outputs": [
        {
          "data": {
            "text/plain": [
              "<AxesSubplot:xlabel='DS_GENERO', ylabel='Count'>"
            ]
          },
          "execution_count": 83,
          "metadata": {},
          "output_type": "execute_result"
        },
        {
          "data": {
            "image/png": "[encoded data removed]",
            "text/plain": [
              "<Figure size 432x288 with 1 Axes>"
            ]
          },
          "metadata": {
            "needs_background": "light"
          },
          "output_type": "display_data"
        }
      ],
      "source": [
        "sns.histplot(data=data['DS_GENERO'])"
      ]
    },
    {
      "cell_type": "code",
      "execution_count": 84,
      "metadata": {},
      "outputs": [
        {
          "data": {
            "text/plain": [
              "<AxesSubplot:xlabel='DS_SIT_TOT_TURNO', ylabel='Count'>"
            ]
          },
          "execution_count": 84,
          "metadata": {},
          "output_type": "execute_result"
        },
        {
          "data": {
            "image/png": "[encoded data removed]",
            "text/plain": [
              "<Figure size 432x288 with 1 Axes>"
            ]
          },
          "metadata": {
            "needs_background": "light"
          },
          "output_type": "display_data"
        }
      ],
      "source": [
        "sns.histplot(data=data['DS_SIT_TOT_TURNO'])"
      ]
    },
    {
      "cell_type": "markdown",
      "metadata": {},
      "source": [
        "## Sexo\n",
        "Apenas pessoas do sexo masculino foram eleitas para vereador em Campos dos Goytacazes"
      ]
    },
    {
      "cell_type": "code",
      "execution_count": 85,
      "metadata": {},
      "outputs": [
        {
          "data": {
            "text/plain": [
              "<AxesSubplot:xlabel='DS_GENERO', ylabel='Count'>"
            ]
          },
          "execution_count": 85,
          "metadata": {},
          "output_type": "execute_result"
        },
        {
          "data": {
            "image/png": "[encoded data removed]",
            "text/plain": [
              "<Figure size 432x288 with 1 Axes>"
            ]
          },
          "metadata": {
            "needs_background": "light"
          },
          "output_type": "display_data"
        }
      ],
      "source": [
        "sns.histplot(data=data, x=data['DS_GENERO'], hue='DS_SIT_TOT_TURNO', palette='magma')\n"
      ]
    },
    {
      "cell_type": "markdown",
      "metadata": {},
      "source": [
        "#### Idade"
      ]
    },
    {
      "cell_type": "code",
      "execution_count": 86,
      "metadata": {},
      "outputs": [
        {
          "data": {
            "text/plain": [
              "<AxesSubplot:xlabel='NR_IDADE_DATA_POSSE', ylabel='Count'>"
            ]
          },
          "execution_count": 86,
          "metadata": {},
          "output_type": "execute_result"
        },
        {
          "data": {
            "image/png": "[encoded data removed]",
            "text/plain": [
              "<Figure size 432x288 with 1 Axes>"
            ]
          },
          "metadata": {
            "needs_background": "light"
          },
          "output_type": "display_data"
        }
      ],
      "source": [
        "sns.histplot(data=data, x=data['NR_IDADE_DATA_POSSE'], hue='DS_SIT_TOT_TURNO', palette='hsv')\n"
      ]
    },
    {
      "cell_type": "markdown",
      "metadata": {},
      "source": [
        "#### Despesas"
      ]
    },
    {
      "cell_type": "code",
      "execution_count": 87,
      "metadata": {},
      "outputs": [
        {
          "data": {
            "text/plain": [
              "<seaborn.axisgrid.FacetGrid at 0x7ff0ab3e1f40>"
            ]
          },
          "execution_count": 87,
          "metadata": {},
          "output_type": "execute_result"
        },
        {
          "data": {
            "image/png": "[encoded data removed]",
            "text/plain": [
              "<Figure size 827.375x720 with 1 Axes>"
            ]
          },
          "metadata": {
            "needs_background": "light"
          },
          "output_type": "display_data"
        }
      ],
      "source": [
        "sns.displot(data=data, x=data['VR_DESPESA_CONTRATADA'], hue='DS_SIT_TOT_TURNO', palette='rainbow', height=10)\n"
      ]
    },
    {
      "cell_type": "markdown",
      "metadata": {},
      "source": [
        "#### Receitas"
      ]
    },
    {
      "cell_type": "code",
      "execution_count": 88,
      "metadata": {},
      "outputs": [
        {
          "data": {
            "text/plain": [
              "<seaborn.axisgrid.FacetGrid at 0x7ff0a4a3f220>"
            ]
          },
          "execution_count": 88,
          "metadata": {},
          "output_type": "execute_result"
        },
        {
          "data": {
            "image/png": "[encoded data removed]",
            "text/plain": [
              "<Figure size 827.375x720 with 1 Axes>"
            ]
          },
          "metadata": {
            "needs_background": "light"
          },
          "output_type": "display_data"
        }
      ],
      "source": [
        "sns.displot(data=data, x=data['VR_RECEITA'], hue='DS_SIT_TOT_TURNO', palette='rainbow', height=10)\n"
      ]
    },
    {
      "cell_type": "markdown",
      "metadata": {},
      "source": [
        "#### Escolaridade"
      ]
    },
    {
      "cell_type": "code",
      "execution_count": 89,
      "metadata": {},
      "outputs": [
        {
          "data": {
            "text/plain": [
              "<AxesSubplot:xlabel='Count', ylabel='DS_GRAU_INSTRUCAO'>"
            ]
          },
          "execution_count": 89,
          "metadata": {},
          "output_type": "execute_result"
        },
        {
          "data": {
            "image/png": "[encoded data removed]",
            "text/plain": [
              "<Figure size 504x504 with 1 Axes>"
            ]
          },
          "metadata": {
            "needs_background": "light"
          },
          "output_type": "display_data"
        }
      ],
      "source": [
        "plt.figure(figsize=[7, 7])\n",
        "sns.histplot(data=data, y=data['DS_GRAU_INSTRUCAO'], hue='DS_SIT_TOT_TURNO', palette='hsv')\n"
      ]
    },
    {
      "cell_type": "markdown",
      "metadata": {},
      "source": [
        "#### Tom de pele"
      ]
    },
    {
      "cell_type": "code",
      "execution_count": 90,
      "metadata": {},
      "outputs": [
        {
          "data": {
            "text/plain": [
              "<AxesSubplot:xlabel='Count', ylabel='DS_COR_RACA'>"
            ]
          },
          "execution_count": 90,
          "metadata": {},
          "output_type": "execute_result"
        },
        {
          "data": {
            "image/png": "[encoded data removed]",
            "text/plain": [
              "<Figure size 432x288 with 1 Axes>"
            ]
          },
          "metadata": {
            "needs_background": "light"
          },
          "output_type": "display_data"
        }
      ],
      "source": [
        "sns.histplot(data=data, y=data['DS_COR_RACA'], hue='DS_SIT_TOT_TURNO', palette='magma')\n"
      ]
    },
    {
      "cell_type": "markdown",
      "metadata": {},
      "source": [
        "#### Estado Civil"
      ]
    },
    {
      "cell_type": "code",
      "execution_count": 91,
      "metadata": {},
      "outputs": [
        {
          "data": {
            "text/plain": [
              "<AxesSubplot:xlabel='Count', ylabel='DS_ESTADO_CIVIL'>"
            ]
          },
          "execution_count": 91,
          "metadata": {},
          "output_type": "execute_result"
        },
        {
          "data": {
            "image/png": "[encoded data removed]",
            "text/plain": [
              "<Figure size 432x288 with 1 Axes>"
            ]
          },
          "metadata": {
            "needs_background": "light"
          },
          "output_type": "display_data"
        }
      ],
      "source": [
        "sns.histplot(data=data, y=data['DS_ESTADO_CIVIL'], hue='DS_SIT_TOT_TURNO', palette='winter')"
      ]
    },
    {
      "cell_type": "markdown",
      "metadata": {},
      "source": [
        "#### Ocupação"
      ]
    },
    {
      "cell_type": "code",
      "execution_count": 92,
      "metadata": {},
      "outputs": [
        {
          "data": {
            "text/plain": [
              "<AxesSubplot:xlabel='Count', ylabel='DS_OCUPACAO'>"
            ]
          },
          "execution_count": 92,
          "metadata": {},
          "output_type": "execute_result"
        },
        {
          "data": {
            "image/png": "[encoded data removed]",
            "text/plain": [
              "<Figure size 1440x1440 with 1 Axes>"
            ]
          },
          "metadata": {
            "needs_background": "light"
          },
          "output_type": "display_data"
        }
      ],
      "source": [
        "plt.figure(figsize=[20, 20])\n",
        "sns.histplot(data=data, y=data['DS_OCUPACAO'], hue='DS_SIT_TOT_TURNO', palette='winter')\n"
      ]
    },
    {
      "cell_type": "markdown",
      "metadata": {},
      "source": [
        "## 4: Preparação dos Dados"
      ]
    },
    {
      "cell_type": "code",
      "execution_count": 93,
      "metadata": {},
      "outputs": [
        {
          "data": {
            "text/plain": [
              "Index(['SG_UE', 'NM_UE', 'CD_CARGO', 'DS_CARGO', 'NR_CANDIDATO',\n",
              "       'NM_CANDIDATO', 'NR_CPF_CANDIDATO', 'NM_EMAIL', 'TP_AGREMIACAO',\n",
              "       'NR_PARTIDO', 'NM_PARTIDO', 'DS_COMPOSICAO_COLIGACAO',\n",
              "       'CD_NACIONALIDADE', 'NR_IDADE_DATA_POSSE', 'DS_GENERO',\n",
              "       'DS_GRAU_INSTRUCAO', 'DS_ESTADO_CIVIL', 'DS_COR_RACA', 'DS_OCUPACAO',\n",
              "       'DS_SIT_TOT_TURNO', 'VR_RECEITA', 'VR_DESPESA_CONTRATADA'],\n",
              "      dtype='object')"
            ]
          },
          "execution_count": 93,
          "metadata": {},
          "output_type": "execute_result"
        }
      ],
      "source": [
        "data.columns"
      ]
    },
    {
      "cell_type": "code",
      "execution_count": 94,
      "metadata": {},
      "outputs": [
        {
          "name": "stdout",
          "output_type": "stream",
          "text": [
            "<class 'pandas.core.frame.DataFrame'>\n",
            "Int64Index: 337 entries, 0 to 336\n",
            "Data columns (total 22 columns):\n",
            " #   Column                   Non-Null Count  Dtype  \n",
            "---  ------                   --------------  -----  \n",
            " 0   SG_UE                    337 non-null    int64  \n",
            " 1   NM_UE                    337 non-null    object \n",
            " 2   CD_CARGO                 337 non-null    int64  \n",
            " 3   DS_CARGO                 337 non-null    object \n",
            " 4   NR_CANDIDATO             337 non-null    int64  \n",
            " 5   NM_CANDIDATO             337 non-null    object \n",
            " 6   NR_CPF_CANDIDATO         337 non-null    int64  \n",
            " 7   NM_EMAIL                 337 non-null    object \n",
            " 8   TP_AGREMIACAO            337 non-null    object \n",
            " 9   NR_PARTIDO               337 non-null    int64  \n",
            " 10  NM_PARTIDO               337 non-null    object \n",
            " 11  DS_COMPOSICAO_COLIGACAO  337 non-null    object \n",
            " 12  CD_NACIONALIDADE         337 non-null    int64  \n",
            " 13  NR_IDADE_DATA_POSSE      337 non-null    int64  \n",
            " 14  DS_GENERO                337 non-null    object \n",
            " 15  DS_GRAU_INSTRUCAO        337 non-null    object \n",
            " 16  DS_ESTADO_CIVIL          337 non-null    object \n",
            " 17  DS_COR_RACA              337 non-null    object \n",
            " 18  DS_OCUPACAO              337 non-null    object \n",
            " 19  DS_SIT_TOT_TURNO         337 non-null    object \n",
            " 20  VR_RECEITA               337 non-null    float64\n",
            " 21  VR_DESPESA_CONTRATADA    337 non-null    float64\n",
            "dtypes: float64(2), int64(7), object(13)\n",
            "memory usage: 68.7+ KB\n"
          ]
        }
      ],
      "source": [
        "data.info()"
      ]
    },
    {
      "cell_type": "code",
      "execution_count": 95,
      "metadata": {},
      "outputs": [
        {
          "data": {
            "text/html": [
              "<div>\n",
              "<style scoped>\n",
              "    .dataframe tbody tr th:only-of-type {\n",
              "        vertical-align: middle;\n",
              "    }\n",
              "\n",
              "    .dataframe tbody tr th {\n",
              "        vertical-align: top;\n",
              "    }\n",
              "\n",
              "    .dataframe thead th {\n",
              "        text-align: right;\n",
              "    }\n",
              "</style>\n",
              "<table border=\"1\" class=\"dataframe\">\n",
              "  <thead>\n",
              "    <tr style=\"text-align: right;\">\n",
              "      <th></th>\n",
              "      <th>SG_UE</th>\n",
              "      <th>CD_CARGO</th>\n",
              "      <th>NR_CANDIDATO</th>\n",
              "      <th>NR_CPF_CANDIDATO</th>\n",
              "      <th>NR_PARTIDO</th>\n",
              "      <th>CD_NACIONALIDADE</th>\n",
              "      <th>NR_IDADE_DATA_POSSE</th>\n",
              "      <th>VR_RECEITA</th>\n",
              "      <th>VR_DESPESA_CONTRATADA</th>\n",
              "    </tr>\n",
              "  </thead>\n",
              "  <tbody>\n",
              "    <tr>\n",
              "      <th>count</th>\n",
              "      <td>337.0</td>\n",
              "      <td>337.000000</td>\n",
              "      <td>337.000000</td>\n",
              "      <td>3.370000e+02</td>\n",
              "      <td>337.000000</td>\n",
              "      <td>337.000000</td>\n",
              "      <td>337.000000</td>\n",
              "      <td>337.000000</td>\n",
              "      <td>337.000000</td>\n",
              "    </tr>\n",
              "    <tr>\n",
              "      <th>mean</th>\n",
              "      <td>58190.0</td>\n",
              "      <td>12.997033</td>\n",
              "      <td>37880.937685</td>\n",
              "      <td>2.491488e+10</td>\n",
              "      <td>37.667656</td>\n",
              "      <td>1.002967</td>\n",
              "      <td>46.035608</td>\n",
              "      <td>9185.749852</td>\n",
              "      <td>6439.569377</td>\n",
              "    </tr>\n",
              "    <tr>\n",
              "      <th>std</th>\n",
              "      <td>0.0</td>\n",
              "      <td>0.054473</td>\n",
              "      <td>23244.657902</td>\n",
              "      <td>2.993513e+10</td>\n",
              "      <td>23.144781</td>\n",
              "      <td>0.054473</td>\n",
              "      <td>10.542653</td>\n",
              "      <td>12526.772433</td>\n",
              "      <td>11373.158236</td>\n",
              "    </tr>\n",
              "    <tr>\n",
              "      <th>min</th>\n",
              "      <td>58190.0</td>\n",
              "      <td>12.000000</td>\n",
              "      <td>45.000000</td>\n",
              "      <td>1.300148e+08</td>\n",
              "      <td>10.000000</td>\n",
              "      <td>1.000000</td>\n",
              "      <td>21.000000</td>\n",
              "      <td>187.500000</td>\n",
              "      <td>9.000000</td>\n",
              "    </tr>\n",
              "    <tr>\n",
              "      <th>25%</th>\n",
              "      <td>58190.0</td>\n",
              "      <td>13.000000</td>\n",
              "      <td>17444.000000</td>\n",
              "      <td>5.428702e+09</td>\n",
              "      <td>17.000000</td>\n",
              "      <td>1.000000</td>\n",
              "      <td>39.000000</td>\n",
              "      <td>2791.580000</td>\n",
              "      <td>995.000000</td>\n",
              "    </tr>\n",
              "    <tr>\n",
              "      <th>50%</th>\n",
              "      <td>58190.0</td>\n",
              "      <td>13.000000</td>\n",
              "      <td>28556.000000</td>\n",
              "      <td>1.018278e+10</td>\n",
              "      <td>28.000000</td>\n",
              "      <td>1.000000</td>\n",
              "      <td>46.000000</td>\n",
              "      <td>5149.700000</td>\n",
              "      <td>2610.000000</td>\n",
              "    </tr>\n",
              "    <tr>\n",
              "      <th>75%</th>\n",
              "      <td>58190.0</td>\n",
              "      <td>13.000000</td>\n",
              "      <td>55333.000000</td>\n",
              "      <td>4.191068e+10</td>\n",
              "      <td>55.000000</td>\n",
              "      <td>1.000000</td>\n",
              "      <td>55.000000</td>\n",
              "      <td>10467.600000</td>\n",
              "      <td>6380.350000</td>\n",
              "    </tr>\n",
              "    <tr>\n",
              "      <th>max</th>\n",
              "      <td>58190.0</td>\n",
              "      <td>13.000000</td>\n",
              "      <td>90999.000000</td>\n",
              "      <td>9.938322e+10</td>\n",
              "      <td>90.000000</td>\n",
              "      <td>2.000000</td>\n",
              "      <td>74.000000</td>\n",
              "      <td>107011.150000</td>\n",
              "      <td>106439.800000</td>\n",
              "    </tr>\n",
              "  </tbody>\n",
              "</table>\n",
              "</div>"
            ],
            "text/plain": [
              "         SG_UE    CD_CARGO  NR_CANDIDATO  NR_CPF_CANDIDATO  NR_PARTIDO  \\\n",
              "count    337.0  337.000000    337.000000      3.370000e+02  337.000000   \n",
              "mean   58190.0   12.997033  37880.937685      2.491488e+10   37.667656   \n",
              "std        0.0    0.054473  23244.657902      2.993513e+10   23.144781   \n",
              "min    58190.0   12.000000     45.000000      1.300148e+08   10.000000   \n",
              "25%    58190.0   13.000000  17444.000000      5.428702e+09   17.000000   \n",
              "50%    58190.0   13.000000  28556.000000      1.018278e+10   28.000000   \n",
              "75%    58190.0   13.000000  55333.000000      4.191068e+10   55.000000   \n",
              "max    58190.0   13.000000  90999.000000      9.938322e+10   90.000000   \n",
              "\n",
              "       CD_NACIONALIDADE  NR_IDADE_DATA_POSSE     VR_RECEITA  \\\n",
              "count        337.000000           337.000000     337.000000   \n",
              "mean           1.002967            46.035608    9185.749852   \n",
              "std            0.054473            10.542653   12526.772433   \n",
              "min            1.000000            21.000000     187.500000   \n",
              "25%            1.000000            39.000000    2791.580000   \n",
              "50%            1.000000            46.000000    5149.700000   \n",
              "75%            1.000000            55.000000   10467.600000   \n",
              "max            2.000000            74.000000  107011.150000   \n",
              "\n",
              "       VR_DESPESA_CONTRATADA  \n",
              "count             337.000000  \n",
              "mean             6439.569377  \n",
              "std             11373.158236  \n",
              "min                 9.000000  \n",
              "25%               995.000000  \n",
              "50%              2610.000000  \n",
              "75%              6380.350000  \n",
              "max            106439.800000  "
            ]
          },
          "execution_count": 95,
          "metadata": {},
          "output_type": "execute_result"
        }
      ],
      "source": [
        "data.describe()"
      ]
    },
    {
      "cell_type": "code",
      "execution_count": 96,
      "metadata": {},
      "outputs": [
        {
          "data": {
            "text/html": [
              "<div>\n",
              "<style scoped>\n",
              "    .dataframe tbody tr th:only-of-type {\n",
              "        vertical-align: middle;\n",
              "    }\n",
              "\n",
              "    .dataframe tbody tr th {\n",
              "        vertical-align: top;\n",
              "    }\n",
              "\n",
              "    .dataframe thead th {\n",
              "        text-align: right;\n",
              "    }\n",
              "</style>\n",
              "<table border=\"1\" class=\"dataframe\">\n",
              "  <thead>\n",
              "    <tr style=\"text-align: right;\">\n",
              "      <th></th>\n",
              "      <th>SG_UE</th>\n",
              "      <th>NM_UE</th>\n",
              "      <th>CD_CARGO</th>\n",
              "      <th>DS_CARGO</th>\n",
              "      <th>NR_CANDIDATO</th>\n",
              "      <th>NM_CANDIDATO</th>\n",
              "      <th>NR_CPF_CANDIDATO</th>\n",
              "      <th>NM_EMAIL</th>\n",
              "      <th>TP_AGREMIACAO</th>\n",
              "      <th>NR_PARTIDO</th>\n",
              "      <th>...</th>\n",
              "      <th>CD_NACIONALIDADE</th>\n",
              "      <th>NR_IDADE_DATA_POSSE</th>\n",
              "      <th>DS_GENERO</th>\n",
              "      <th>DS_GRAU_INSTRUCAO</th>\n",
              "      <th>DS_ESTADO_CIVIL</th>\n",
              "      <th>DS_COR_RACA</th>\n",
              "      <th>DS_OCUPACAO</th>\n",
              "      <th>DS_SIT_TOT_TURNO</th>\n",
              "      <th>VR_RECEITA</th>\n",
              "      <th>VR_DESPESA_CONTRATADA</th>\n",
              "    </tr>\n",
              "  </thead>\n",
              "  <tbody>\n",
              "    <tr>\n",
              "      <th>0</th>\n",
              "      <td>58190</td>\n",
              "      <td>CAMPOS DOS GOYTACAZES</td>\n",
              "      <td>13</td>\n",
              "      <td>VEREADOR</td>\n",
              "      <td>55025</td>\n",
              "      <td>FRANÇOISE DA SILVA CIAFRINO</td>\n",
              "      <td>7072909702</td>\n",
              "      <td>ADVOCACIAELEITORAL2020@HOTMAIL.COM</td>\n",
              "      <td>PARTIDO ISOLADO</td>\n",
              "      <td>55</td>\n",
              "      <td>...</td>\n",
              "      <td>1</td>\n",
              "      <td>55</td>\n",
              "      <td>FEMININO</td>\n",
              "      <td>ENSINO MÉDIO COMPLETO</td>\n",
              "      <td>VIÚVO(A)</td>\n",
              "      <td>BRANCA</td>\n",
              "      <td>DONA DE CASA</td>\n",
              "      <td>SUPLENTE</td>\n",
              "      <td>11701.38</td>\n",
              "      <td>10000.0</td>\n",
              "    </tr>\n",
              "    <tr>\n",
              "      <th>1</th>\n",
              "      <td>58190</td>\n",
              "      <td>CAMPOS DOS GOYTACAZES</td>\n",
              "      <td>13</td>\n",
              "      <td>VEREADOR</td>\n",
              "      <td>18777</td>\n",
              "      <td>FREDERICO HENRIQUE GONÇALVES</td>\n",
              "      <td>9034045757</td>\n",
              "      <td>FRED.CARMEM@GMAIL.COM</td>\n",
              "      <td>PARTIDO ISOLADO</td>\n",
              "      <td>18</td>\n",
              "      <td>...</td>\n",
              "      <td>1</td>\n",
              "      <td>39</td>\n",
              "      <td>MASCULINO</td>\n",
              "      <td>ENSINO MÉDIO COMPLETO</td>\n",
              "      <td>CASADO(A)</td>\n",
              "      <td>BRANCA</td>\n",
              "      <td>SERVIDOR PÚBLICO MUNICIPAL</td>\n",
              "      <td>NÃO ELEITO</td>\n",
              "      <td>700.00</td>\n",
              "      <td>200.0</td>\n",
              "    </tr>\n",
              "    <tr>\n",
              "      <th>2</th>\n",
              "      <td>58190</td>\n",
              "      <td>CAMPOS DOS GOYTACAZES</td>\n",
              "      <td>13</td>\n",
              "      <td>VEREADOR</td>\n",
              "      <td>90333</td>\n",
              "      <td>THIAGO RANGEL LIMA</td>\n",
              "      <td>11729161790</td>\n",
              "      <td>ADVOCACIAELEITORAL2020@HOTMAIL.COM</td>\n",
              "      <td>PARTIDO ISOLADO</td>\n",
              "      <td>90</td>\n",
              "      <td>...</td>\n",
              "      <td>1</td>\n",
              "      <td>24</td>\n",
              "      <td>MASCULINO</td>\n",
              "      <td>SUPERIOR COMPLETO</td>\n",
              "      <td>SOLTEIRO(A)</td>\n",
              "      <td>PARDA</td>\n",
              "      <td>COMERCIANTE</td>\n",
              "      <td>ELEITO</td>\n",
              "      <td>107011.15</td>\n",
              "      <td>106439.8</td>\n",
              "    </tr>\n",
              "  </tbody>\n",
              "</table>\n",
              "<p>3 rows × 22 columns</p>\n",
              "</div>"
            ],
            "text/plain": [
              "   SG_UE                  NM_UE  CD_CARGO  DS_CARGO  NR_CANDIDATO  \\\n",
              "0  58190  CAMPOS DOS GOYTACAZES        13  VEREADOR         55025   \n",
              "1  58190  CAMPOS DOS GOYTACAZES        13  VEREADOR         18777   \n",
              "2  58190  CAMPOS DOS GOYTACAZES        13  VEREADOR         90333   \n",
              "\n",
              "                   NM_CANDIDATO  NR_CPF_CANDIDATO  \\\n",
              "0   FRANÇOISE DA SILVA CIAFRINO        7072909702   \n",
              "1  FREDERICO HENRIQUE GONÇALVES        9034045757   \n",
              "2            THIAGO RANGEL LIMA       11729161790   \n",
              "\n",
              "                             NM_EMAIL    TP_AGREMIACAO  NR_PARTIDO  ...  \\\n",
              "0  ADVOCACIAELEITORAL2020@HOTMAIL.COM  PARTIDO ISOLADO          55  ...   \n",
              "1               FRED.CARMEM@GMAIL.COM  PARTIDO ISOLADO          18  ...   \n",
              "2  ADVOCACIAELEITORAL2020@HOTMAIL.COM  PARTIDO ISOLADO          90  ...   \n",
              "\n",
              "  CD_NACIONALIDADE NR_IDADE_DATA_POSSE  DS_GENERO      DS_GRAU_INSTRUCAO  \\\n",
              "0                1                  55   FEMININO  ENSINO MÉDIO COMPLETO   \n",
              "1                1                  39  MASCULINO  ENSINO MÉDIO COMPLETO   \n",
              "2                1                  24  MASCULINO      SUPERIOR COMPLETO   \n",
              "\n",
              "  DS_ESTADO_CIVIL DS_COR_RACA                 DS_OCUPACAO DS_SIT_TOT_TURNO  \\\n",
              "0        VIÚVO(A)      BRANCA                DONA DE CASA         SUPLENTE   \n",
              "1       CASADO(A)      BRANCA  SERVIDOR PÚBLICO MUNICIPAL       NÃO ELEITO   \n",
              "2     SOLTEIRO(A)       PARDA                 COMERCIANTE           ELEITO   \n",
              "\n",
              "  VR_RECEITA VR_DESPESA_CONTRATADA  \n",
              "0   11701.38               10000.0  \n",
              "1     700.00                 200.0  \n",
              "2  107011.15              106439.8  \n",
              "\n",
              "[3 rows x 22 columns]"
            ]
          },
          "execution_count": 96,
          "metadata": {},
          "output_type": "execute_result"
        }
      ],
      "source": [
        "data.head(3)"
      ]
    },
    {
      "cell_type": "code",
      "execution_count": 97,
      "metadata": {},
      "outputs": [
        {
          "data": {
            "text/html": [
              "<div>\n",
              "<style scoped>\n",
              "    .dataframe tbody tr th:only-of-type {\n",
              "        vertical-align: middle;\n",
              "    }\n",
              "\n",
              "    .dataframe tbody tr th {\n",
              "        vertical-align: top;\n",
              "    }\n",
              "\n",
              "    .dataframe thead th {\n",
              "        text-align: right;\n",
              "    }\n",
              "</style>\n",
              "<table border=\"1\" class=\"dataframe\">\n",
              "  <thead>\n",
              "    <tr style=\"text-align: right;\">\n",
              "      <th></th>\n",
              "      <th>NR_PARTIDO</th>\n",
              "      <th>NM_PARTIDO</th>\n",
              "      <th>DS_COMPOSICAO_COLIGACAO</th>\n",
              "      <th>CD_NACIONALIDADE</th>\n",
              "    </tr>\n",
              "  </thead>\n",
              "  <tbody>\n",
              "    <tr>\n",
              "      <th>0</th>\n",
              "      <td>55</td>\n",
              "      <td>PARTIDO SOCIAL DEMOCRÁTICO</td>\n",
              "      <td>PSD</td>\n",
              "      <td>1</td>\n",
              "    </tr>\n",
              "    <tr>\n",
              "      <th>1</th>\n",
              "      <td>18</td>\n",
              "      <td>REDE SUSTENTABILIDADE</td>\n",
              "      <td>REDE</td>\n",
              "      <td>1</td>\n",
              "    </tr>\n",
              "    <tr>\n",
              "      <th>2</th>\n",
              "      <td>90</td>\n",
              "      <td>PARTIDO REPUBLICANO DA ORDEM SOCIAL</td>\n",
              "      <td>PROS</td>\n",
              "      <td>1</td>\n",
              "    </tr>\n",
              "  </tbody>\n",
              "</table>\n",
              "</div>"
            ],
            "text/plain": [
              "   NR_PARTIDO                           NM_PARTIDO DS_COMPOSICAO_COLIGACAO  \\\n",
              "0          55           PARTIDO SOCIAL DEMOCRÁTICO                     PSD   \n",
              "1          18                REDE SUSTENTABILIDADE                    REDE   \n",
              "2          90  PARTIDO REPUBLICANO DA ORDEM SOCIAL                    PROS   \n",
              "\n",
              "   CD_NACIONALIDADE  \n",
              "0                 1  \n",
              "1                 1  \n",
              "2                 1  "
            ]
          },
          "execution_count": 97,
          "metadata": {},
          "output_type": "execute_result"
        }
      ],
      "source": [
        "data.head(3).iloc[:, 9:13]"
      ]
    },
    {
      "cell_type": "markdown",
      "metadata": {},
      "source": [
        "### A coluna `CD_NACIONALIDADE` também será levada em conta, mesmo só havendo 1 nacionalidade diferente"
      ]
    },
    {
      "cell_type": "code",
      "execution_count": 98,
      "metadata": {},
      "outputs": [
        {
          "data": {
            "text/plain": [
              "(array([1, 2]), array([336,   1]))"
            ]
          },
          "execution_count": 98,
          "metadata": {},
          "output_type": "execute_result"
        }
      ],
      "source": [
        "np.unique(data['CD_NACIONALIDADE'], return_counts=True)"
      ]
    },
    {
      "cell_type": "markdown",
      "metadata": {},
      "source": [
        "### Definir as colunas a serem utilizadas para o valor de `X` e `Y`"
      ]
    },
    {
      "cell_type": "code",
      "execution_count": 99,
      "metadata": {},
      "outputs": [],
      "source": [
        "columns_to_drop = [\n",
        "  'SG_UE', 'NM_UE', 'CD_CARGO', 'DS_CARGO', 'NR_CANDIDATO', 'NM_CANDIDATO', 'NR_CPF_CANDIDATO', 'NM_EMAIL', 'TP_AGREMIACAO', 'NR_PARTIDO', 'DS_COMPOSICAO_COLIGACAO'\n",
        "]"
      ]
    },
    {
      "cell_type": "code",
      "execution_count": 100,
      "metadata": {},
      "outputs": [
        {
          "data": {
            "text/html": [
              "<div>\n",
              "<style scoped>\n",
              "    .dataframe tbody tr th:only-of-type {\n",
              "        vertical-align: middle;\n",
              "    }\n",
              "\n",
              "    .dataframe tbody tr th {\n",
              "        vertical-align: top;\n",
              "    }\n",
              "\n",
              "    .dataframe thead th {\n",
              "        text-align: right;\n",
              "    }\n",
              "</style>\n",
              "<table border=\"1\" class=\"dataframe\">\n",
              "  <thead>\n",
              "    <tr style=\"text-align: right;\">\n",
              "      <th></th>\n",
              "      <th>NM_PARTIDO</th>\n",
              "      <th>CD_NACIONALIDADE</th>\n",
              "      <th>NR_IDADE_DATA_POSSE</th>\n",
              "      <th>DS_GENERO</th>\n",
              "      <th>DS_GRAU_INSTRUCAO</th>\n",
              "      <th>DS_ESTADO_CIVIL</th>\n",
              "      <th>DS_COR_RACA</th>\n",
              "      <th>DS_OCUPACAO</th>\n",
              "      <th>DS_SIT_TOT_TURNO</th>\n",
              "      <th>VR_RECEITA</th>\n",
              "      <th>VR_DESPESA_CONTRATADA</th>\n",
              "    </tr>\n",
              "  </thead>\n",
              "  <tbody>\n",
              "    <tr>\n",
              "      <th>0</th>\n",
              "      <td>PARTIDO SOCIAL DEMOCRÁTICO</td>\n",
              "      <td>1</td>\n",
              "      <td>55</td>\n",
              "      <td>FEMININO</td>\n",
              "      <td>ENSINO MÉDIO COMPLETO</td>\n",
              "      <td>VIÚVO(A)</td>\n",
              "      <td>BRANCA</td>\n",
              "      <td>DONA DE CASA</td>\n",
              "      <td>SUPLENTE</td>\n",
              "      <td>11701.38</td>\n",
              "      <td>10000.0</td>\n",
              "    </tr>\n",
              "  </tbody>\n",
              "</table>\n",
              "</div>"
            ],
            "text/plain": [
              "                   NM_PARTIDO  CD_NACIONALIDADE  NR_IDADE_DATA_POSSE  \\\n",
              "0  PARTIDO SOCIAL DEMOCRÁTICO                 1                   55   \n",
              "\n",
              "  DS_GENERO      DS_GRAU_INSTRUCAO DS_ESTADO_CIVIL DS_COR_RACA   DS_OCUPACAO  \\\n",
              "0  FEMININO  ENSINO MÉDIO COMPLETO        VIÚVO(A)      BRANCA  DONA DE CASA   \n",
              "\n",
              "  DS_SIT_TOT_TURNO  VR_RECEITA  VR_DESPESA_CONTRATADA  \n",
              "0         SUPLENTE    11701.38                10000.0  "
            ]
          },
          "execution_count": 100,
          "metadata": {},
          "output_type": "execute_result"
        }
      ],
      "source": [
        "data.drop(columns=columns_to_drop, axis=1, inplace=True)\n",
        "dataset = data.copy()\n",
        "dataset.head(1)"
      ]
    },
    {
      "cell_type": "markdown",
      "metadata": {},
      "source": [
        "### Usar o `LabelEncoder` para converter palavras para números, assim poderá ser treinado"
      ]
    },
    {
      "cell_type": "code",
      "execution_count": 102,
      "metadata": {},
      "outputs": [],
      "source": [
        "label_encoders = LabelEncoder()\n",
        "dataset.iloc[:, 0] = label_encoders.fit_transform(dataset.iloc[:, 0])\n",
        "\n",
        "for i in range(3, 9):\n",
        "    dataset.iloc[:, i] = label_encoders.fit_transform(dataset.iloc[:, i])\n"
      ]
    },
    {
      "cell_type": "code",
      "execution_count": 103,
      "metadata": {},
      "outputs": [
        {
          "data": {
            "text/html": [
              "<div>\n",
              "<style scoped>\n",
              "    .dataframe tbody tr th:only-of-type {\n",
              "        vertical-align: middle;\n",
              "    }\n",
              "\n",
              "    .dataframe tbody tr th {\n",
              "        vertical-align: top;\n",
              "    }\n",
              "\n",
              "    .dataframe thead th {\n",
              "        text-align: right;\n",
              "    }\n",
              "</style>\n",
              "<table border=\"1\" class=\"dataframe\">\n",
              "  <thead>\n",
              "    <tr style=\"text-align: right;\">\n",
              "      <th></th>\n",
              "      <th>NM_PARTIDO</th>\n",
              "      <th>CD_NACIONALIDADE</th>\n",
              "      <th>NR_IDADE_DATA_POSSE</th>\n",
              "      <th>DS_GENERO</th>\n",
              "      <th>DS_GRAU_INSTRUCAO</th>\n",
              "      <th>DS_ESTADO_CIVIL</th>\n",
              "      <th>DS_COR_RACA</th>\n",
              "      <th>DS_OCUPACAO</th>\n",
              "      <th>DS_SIT_TOT_TURNO</th>\n",
              "      <th>VR_RECEITA</th>\n",
              "      <th>VR_DESPESA_CONTRATADA</th>\n",
              "    </tr>\n",
              "  </thead>\n",
              "  <tbody>\n",
              "    <tr>\n",
              "      <th>0</th>\n",
              "      <td>15</td>\n",
              "      <td>1</td>\n",
              "      <td>55</td>\n",
              "      <td>0</td>\n",
              "      <td>2</td>\n",
              "      <td>3</td>\n",
              "      <td>1</td>\n",
              "      <td>19</td>\n",
              "      <td>2</td>\n",
              "      <td>11701.38</td>\n",
              "      <td>10000.0</td>\n",
              "    </tr>\n",
              "  </tbody>\n",
              "</table>\n",
              "</div>"
            ],
            "text/plain": [
              "   NM_PARTIDO  CD_NACIONALIDADE  NR_IDADE_DATA_POSSE  DS_GENERO  \\\n",
              "0          15                 1                   55          0   \n",
              "\n",
              "   DS_GRAU_INSTRUCAO  DS_ESTADO_CIVIL  DS_COR_RACA  DS_OCUPACAO  \\\n",
              "0                  2                3            1           19   \n",
              "\n",
              "   DS_SIT_TOT_TURNO  VR_RECEITA  VR_DESPESA_CONTRATADA  \n",
              "0                 2    11701.38                10000.0  "
            ]
          },
          "execution_count": 103,
          "metadata": {},
          "output_type": "execute_result"
        }
      ],
      "source": [
        "dataset.head(1)"
      ]
    },
    {
      "cell_type": "markdown",
      "metadata": {},
      "source": [
        "### Utilizando o `MinMaxScaler` para normalizar todos os valores"
      ]
    },
    {
      "cell_type": "code",
      "execution_count": 104,
      "metadata": {},
      "outputs": [],
      "source": [
        "scaler = MinMaxScaler(feature_range=(0, 1))\n",
        "dataset[dataset.columns] = scaler.fit_transform(dataset[dataset.columns])\n"
      ]
    },
    {
      "cell_type": "code",
      "execution_count": 105,
      "metadata": {},
      "outputs": [
        {
          "data": {
            "text/html": [
              "<div>\n",
              "<style scoped>\n",
              "    .dataframe tbody tr th:only-of-type {\n",
              "        vertical-align: middle;\n",
              "    }\n",
              "\n",
              "    .dataframe tbody tr th {\n",
              "        vertical-align: top;\n",
              "    }\n",
              "\n",
              "    .dataframe thead th {\n",
              "        text-align: right;\n",
              "    }\n",
              "</style>\n",
              "<table border=\"1\" class=\"dataframe\">\n",
              "  <thead>\n",
              "    <tr style=\"text-align: right;\">\n",
              "      <th></th>\n",
              "      <th>NM_PARTIDO</th>\n",
              "      <th>CD_NACIONALIDADE</th>\n",
              "      <th>NR_IDADE_DATA_POSSE</th>\n",
              "      <th>DS_GENERO</th>\n",
              "      <th>DS_GRAU_INSTRUCAO</th>\n",
              "      <th>DS_ESTADO_CIVIL</th>\n",
              "      <th>DS_COR_RACA</th>\n",
              "      <th>DS_OCUPACAO</th>\n",
              "      <th>DS_SIT_TOT_TURNO</th>\n",
              "      <th>VR_RECEITA</th>\n",
              "      <th>VR_DESPESA_CONTRATADA</th>\n",
              "    </tr>\n",
              "  </thead>\n",
              "  <tbody>\n",
              "    <tr>\n",
              "      <th>0</th>\n",
              "      <td>0.6</td>\n",
              "      <td>0.0</td>\n",
              "      <td>0.641509</td>\n",
              "      <td>0.0</td>\n",
              "      <td>0.333333</td>\n",
              "      <td>1.0</td>\n",
              "      <td>0.2</td>\n",
              "      <td>0.253333</td>\n",
              "      <td>1.0</td>\n",
              "      <td>0.107784</td>\n",
              "      <td>0.093873</td>\n",
              "    </tr>\n",
              "  </tbody>\n",
              "</table>\n",
              "</div>"
            ],
            "text/plain": [
              "   NM_PARTIDO  CD_NACIONALIDADE  NR_IDADE_DATA_POSSE  DS_GENERO  \\\n",
              "0         0.6               0.0             0.641509        0.0   \n",
              "\n",
              "   DS_GRAU_INSTRUCAO  DS_ESTADO_CIVIL  DS_COR_RACA  DS_OCUPACAO  \\\n",
              "0           0.333333              1.0          0.2     0.253333   \n",
              "\n",
              "   DS_SIT_TOT_TURNO  VR_RECEITA  VR_DESPESA_CONTRATADA  \n",
              "0               1.0    0.107784               0.093873  "
            ]
          },
          "execution_count": 105,
          "metadata": {},
          "output_type": "execute_result"
        }
      ],
      "source": [
        "dataset.head(1)"
      ]
    },
    {
      "cell_type": "markdown",
      "metadata": {},
      "source": [
        "### Definindo o `X` e o `Y`"
      ]
    },
    {
      "cell_type": "code",
      "execution_count": 106,
      "metadata": {},
      "outputs": [
        {
          "data": {
            "text/plain": [
              "array([0.6       , 0.        , 0.64150943, 0.        , 0.33333333,\n",
              "       1.        , 0.2       , 0.25333333, 0.107784  , 0.0938732 ])"
            ]
          },
          "execution_count": 106,
          "metadata": {},
          "output_type": "execute_result"
        }
      ],
      "source": [
        "x_data = dataset.drop(columns='DS_SIT_TOT_TURNO', axis=1).values\n",
        "x_data[0]"
      ]
    },
    {
      "cell_type": "code",
      "execution_count": 107,
      "metadata": {},
      "outputs": [
        {
          "data": {
            "text/plain": [
              "array([1. , 0.5, 0. , 1. , 0.5, 1. , 1. , 1. , 1. , 1. , 1. , 1. , 1. ,\n",
              "       1. , 1. , 1. , 1. , 0.5, 1. , 1. , 0.5, 1. , 1. , 1. , 1. , 1. ,\n",
              "       1. , 0.5, 1. , 1. , 1. , 0. , 1. , 1. , 1. , 1. , 0. , 0.5, 0. ,\n",
              "       1. , 1. , 1. , 1. , 0.5, 1. , 0. , 0.5, 1. , 1. , 0.5, 0.5, 1. ,\n",
              "       0.5, 0.5, 1. , 0.5, 1. , 1. , 1. , 1. , 0.5, 1. , 1. , 0.5, 0.5,\n",
              "       0. , 1. , 1. , 1. , 1. , 1. , 0.5, 1. , 1. , 0.5, 1. , 0.5, 1. ,\n",
              "       0.5, 1. , 1. , 1. , 1. , 0.5, 0.5, 1. , 0.5, 1. , 1. , 1. , 1. ,\n",
              "       0. , 1. , 1. , 0.5, 0.5, 1. , 1. , 0.5, 1. , 1. , 0.5, 0.5, 1. ,\n",
              "       1. , 0. , 1. , 1. , 1. , 1. , 1. , 0.5, 1. , 1. , 0.5, 1. , 1. ,\n",
              "       0.5, 1. , 0.5, 0. , 1. , 1. , 0.5, 1. , 1. , 1. , 0.5, 1. , 1. ,\n",
              "       1. , 1. , 1. , 0.5, 0.5, 0.5, 1. , 0.5, 1. , 1. , 0.5, 1. , 0.5,\n",
              "       1. , 0.5, 1. , 1. , 1. , 0. , 1. , 1. , 0.5, 1. , 0.5, 0.5, 0.5,\n",
              "       1. , 0.5, 1. , 1. , 0.5, 1. , 0.5, 1. , 1. , 1. , 1. , 1. , 1. ,\n",
              "       0.5, 1. , 1. , 1. , 1. , 1. , 0.5, 1. , 1. , 1. , 1. , 1. , 1. ,\n",
              "       1. , 1. , 0. , 1. , 1. , 1. , 1. , 1. , 0.5, 1. , 1. , 0.5, 1. ,\n",
              "       0.5, 0.5, 0.5, 1. , 0.5, 0.5, 0.5, 1. , 1. , 1. , 0. , 1. , 1. ,\n",
              "       0. , 1. , 1. , 1. , 1. , 0. , 0.5, 1. , 1. , 1. , 1. , 1. , 0. ,\n",
              "       0. , 0.5, 1. , 0.5, 0. , 1. , 0.5, 1. , 0.5, 0. , 1. , 1. , 0. ,\n",
              "       0.5, 1. , 0.5, 1. , 1. , 1. , 1. , 1. , 1. , 0.5, 0.5, 1. , 0.5,\n",
              "       1. , 1. , 0.5, 0.5, 1. , 1. , 0.5, 1. , 0.5, 1. , 1. , 1. , 1. ,\n",
              "       1. , 1. , 1. , 0.5, 1. , 1. , 1. , 1. , 0.5, 1. , 1. , 1. , 1. ,\n",
              "       1. , 1. , 0.5, 1. , 0.5, 1. , 1. , 1. , 0.5, 1. , 1. , 0.5, 0.5,\n",
              "       0. , 1. , 1. , 1. , 0.5, 0. , 1. , 1. , 1. , 0.5, 1. , 0.5, 1. ,\n",
              "       0.5, 0.5, 1. , 1. , 1. , 0. , 1. , 1. , 1. , 1. , 0.5, 1. , 1. ,\n",
              "       0.5, 1. , 1. , 1. , 0. , 1. , 1. , 0. , 1. , 1. , 0. , 1. , 1. ,\n",
              "       1. , 0.5, 0.5, 1. , 1. , 1. , 0.5, 1. , 0.5, 0.5, 1. , 1. ])"
            ]
          },
          "execution_count": 107,
          "metadata": {},
          "output_type": "execute_result"
        }
      ],
      "source": [
        "y_data = dataset['DS_SIT_TOT_TURNO'].values\n",
        "y_data"
      ]
    },
    {
      "cell_type": "code",
      "execution_count": 108,
      "metadata": {},
      "outputs": [
        {
          "data": {
            "text/plain": [
              "((337, 10), (337,))"
            ]
          },
          "execution_count": 108,
          "metadata": {},
          "output_type": "execute_result"
        }
      ],
      "source": [
        "x_data.shape, y_data.shape"
      ]
    },
    {
      "cell_type": "markdown",
      "metadata": {},
      "source": [
        "## 5: Arquitetura da `Rede Neural Recorrente`\n"
      ]
    },
    {
      "cell_type": "code",
      "execution_count": 109,
      "metadata": {},
      "outputs": [],
      "source": [
        "x_train, x_test, y_train, y_test = train_test_split(x_data, y_data, test_size=0.3, random_state=0)"
      ]
    },
    {
      "cell_type": "markdown",
      "metadata": {},
      "source": [
        "### Salvando variáveis de `Treino/Teste` e `Scaler`"
      ]
    },
    {
      "cell_type": "code",
      "execution_count": 110,
      "metadata": {},
      "outputs": [],
      "source": [
        "with open(file='data/election_train_test_scaler.pkl', mode='wb') as f:\n",
        "    pickle.dump([x_train, x_test, y_train, y_test, scaler], f)\n"
      ]
    },
    {
      "cell_type": "markdown",
      "metadata": {},
      "source": [
        "### Checkpoint"
      ]
    },
    {
      "cell_type": "code",
      "execution_count": 111,
      "metadata": {},
      "outputs": [],
      "source": [
        "checkpoint_dir = './training_checkpoints'\n",
        "checkpoint_prefix = os.path.join(checkpoint_dir, 'ckpt_{epoch:02d}-{loss:.4f}')\n",
        "checkpoint_callback = ModelCheckpoint(filepath=checkpoint_prefix, save_weights_only=True)"
      ]
    },
    {
      "cell_type": "code",
      "execution_count": 112,
      "metadata": {},
      "outputs": [],
      "source": [
        "y_classes = len(np.unique(y_data))\n",
        "rnn_units = 256"
      ]
    },
    {
      "cell_type": "markdown",
      "metadata": {},
      "source": [
        "### Construindo o Modelo"
      ]
    },
    {
      "cell_type": "code",
      "execution_count": 56,
      "metadata": {},
      "outputs": [],
      "source": [
        "def build_model(x_shape, y_classes, rnn_units):\n",
        "  print(f'Entrada: {x_shape}')\n",
        "  model = Sequential()\n",
        "  model.add(LSTM(rnn_units, input_shape=(x_shape[-1], 1)))\n",
        "  model.add(Dense(y_classes))\n",
        "  model.add(Dense(1, activation='softmax'))\n",
        "  model.compile(loss='mse', optimizer='adam', metrics=['accuracy'])\n",
        "\n",
        "  return model"
      ]
    },
    {
      "cell_type": "code",
      "execution_count": null,
      "metadata": {},
      "outputs": [
        {
          "name": "stdout",
          "output_type": "stream",
          "text": [
            "Entrada: (337, 10)\n"
          ]
        },
        {
          "name": "stderr",
          "output_type": "stream",
          "text": [
            "2021-12-17 15:03:02.391481: I tensorflow/stream_executor/cuda/cuda_gpu_executor.cc:939] successful NUMA node read from SysFS had negative value (-1), but there must be at least one NUMA node, so returning NUMA node zero\n",
            "2021-12-17 15:03:02.488183: I tensorflow/stream_executor/cuda/cuda_gpu_executor.cc:939] successful NUMA node read from SysFS had negative value (-1), but there must be at least one NUMA node, so returning NUMA node zero\n",
            "2021-12-17 15:03:02.488403: I tensorflow/stream_executor/cuda/cuda_gpu_executor.cc:939] successful NUMA node read from SysFS had negative value (-1), but there must be at least one NUMA node, so returning NUMA node zero\n",
            "2021-12-17 15:03:02.488917: I tensorflow/core/platform/cpu_feature_guard.cc:151] This TensorFlow binary is optimized with oneAPI Deep Neural Network Library (oneDNN) to use the following CPU instructions in performance-critical operations:  AVX2 FMA\n",
            "To enable them in other operations, rebuild TensorFlow with the appropriate compiler flags.\n",
            "2021-12-17 15:03:02.489425: I tensorflow/stream_executor/cuda/cuda_gpu_executor.cc:939] successful NUMA node read from SysFS had negative value (-1), but there must be at least one NUMA node, so returning NUMA node zero\n",
            "2021-12-17 15:03:02.489614: I tensorflow/stream_executor/cuda/cuda_gpu_executor.cc:939] successful NUMA node read from SysFS had negative value (-1), but there must be at least one NUMA node, so returning NUMA node zero\n",
            "2021-12-17 15:03:02.489783: I tensorflow/stream_executor/cuda/cuda_gpu_executor.cc:939] successful NUMA node read from SysFS had negative value (-1), but there must be at least one NUMA node, so returning NUMA node zero\n",
            "2021-12-17 15:03:02.948128: I tensorflow/stream_executor/cuda/cuda_gpu_executor.cc:939] successful NUMA node read from SysFS had negative value (-1), but there must be at least one NUMA node, so returning NUMA node zero\n",
            "2021-12-17 15:03:02.948341: I tensorflow/stream_executor/cuda/cuda_gpu_executor.cc:939] successful NUMA node read from SysFS had negative value (-1), but there must be at least one NUMA node, so returning NUMA node zero\n",
            "2021-12-17 15:03:02.948525: I tensorflow/stream_executor/cuda/cuda_gpu_executor.cc:939] successful NUMA node read from SysFS had negative value (-1), but there must be at least one NUMA node, so returning NUMA node zero\n",
            "2021-12-17 15:03:02.948678: I tensorflow/core/common_runtime/gpu/gpu_device.cc:1525] Created device /job:localhost/replica:0/task:0/device:GPU:0 with 4590 MB memory:  -> device: 0, name: NVIDIA GeForce GTX 1060 6GB, pci bus id: 0000:07:00.0, compute capability: 6.1\n"
          ]
        }
      ],
      "source": [
        "model = build_model(x_shape=x_data.shape, y_classes=y_classes, rnn_units=rnn_units)"
      ]
    },
    {
      "cell_type": "code",
      "execution_count": null,
      "metadata": {},
      "outputs": [
        {
          "name": "stdout",
          "output_type": "stream",
          "text": [
            "Model: \"sequential\"\n",
            "_________________________________________________________________\n",
            " Layer (type)                Output Shape              Param #   \n",
            "=================================================================\n",
            " lstm (LSTM)                 (None, 256)               264192    \n",
            "                                                                 \n",
            " dense (Dense)               (None, 3)                 771       \n",
            "                                                                 \n",
            " dense_1 (Dense)             (None, 1)                 4         \n",
            "                                                                 \n",
            "=================================================================\n",
            "Total params: 264,967\n",
            "Trainable params: 264,967\n",
            "Non-trainable params: 0\n",
            "_________________________________________________________________\n"
          ]
        }
      ],
      "source": [
        "model.summary()"
      ]
    },
    {
      "cell_type": "code",
      "execution_count": null,
      "metadata": {},
      "outputs": [
        {
          "data": {
            "text/plain": [
              "(numpy.ndarray, numpy.ndarray, numpy.ndarray, numpy.float64)"
            ]
          },
          "execution_count": 58,
          "metadata": {},
          "output_type": "execute_result"
        }
      ],
      "source": [
        "x_train.__class__, y_train.__class__, x_train[0].__class__, y_train[0].__class__"
      ]
    },
    {
      "cell_type": "code",
      "execution_count": null,
      "metadata": {},
      "outputs": [
        {
          "data": {
            "text/plain": [
              "((235, 10), (235,))"
            ]
          },
          "execution_count": 59,
          "metadata": {},
          "output_type": "execute_result"
        }
      ],
      "source": [
        "x_train.shape, y_train.shape"
      ]
    },
    {
      "cell_type": "code",
      "execution_count": null,
      "metadata": {},
      "outputs": [
        {
          "data": {
            "text/plain": [
              "((102, 10), (102,))"
            ]
          },
          "execution_count": 60,
          "metadata": {},
          "output_type": "execute_result"
        }
      ],
      "source": [
        "x_test.shape, y_test.shape"
      ]
    },
    {
      "cell_type": "code",
      "execution_count": null,
      "metadata": {},
      "outputs": [
        {
          "name": "stdout",
          "output_type": "stream",
          "text": [
            "Epoch 1/50\n"
          ]
        },
        {
          "name": "stderr",
          "output_type": "stream",
          "text": [
            "2021-12-17 15:03:05.382656: I tensorflow/stream_executor/cuda/cuda_dnn.cc:366] Loaded cuDNN version 8300\n"
          ]
        },
        {
          "name": "stdout",
          "output_type": "stream",
          "text": [
            "235/235 - 3s - loss: 0.1426 - accuracy: 0.6596 - 3s/epoch - 11ms/step\n",
            "Epoch 2/50\n",
            "235/235 - 1s - loss: 0.1426 - accuracy: 0.6596 - 573ms/epoch - 2ms/step\n",
            "Epoch 3/50\n",
            "235/235 - 1s - loss: 0.1426 - accuracy: 0.6596 - 831ms/epoch - 4ms/step\n",
            "Epoch 4/50\n",
            "235/235 - 1s - loss: 0.1426 - accuracy: 0.6596 - 707ms/epoch - 3ms/step\n",
            "Epoch 5/50\n",
            "235/235 - 1s - loss: 0.1426 - accuracy: 0.6596 - 726ms/epoch - 3ms/step\n",
            "Epoch 6/50\n",
            "235/235 - 1s - loss: 0.1426 - accuracy: 0.6596 - 719ms/epoch - 3ms/step\n",
            "Epoch 7/50\n",
            "235/235 - 1s - loss: 0.1426 - accuracy: 0.6596 - 706ms/epoch - 3ms/step\n",
            "Epoch 8/50\n",
            "235/235 - 1s - loss: 0.1426 - accuracy: 0.6596 - 764ms/epoch - 3ms/step\n",
            "Epoch 9/50\n",
            "235/235 - 1s - loss: 0.1426 - accuracy: 0.6596 - 705ms/epoch - 3ms/step\n",
            "Epoch 10/50\n",
            "235/235 - 1s - loss: 0.1426 - accuracy: 0.6596 - 676ms/epoch - 3ms/step\n",
            "Epoch 11/50\n",
            "235/235 - 1s - loss: 0.1426 - accuracy: 0.6596 - 650ms/epoch - 3ms/step\n",
            "Epoch 12/50\n",
            "235/235 - 1s - loss: 0.1426 - accuracy: 0.6596 - 707ms/epoch - 3ms/step\n",
            "Epoch 13/50\n",
            "235/235 - 1s - loss: 0.1426 - accuracy: 0.6596 - 636ms/epoch - 3ms/step\n",
            "Epoch 14/50\n",
            "235/235 - 1s - loss: 0.1426 - accuracy: 0.6596 - 652ms/epoch - 3ms/step\n",
            "Epoch 15/50\n",
            "235/235 - 1s - loss: 0.1426 - accuracy: 0.6596 - 1s/epoch - 5ms/step\n",
            "Epoch 16/50\n",
            "235/235 - 1s - loss: 0.1426 - accuracy: 0.6596 - 674ms/epoch - 3ms/step\n",
            "Epoch 17/50\n",
            "235/235 - 1s - loss: 0.1426 - accuracy: 0.6596 - 610ms/epoch - 3ms/step\n",
            "Epoch 18/50\n",
            "235/235 - 1s - loss: 0.1426 - accuracy: 0.6596 - 598ms/epoch - 3ms/step\n",
            "Epoch 19/50\n",
            "235/235 - 1s - loss: 0.1426 - accuracy: 0.6596 - 650ms/epoch - 3ms/step\n",
            "Epoch 20/50\n",
            "235/235 - 1s - loss: 0.1426 - accuracy: 0.6596 - 608ms/epoch - 3ms/step\n",
            "Epoch 21/50\n",
            "235/235 - 1s - loss: 0.1426 - accuracy: 0.6596 - 655ms/epoch - 3ms/step\n",
            "Epoch 22/50\n",
            "235/235 - 1s - loss: 0.1426 - accuracy: 0.6596 - 654ms/epoch - 3ms/step\n",
            "Epoch 23/50\n",
            "235/235 - 1s - loss: 0.1426 - accuracy: 0.6596 - 618ms/epoch - 3ms/step\n",
            "Epoch 24/50\n",
            "235/235 - 1s - loss: 0.1426 - accuracy: 0.6596 - 628ms/epoch - 3ms/step\n",
            "Epoch 25/50\n",
            "235/235 - 1s - loss: 0.1426 - accuracy: 0.6596 - 652ms/epoch - 3ms/step\n",
            "Epoch 26/50\n",
            "235/235 - 1s - loss: 0.1426 - accuracy: 0.6596 - 640ms/epoch - 3ms/step\n",
            "Epoch 27/50\n",
            "235/235 - 1s - loss: 0.1426 - accuracy: 0.6596 - 626ms/epoch - 3ms/step\n",
            "Epoch 28/50\n",
            "235/235 - 1s - loss: 0.1426 - accuracy: 0.6596 - 669ms/epoch - 3ms/step\n",
            "Epoch 29/50\n",
            "235/235 - 1s - loss: 0.1426 - accuracy: 0.6596 - 619ms/epoch - 3ms/step\n",
            "Epoch 30/50\n",
            "235/235 - 1s - loss: 0.1426 - accuracy: 0.6596 - 665ms/epoch - 3ms/step\n",
            "Epoch 31/50\n",
            "235/235 - 1s - loss: 0.1426 - accuracy: 0.6596 - 658ms/epoch - 3ms/step\n",
            "Epoch 32/50\n",
            "235/235 - 1s - loss: 0.1426 - accuracy: 0.6596 - 649ms/epoch - 3ms/step\n",
            "Epoch 33/50\n",
            "235/235 - 1s - loss: 0.1426 - accuracy: 0.6596 - 626ms/epoch - 3ms/step\n",
            "Epoch 34/50\n",
            "235/235 - 1s - loss: 0.1426 - accuracy: 0.6596 - 704ms/epoch - 3ms/step\n",
            "Epoch 35/50\n",
            "235/235 - 1s - loss: 0.1426 - accuracy: 0.6596 - 624ms/epoch - 3ms/step\n",
            "Epoch 36/50\n",
            "235/235 - 1s - loss: 0.1426 - accuracy: 0.6596 - 634ms/epoch - 3ms/step\n",
            "Epoch 37/50\n",
            "235/235 - 1s - loss: 0.1426 - accuracy: 0.6596 - 661ms/epoch - 3ms/step\n",
            "Epoch 38/50\n",
            "235/235 - 1s - loss: 0.1426 - accuracy: 0.6596 - 662ms/epoch - 3ms/step\n",
            "Epoch 39/50\n",
            "235/235 - 1s - loss: 0.1426 - accuracy: 0.6596 - 646ms/epoch - 3ms/step\n",
            "Epoch 40/50\n",
            "235/235 - 1s - loss: 0.1426 - accuracy: 0.6596 - 1s/epoch - 5ms/step\n",
            "Epoch 41/50\n",
            "235/235 - 1s - loss: 0.1426 - accuracy: 0.6596 - 619ms/epoch - 3ms/step\n",
            "Epoch 42/50\n",
            "235/235 - 1s - loss: 0.1426 - accuracy: 0.6596 - 623ms/epoch - 3ms/step\n",
            "Epoch 43/50\n",
            "235/235 - 1s - loss: 0.1426 - accuracy: 0.6596 - 735ms/epoch - 3ms/step\n",
            "Epoch 44/50\n",
            "235/235 - 1s - loss: 0.1426 - accuracy: 0.6596 - 647ms/epoch - 3ms/step\n",
            "Epoch 45/50\n",
            "235/235 - 1s - loss: 0.1426 - accuracy: 0.6596 - 645ms/epoch - 3ms/step\n",
            "Epoch 46/50\n",
            "235/235 - 1s - loss: 0.1426 - accuracy: 0.6596 - 633ms/epoch - 3ms/step\n",
            "Epoch 47/50\n",
            "235/235 - 1s - loss: 0.1426 - accuracy: 0.6596 - 541ms/epoch - 2ms/step\n",
            "Epoch 48/50\n",
            "235/235 - 1s - loss: 0.1426 - accuracy: 0.6596 - 612ms/epoch - 3ms/step\n",
            "Epoch 49/50\n",
            "235/235 - 1s - loss: 0.1426 - accuracy: 0.6596 - 562ms/epoch - 2ms/step\n",
            "Epoch 50/50\n",
            "235/235 - 1s - loss: 0.1426 - accuracy: 0.6596 - 586ms/epoch - 2ms/step\n",
            "CPU times: user 41.6 s, sys: 2.73 s, total: 44.3 s\n",
            "Wall time: 36 s\n"
          ]
        },
        {
          "data": {
            "text/plain": [
              "<keras.callbacks.History at 0x7f1f20c29640>"
            ]
          },
          "execution_count": 61,
          "metadata": {},
          "output_type": "execute_result"
        }
      ],
      "source": [
        "%%time\n",
        "model.fit(x_train, y_train, epochs=50, batch_size=1, verbose=2, callbacks=[checkpoint_callback])"
      ]
    },
    {
      "cell_type": "markdown",
      "metadata": {},
      "source": [
        "### Restauração do Checkpoint"
      ]
    },
    {
      "cell_type": "code",
      "execution_count": null,
      "metadata": {},
      "outputs": [
        {
          "data": {
            "text/plain": [
              "'./training_checkpoints/ckpt_50-0.1426'"
            ]
          },
          "execution_count": 62,
          "metadata": {},
          "output_type": "execute_result"
        }
      ],
      "source": [
        "tf.train.latest_checkpoint(checkpoint_dir)"
      ]
    },
    {
      "cell_type": "code",
      "execution_count": null,
      "metadata": {},
      "outputs": [
        {
          "name": "stdout",
          "output_type": "stream",
          "text": [
            "Entrada: (337, 10)\n"
          ]
        }
      ],
      "source": [
        "model = build_model(x_shape=x_data.shape, y_classes=y_classes, rnn_units=rnn_units)\n",
        "model.load_weights(tf.train.latest_checkpoint(checkpoint_dir))\n",
        "model.build(tf.TensorShape([1, None]))"
      ]
    },
    {
      "cell_type": "code",
      "execution_count": null,
      "metadata": {},
      "outputs": [
        {
          "name": "stdout",
          "output_type": "stream",
          "text": [
            "Model: \"sequential_1\"\n",
            "_________________________________________________________________\n",
            " Layer (type)                Output Shape              Param #   \n",
            "=================================================================\n",
            " lstm_1 (LSTM)               (None, 256)               264192    \n",
            "                                                                 \n",
            " dense_2 (Dense)             (None, 3)                 771       \n",
            "                                                                 \n",
            " dense_3 (Dense)             (None, 1)                 4         \n",
            "                                                                 \n",
            "=================================================================\n",
            "Total params: 264,967\n",
            "Trainable params: 264,967\n",
            "Non-trainable params: 0\n",
            "_________________________________________________________________\n"
          ]
        }
      ],
      "source": [
        "model.summary()"
      ]
    },
    {
      "cell_type": "markdown",
      "metadata": {},
      "source": [
        "## 6: Acurácia do modelo\n"
      ]
    },
    {
      "cell_type": "code",
      "execution_count": null,
      "metadata": {},
      "outputs": [
        {
          "name": "stdout",
          "output_type": "stream",
          "text": [
            "4/4 [==============================] - 1s 3ms/step - loss: 0.1397 - accuracy: 0.6471\n"
          ]
        }
      ],
      "source": [
        "evaluation = model.evaluate(x_test, y_test)"
      ]
    },
    {
      "cell_type": "code",
      "execution_count": null,
      "metadata": {},
      "outputs": [
        {
          "data": {
            "text/plain": [
              "[0.13970588147640228, 0.6470588445663452]"
            ]
          },
          "execution_count": 66,
          "metadata": {},
          "output_type": "execute_result"
        }
      ],
      "source": [
        "evaluation"
      ]
    },
    {
      "cell_type": "markdown",
      "metadata": {},
      "source": [
        "## 7: Previsão de dados"
      ]
    },
    {
      "cell_type": "code",
      "execution_count": null,
      "metadata": {},
      "outputs": [
        {
          "data": {
            "text/plain": [
              "((102,),\n",
              " array([0, 0, 0, 0, 0, 0, 0, 0, 0, 0, 0, 0, 0, 0, 0, 0, 0, 0, 0, 0, 0, 0,\n",
              "        0, 0, 0, 0, 0, 0, 0, 0, 0, 0, 0, 0, 0, 0, 0, 0, 0, 0, 0, 0, 0, 0,\n",
              "        0, 0, 0, 0, 0, 0, 0, 0, 0, 0, 0, 0, 0, 0, 0, 0, 0, 0, 0, 0, 0, 0,\n",
              "        0, 0, 0, 0, 0, 0, 0, 0, 0, 0, 0, 0, 0, 0, 0, 0, 0, 0, 0, 0, 0, 0,\n",
              "        0, 0, 0, 0, 0, 0, 0, 0, 0, 0, 0, 0, 0, 0]))"
            ]
          },
          "execution_count": 67,
          "metadata": {},
          "output_type": "execute_result"
        }
      ],
      "source": [
        "trainPrediction = model.predict(x_train)\n",
        "testPrediction = model.predict(x_test)\n",
        "testPrediction\n",
        "\n",
        "testPrediction_norm = np.argmax(np.array(testPrediction), axis=1)\n",
        "testPrediction_norm.shape, testPrediction_norm"
      ]
    },
    {
      "cell_type": "code",
      "execution_count": null,
      "metadata": {},
      "outputs": [
        {
          "data": {
            "text/plain": [
              "((102,),\n",
              " array([1. , 0.5, 0.5, 1. , 0.5, 1. , 1. , 1. , 0.5, 1. , 0.5, 0.5, 1. ,\n",
              "        0. , 1. , 1. , 1. , 1. , 1. , 0.5, 1. , 1. , 1. , 0.5, 1. , 1. ,\n",
              "        1. , 0.5, 1. , 0.5, 0.5, 1. , 0. , 0. , 0.5, 1. , 0.5, 0.5, 1. ,\n",
              "        1. , 1. , 1. , 0.5, 0.5, 1. , 0.5, 0.5, 1. , 1. , 0.5, 0.5, 1. ,\n",
              "        0.5, 1. , 0.5, 0. , 1. , 1. , 1. , 1. , 0.5, 1. , 0.5, 0.5, 1. ,\n",
              "        1. , 1. , 1. , 0.5, 1. , 1. , 1. , 1. , 1. , 0.5, 1. , 1. , 1. ,\n",
              "        1. , 1. , 0.5, 1. , 1. , 1. , 1. , 0. , 1. , 0. , 1. , 1. , 1. ,\n",
              "        1. , 1. , 0. , 1. , 1. , 1. , 1. , 1. , 0.5, 1. , 1. ]))"
            ]
          },
          "execution_count": 68,
          "metadata": {},
          "output_type": "execute_result"
        }
      ],
      "source": [
        "y_test.shape, y_test\n"
      ]
    },
    {
      "cell_type": "code",
      "execution_count": null,
      "metadata": {},
      "outputs": [],
      "source": [
        "trainPredictPlot = np.empty_like(dataset)\n",
        "trainPredictPlot[:, :] = np.nan\n",
        "trainPredictPlot[1:len(trainPrediction)+1, :] = trainPrediction\n"
      ]
    },
    {
      "cell_type": "code",
      "execution_count": null,
      "metadata": {},
      "outputs": [
        {
          "data": {
            "image/png": "[encoded data removed]",
            "text/plain": [
              "<Figure size 432x288 with 1 Axes>"
            ]
          },
          "metadata": {
            "needs_background": "light"
          },
          "output_type": "display_data"
        }
      ],
      "source": [
        "plt.plot(scaler.inverse_transform(dataset))\n",
        "plt.plot(trainPredictPlot)\n",
        "\n",
        "plt.show()\n"
      ]
    },
    {
      "cell_type": "markdown",
      "metadata": {},
      "source": [
        "## Conclusão\n",
        "\n",
        "Durante o processo de `fit` não houve nenhuma alteração entre os valores de `loss` e `accuracy`, isso pode ter sido causado por uma má gestão dos dados ou por ter viciado a rede durante seu treinamento.\n",
        "\n",
        "Então na realidade não está fazendo previsão alguma, só está jogando o número 0 diversas vezes."
      ]
    },
    {
      "cell_type": "markdown",
      "metadata": {},
      "source": [
        "## 8: Layout do app Web\n",
        "## 9: Resultado no App WEB\n"
      ]
    }
  ],
  "metadata": {
    "colab": {
      "name": "Eleicao - Aluno",
      "provenance": [],
      "toc_visible": true
    },
    "kernelspec": {
      "display_name": "Python 3",
      "name": "python3"
    },
    "language_info": {
      "codemirror_mode": {
        "name": "ipython",
        "version": 3
      },
      "file_extension": ".py",
      "mimetype": "text/x-python",
      "name": "python",
      "nbconvert_exporter": "python",
      "pygments_lexer": "ipython3",
      "version": "3.9.7"
    }
  },
  "nbformat": 4,
  "nbformat_minor": 0
}
