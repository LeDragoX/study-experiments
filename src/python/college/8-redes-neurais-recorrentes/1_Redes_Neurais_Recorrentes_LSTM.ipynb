{
  "cells": [
    {
      "cell_type": "markdown",
      "metadata": {
        "id": "Jg_O-2_yUBQn"
      },
      "source": [
        "# Redes Neurais Recorrentes LSTM - Long Short-Term Memory\n"
      ]
    },
    {
      "cell_type": "markdown",
      "metadata": {
        "id": "OL6Bvnq-UK6h"
      },
      "source": [
        "# Prevendo Séries Temporais com LSTMs\n",
        "\n",
        "A previsão de séries temporais é um problema difícil para o aprendizado da máquina.\n",
        "\n",
        "O problema que vamos analisar é a previsão dos passageiros das companhias aéreas internacionais. Este é um problema em que, dado um ano e um mês, a tarefa é prever o número de passageiros das linhas aéreas internacionais em unidades de 1.000. Os dados variam de janeiro de 1949 a dezembro 1960 ou 12 anos, com 144 observações. O conjunto de dados está disponível gratuitamente no DataMarket, aqui:https://www.kaggle.com/andreazzini/international-airline-passengers, com o nome internacional-companhia aérea-passageiros.csv (você encontra o arquivo em anexo com o nome passageiros.csv).\n"
      ]
    },
    {
      "cell_type": "markdown",
      "metadata": {
        "id": "B0dvM1KcEHav"
      },
      "source": [
        "# Etapa 1: Importação das bibliotecas\n"
      ]
    },
    {
      "cell_type": "code",
      "execution_count": 13,
      "metadata": {},
      "outputs": [
        {
          "name": "stdout",
          "output_type": "stream",
          "text": [
            "Requirement already satisfied: keras in /home/ledragox/anaconda3/lib/python3.9/site-packages (2.7.0)\n",
            "Requirement already satisfied: matplotlib in /home/ledragox/anaconda3/lib/python3.9/site-packages (3.5.1)\n",
            "Requirement already satisfied: python-dateutil>=2.7 in /home/ledragox/.local/lib/python3.9/site-packages (from matplotlib) (2.8.2)\n",
            "Requirement already satisfied: fonttools>=4.22.0 in /home/ledragox/anaconda3/lib/python3.9/site-packages (from matplotlib) (4.25.0)\n",
            "Requirement already satisfied: kiwisolver>=1.0.1 in /home/ledragox/anaconda3/lib/python3.9/site-packages (from matplotlib) (1.3.1)\n",
            "Requirement already satisfied: pillow>=6.2.0 in /home/ledragox/anaconda3/lib/python3.9/site-packages (from matplotlib) (8.4.0)\n",
            "Requirement already satisfied: numpy>=1.17 in /home/ledragox/anaconda3/lib/python3.9/site-packages (from matplotlib) (1.21.4)\n",
            "Requirement already satisfied: pyparsing>=2.2.1 in /home/ledragox/anaconda3/lib/python3.9/site-packages (from matplotlib) (3.0.4)\n",
            "Requirement already satisfied: packaging>=20.0 in /home/ledragox/anaconda3/lib/python3.9/site-packages (from matplotlib) (21.0)\n",
            "Requirement already satisfied: cycler>=0.10 in /home/ledragox/anaconda3/lib/python3.9/site-packages (from matplotlib) (0.10.0)\n",
            "Requirement already satisfied: six in /home/ledragox/anaconda3/lib/python3.9/site-packages (from cycler>=0.10->matplotlib) (1.16.0)\n",
            "Requirement already satisfied: numpy in /home/ledragox/anaconda3/lib/python3.9/site-packages (1.21.4)\n",
            "Requirement already satisfied: pandas in /home/ledragox/anaconda3/lib/python3.9/site-packages (1.3.5)\n",
            "Requirement already satisfied: pytz>=2017.3 in /home/ledragox/anaconda3/lib/python3.9/site-packages (from pandas) (2021.3)\n",
            "Requirement already satisfied: numpy>=1.17.3 in /home/ledragox/anaconda3/lib/python3.9/site-packages (from pandas) (1.21.4)\n",
            "Requirement already satisfied: python-dateutil>=2.7.3 in /home/ledragox/.local/lib/python3.9/site-packages (from pandas) (2.8.2)\n",
            "Requirement already satisfied: six>=1.5 in /home/ledragox/anaconda3/lib/python3.9/site-packages (from python-dateutil>=2.7.3->pandas) (1.16.0)\n",
            "Requirement already satisfied: sklearn in /home/ledragox/anaconda3/lib/python3.9/site-packages (0.0)\n",
            "Requirement already satisfied: scikit-learn in /home/ledragox/anaconda3/lib/python3.9/site-packages (from sklearn) (0.24.2)\n",
            "Requirement already satisfied: threadpoolctl>=2.0.0 in /home/ledragox/anaconda3/lib/python3.9/site-packages (from scikit-learn->sklearn) (2.2.0)\n",
            "Requirement already satisfied: joblib>=0.11 in /home/ledragox/anaconda3/lib/python3.9/site-packages (from scikit-learn->sklearn) (1.1.0)\n",
            "Requirement already satisfied: scipy>=0.19.1 in /home/ledragox/anaconda3/lib/python3.9/site-packages (from scikit-learn->sklearn) (1.7.1)\n",
            "Requirement already satisfied: numpy>=1.13.3 in /home/ledragox/anaconda3/lib/python3.9/site-packages (from scikit-learn->sklearn) (1.21.4)\n",
            "Requirement already satisfied: tensorflow in /home/ledragox/anaconda3/lib/python3.9/site-packages (2.7.0)\n",
            "Requirement already satisfied: flatbuffers<3.0,>=1.12 in /home/ledragox/anaconda3/lib/python3.9/site-packages (from tensorflow) (2.0)\n",
            "Requirement already satisfied: astunparse>=1.6.0 in /home/ledragox/anaconda3/lib/python3.9/site-packages (from tensorflow) (1.6.3)\n",
            "Requirement already satisfied: six>=1.12.0 in /home/ledragox/anaconda3/lib/python3.9/site-packages (from tensorflow) (1.16.0)\n",
            "Requirement already satisfied: h5py>=2.9.0 in /home/ledragox/anaconda3/lib/python3.9/site-packages (from tensorflow) (3.3.0)\n",
            "Requirement already satisfied: protobuf>=3.9.2 in /home/ledragox/anaconda3/lib/python3.9/site-packages (from tensorflow) (3.19.1)\n",
            "Requirement already satisfied: tensorboard~=2.6 in /home/ledragox/anaconda3/lib/python3.9/site-packages (from tensorflow) (2.7.0)\n",
            "Requirement already satisfied: keras-preprocessing>=1.1.1 in /home/ledragox/anaconda3/lib/python3.9/site-packages (from tensorflow) (1.1.2)\n",
            "Requirement already satisfied: wheel<1.0,>=0.32.0 in /home/ledragox/anaconda3/lib/python3.9/site-packages (from tensorflow) (0.37.0)\n",
            "Requirement already satisfied: tensorflow-io-gcs-filesystem>=0.21.0 in /home/ledragox/anaconda3/lib/python3.9/site-packages (from tensorflow) (0.22.0)\n",
            "Requirement already satisfied: tensorflow-estimator<2.8,~=2.7.0rc0 in /home/ledragox/anaconda3/lib/python3.9/site-packages (from tensorflow) (2.7.0)\n",
            "Requirement already satisfied: absl-py>=0.4.0 in /home/ledragox/anaconda3/lib/python3.9/site-packages (from tensorflow) (1.0.0)\n",
            "Requirement already satisfied: gast<0.5.0,>=0.2.1 in /home/ledragox/anaconda3/lib/python3.9/site-packages (from tensorflow) (0.4.0)\n",
            "Requirement already satisfied: keras<2.8,>=2.7.0rc0 in /home/ledragox/anaconda3/lib/python3.9/site-packages (from tensorflow) (2.7.0)\n",
            "Requirement already satisfied: wrapt>=1.11.0 in /home/ledragox/anaconda3/lib/python3.9/site-packages (from tensorflow) (1.12.1)\n",
            "Requirement already satisfied: google-pasta>=0.1.1 in /home/ledragox/anaconda3/lib/python3.9/site-packages (from tensorflow) (0.2.0)\n",
            "Requirement already satisfied: libclang>=9.0.1 in /home/ledragox/anaconda3/lib/python3.9/site-packages (from tensorflow) (12.0.0)\n",
            "Requirement already satisfied: opt-einsum>=2.3.2 in /home/ledragox/anaconda3/lib/python3.9/site-packages (from tensorflow) (3.3.0)\n",
            "Requirement already satisfied: numpy>=1.14.5 in /home/ledragox/anaconda3/lib/python3.9/site-packages (from tensorflow) (1.21.4)\n",
            "Requirement already satisfied: grpcio<2.0,>=1.24.3 in /home/ledragox/anaconda3/lib/python3.9/site-packages (from tensorflow) (1.42.0)\n",
            "Requirement already satisfied: termcolor>=1.1.0 in /home/ledragox/anaconda3/lib/python3.9/site-packages (from tensorflow) (1.1.0)\n",
            "Requirement already satisfied: typing-extensions>=3.6.6 in /home/ledragox/anaconda3/lib/python3.9/site-packages (from tensorflow) (3.10.0.2)\n",
            "Requirement already satisfied: tensorboard-data-server<0.7.0,>=0.6.0 in /home/ledragox/anaconda3/lib/python3.9/site-packages (from tensorboard~=2.6->tensorflow) (0.6.1)\n",
            "Requirement already satisfied: tensorboard-plugin-wit>=1.6.0 in /home/ledragox/anaconda3/lib/python3.9/site-packages (from tensorboard~=2.6->tensorflow) (1.8.0)\n",
            "Requirement already satisfied: werkzeug>=0.11.15 in /home/ledragox/anaconda3/lib/python3.9/site-packages (from tensorboard~=2.6->tensorflow) (2.0.2)\n",
            "Requirement already satisfied: google-auth<3,>=1.6.3 in /home/ledragox/anaconda3/lib/python3.9/site-packages (from tensorboard~=2.6->tensorflow) (2.3.3)\n",
            "Requirement already satisfied: markdown>=2.6.8 in /home/ledragox/anaconda3/lib/python3.9/site-packages (from tensorboard~=2.6->tensorflow) (3.3.6)\n",
            "Requirement already satisfied: google-auth-oauthlib<0.5,>=0.4.1 in /home/ledragox/anaconda3/lib/python3.9/site-packages (from tensorboard~=2.6->tensorflow) (0.4.6)\n",
            "Requirement already satisfied: setuptools>=41.0.0 in /home/ledragox/anaconda3/lib/python3.9/site-packages (from tensorboard~=2.6->tensorflow) (58.0.4)\n",
            "Requirement already satisfied: requests<3,>=2.21.0 in /home/ledragox/anaconda3/lib/python3.9/site-packages (from tensorboard~=2.6->tensorflow) (2.26.0)\n",
            "Requirement already satisfied: pyasn1-modules>=0.2.1 in /home/ledragox/anaconda3/lib/python3.9/site-packages (from google-auth<3,>=1.6.3->tensorboard~=2.6->tensorflow) (0.2.8)\n",
            "Requirement already satisfied: cachetools<5.0,>=2.0.0 in /home/ledragox/anaconda3/lib/python3.9/site-packages (from google-auth<3,>=1.6.3->tensorboard~=2.6->tensorflow) (4.2.4)\n",
            "Requirement already satisfied: rsa<5,>=3.1.4 in /home/ledragox/anaconda3/lib/python3.9/site-packages (from google-auth<3,>=1.6.3->tensorboard~=2.6->tensorflow) (4.8)\n",
            "Requirement already satisfied: requests-oauthlib>=0.7.0 in /home/ledragox/anaconda3/lib/python3.9/site-packages (from google-auth-oauthlib<0.5,>=0.4.1->tensorboard~=2.6->tensorflow) (1.3.0)\n",
            "Requirement already satisfied: importlib-metadata>=4.4 in /home/ledragox/anaconda3/lib/python3.9/site-packages (from markdown>=2.6.8->tensorboard~=2.6->tensorflow) (4.8.1)\n",
            "Requirement already satisfied: zipp>=0.5 in /home/ledragox/anaconda3/lib/python3.9/site-packages (from importlib-metadata>=4.4->markdown>=2.6.8->tensorboard~=2.6->tensorflow) (3.6.0)\n",
            "Requirement already satisfied: pyasn1<0.5.0,>=0.4.6 in /home/ledragox/anaconda3/lib/python3.9/site-packages (from pyasn1-modules>=0.2.1->google-auth<3,>=1.6.3->tensorboard~=2.6->tensorflow) (0.4.8)\n",
            "Requirement already satisfied: certifi>=2017.4.17 in /home/ledragox/anaconda3/lib/python3.9/site-packages (from requests<3,>=2.21.0->tensorboard~=2.6->tensorflow) (2021.10.8)\n",
            "Requirement already satisfied: urllib3<1.27,>=1.21.1 in /home/ledragox/anaconda3/lib/python3.9/site-packages (from requests<3,>=2.21.0->tensorboard~=2.6->tensorflow) (1.26.7)\n",
            "Requirement already satisfied: idna<4,>=2.5 in /home/ledragox/anaconda3/lib/python3.9/site-packages (from requests<3,>=2.21.0->tensorboard~=2.6->tensorflow) (3.2)\n",
            "Requirement already satisfied: charset-normalizer~=2.0.0 in /home/ledragox/anaconda3/lib/python3.9/site-packages (from requests<3,>=2.21.0->tensorboard~=2.6->tensorflow) (2.0.4)\n",
            "Requirement already satisfied: oauthlib>=3.0.0 in /home/ledragox/anaconda3/lib/python3.9/site-packages (from requests-oauthlib>=0.7.0->google-auth-oauthlib<0.5,>=0.4.1->tensorboard~=2.6->tensorflow) (3.1.1)\n"
          ]
        }
      ],
      "source": [
        "!pip install keras --upgrade\n",
        "!pip install matplotlib --upgrade\n",
        "!pip install numpy --upgrade\n",
        "!pip install pandas --upgrade\n",
        "!pip install sklearn --upgrade\n",
        "!pip install tensorflow --upgrade\n"
      ]
    },
    {
      "cell_type": "code",
      "execution_count": 14,
      "metadata": {
        "id": "mo0dRROoT9p9"
      },
      "outputs": [],
      "source": [
        "import math\n",
        "import matplotlib.pyplot as plt\n",
        "import numpy as np\n",
        "import pandas as pd\n"
      ]
    },
    {
      "cell_type": "code",
      "execution_count": 15,
      "metadata": {
        "colab": {
          "base_uri": "https://localhost:8080/",
          "height": 35
        },
        "id": "MynjXAf1UzDz",
        "outputId": "3d0fe9af-e911-48b7-dcef-fdf17a4340eb"
      },
      "outputs": [
        {
          "data": {
            "text/plain": [
              "'2.7.0'"
            ]
          },
          "execution_count": 15,
          "metadata": {},
          "output_type": "execute_result"
        }
      ],
      "source": [
        "import tensorflow as tf\n",
        "tf.__version__\n"
      ]
    },
    {
      "cell_type": "code",
      "execution_count": 16,
      "metadata": {
        "colab": {
          "base_uri": "https://localhost:8080/",
          "height": 35
        },
        "id": "d4cq2_q5U5aS",
        "outputId": "8a5f3f02-04dd-4d87-8abd-1aa7d5dd6539"
      },
      "outputs": [
        {
          "data": {
            "text/plain": [
              "'2.7.0'"
            ]
          },
          "execution_count": 16,
          "metadata": {},
          "output_type": "execute_result"
        }
      ],
      "source": [
        "import keras as k\n",
        "k.__version__\n"
      ]
    },
    {
      "cell_type": "code",
      "execution_count": 17,
      "metadata": {
        "id": "FrqPvVnuVAFS"
      },
      "outputs": [],
      "source": [
        "from keras.models import Sequential\n",
        "from keras.layers import Dense\n",
        "from keras.layers import LSTM\n",
        "from sklearn.preprocessing import MinMaxScaler\n",
        "from sklearn.metrics import mean_squared_error\n"
      ]
    },
    {
      "cell_type": "code",
      "execution_count": 18,
      "metadata": {
        "id": "-ejpfHf7VUiu"
      },
      "outputs": [],
      "source": [
        "np.random.seed(7)\n"
      ]
    },
    {
      "cell_type": "markdown",
      "metadata": {
        "id": "D3bVWP1FWWGq"
      },
      "source": [
        "# Etapa 2: Carregamento e exploração da base de dados\n"
      ]
    },
    {
      "cell_type": "markdown",
      "metadata": {
        "id": "WQL4nMqnWvdh"
      },
      "source": [
        "Podemos carregar este conjunto de dados facilmente usando a biblioteca Pandas. Não estamos interessados na data,\n",
        "pois que cada observação é separada pelo mesmo intervalo de um mês. Portanto, quando\n",
        "carregamos o conjunto de dados, podemos excluir a primeira coluna. O conjunto de dados baixado também tem rodapé\n",
        "com informações que podemos excluir com o argumento skipfooter para `pd.read_csv()` (Pandas)\n",
        "Uma vez carregado, podemos plotar facilmente todo o conjunto de dados.\n"
      ]
    },
    {
      "cell_type": "code",
      "execution_count": 19,
      "metadata": {
        "colab": {
          "base_uri": "https://localhost:8080/"
        },
        "id": "_VKdqb2TFf_M",
        "outputId": "34654c2e-4630-47b4-cada-6e9369293317"
      },
      "outputs": [],
      "source": [
        "# from google.colab import drive\n",
        "# drive.mount('/content/drive')\n"
      ]
    },
    {
      "cell_type": "code",
      "execution_count": 20,
      "metadata": {
        "id": "57nxQ46FYih-"
      },
      "outputs": [],
      "source": [
        "dataframe = pd.read_csv('data/passageiros.csv')\n"
      ]
    },
    {
      "cell_type": "code",
      "execution_count": 12,
      "metadata": {
        "colab": {
          "base_uri": "https://localhost:8080/",
          "height": 458
        },
        "id": "T0EQwzrBYoVn",
        "outputId": "c0f6d702-0f10-46b9-c2c0-42bf7ea8880e"
      },
      "outputs": [
        {
          "data": {
            "text/html": [
              "<div>\n",
              "<style scoped>\n",
              "    .dataframe tbody tr th:only-of-type {\n",
              "        vertical-align: middle;\n",
              "    }\n",
              "\n",
              "    .dataframe tbody tr th {\n",
              "        vertical-align: top;\n",
              "    }\n",
              "\n",
              "    .dataframe thead th {\n",
              "        text-align: right;\n",
              "    }\n",
              "</style>\n",
              "<table border=\"1\" class=\"dataframe\">\n",
              "  <thead>\n",
              "    <tr style=\"text-align: right;\">\n",
              "      <th></th>\n",
              "      <th>Month</th>\n",
              "      <th>International airline passengers: monthly totals in thousands. Jan 49 ? Dec 60</th>\n",
              "    </tr>\n",
              "  </thead>\n",
              "  <tbody>\n",
              "    <tr>\n",
              "      <th>0</th>\n",
              "      <td>1949-01</td>\n",
              "      <td>112.0</td>\n",
              "    </tr>\n",
              "    <tr>\n",
              "      <th>1</th>\n",
              "      <td>1949-02</td>\n",
              "      <td>118.0</td>\n",
              "    </tr>\n",
              "    <tr>\n",
              "      <th>2</th>\n",
              "      <td>1949-03</td>\n",
              "      <td>132.0</td>\n",
              "    </tr>\n",
              "    <tr>\n",
              "      <th>3</th>\n",
              "      <td>1949-04</td>\n",
              "      <td>129.0</td>\n",
              "    </tr>\n",
              "    <tr>\n",
              "      <th>4</th>\n",
              "      <td>1949-05</td>\n",
              "      <td>121.0</td>\n",
              "    </tr>\n",
              "    <tr>\n",
              "      <th>...</th>\n",
              "      <td>...</td>\n",
              "      <td>...</td>\n",
              "    </tr>\n",
              "    <tr>\n",
              "      <th>140</th>\n",
              "      <td>1960-09</td>\n",
              "      <td>508.0</td>\n",
              "    </tr>\n",
              "    <tr>\n",
              "      <th>141</th>\n",
              "      <td>1960-10</td>\n",
              "      <td>461.0</td>\n",
              "    </tr>\n",
              "    <tr>\n",
              "      <th>142</th>\n",
              "      <td>1960-11</td>\n",
              "      <td>390.0</td>\n",
              "    </tr>\n",
              "    <tr>\n",
              "      <th>143</th>\n",
              "      <td>1960-12</td>\n",
              "      <td>432.0</td>\n",
              "    </tr>\n",
              "    <tr>\n",
              "      <th>144</th>\n",
              "      <td>International airline passengers: monthly tota...</td>\n",
              "      <td>NaN</td>\n",
              "    </tr>\n",
              "  </tbody>\n",
              "</table>\n",
              "<p>145 rows × 2 columns</p>\n",
              "</div>"
            ],
            "text/plain": [
              "                                                 Month  \\\n",
              "0                                              1949-01   \n",
              "1                                              1949-02   \n",
              "2                                              1949-03   \n",
              "3                                              1949-04   \n",
              "4                                              1949-05   \n",
              "..                                                 ...   \n",
              "140                                            1960-09   \n",
              "141                                            1960-10   \n",
              "142                                            1960-11   \n",
              "143                                            1960-12   \n",
              "144  International airline passengers: monthly tota...   \n",
              "\n",
              "     International airline passengers: monthly totals in thousands. Jan 49 ? Dec 60  \n",
              "0                                                112.0                               \n",
              "1                                                118.0                               \n",
              "2                                                132.0                               \n",
              "3                                                129.0                               \n",
              "4                                                121.0                               \n",
              "..                                                 ...                               \n",
              "140                                              508.0                               \n",
              "141                                              461.0                               \n",
              "142                                              390.0                               \n",
              "143                                              432.0                               \n",
              "144                                                NaN                               \n",
              "\n",
              "[145 rows x 2 columns]"
            ]
          },
          "execution_count": 12,
          "metadata": {},
          "output_type": "execute_result"
        }
      ],
      "source": [
        "dataframe\n"
      ]
    },
    {
      "cell_type": "code",
      "execution_count": 22,
      "metadata": {
        "id": "dS9yynp0WVrQ"
      },
      "outputs": [],
      "source": [
        "dataframe = pd.read_csv('data/passageiros.csv', usecols=[1], engine='python', skipfooter=3)\n",
        "dataset = dataframe.values\n",
        "dataset = dataset.astype('float32')\n"
      ]
    },
    {
      "cell_type": "markdown",
      "metadata": {
        "id": "jWb45OshSDsr"
      },
      "source": [
        "# Etapa 3: Visualização dos dados\n"
      ]
    },
    {
      "cell_type": "code",
      "execution_count": 23,
      "metadata": {
        "colab": {
          "base_uri": "https://localhost:8080/"
        },
        "id": "WhbYKNueZCgr",
        "outputId": "0cc0c0b3-be03-4e67-f794-87d9b315e03b"
      },
      "outputs": [
        {
          "data": {
            "text/plain": [
              "array([[112.],\n",
              "       [118.],\n",
              "       [132.],\n",
              "       [129.],\n",
              "       [121.],\n",
              "       [135.],\n",
              "       [148.],\n",
              "       [148.],\n",
              "       [136.],\n",
              "       [119.],\n",
              "       [104.],\n",
              "       [118.],\n",
              "       [115.],\n",
              "       [126.],\n",
              "       [141.],\n",
              "       [135.],\n",
              "       [125.],\n",
              "       [149.],\n",
              "       [170.],\n",
              "       [170.],\n",
              "       [158.],\n",
              "       [133.],\n",
              "       [114.],\n",
              "       [140.],\n",
              "       [145.],\n",
              "       [150.],\n",
              "       [178.],\n",
              "       [163.],\n",
              "       [172.],\n",
              "       [178.],\n",
              "       [199.],\n",
              "       [199.],\n",
              "       [184.],\n",
              "       [162.],\n",
              "       [146.],\n",
              "       [166.],\n",
              "       [171.],\n",
              "       [180.],\n",
              "       [193.],\n",
              "       [181.],\n",
              "       [183.],\n",
              "       [218.],\n",
              "       [230.],\n",
              "       [242.],\n",
              "       [209.],\n",
              "       [191.],\n",
              "       [172.],\n",
              "       [194.],\n",
              "       [196.],\n",
              "       [196.],\n",
              "       [236.],\n",
              "       [235.],\n",
              "       [229.],\n",
              "       [243.],\n",
              "       [264.],\n",
              "       [272.],\n",
              "       [237.],\n",
              "       [211.],\n",
              "       [180.],\n",
              "       [201.],\n",
              "       [204.],\n",
              "       [188.],\n",
              "       [235.],\n",
              "       [227.],\n",
              "       [234.],\n",
              "       [264.],\n",
              "       [302.],\n",
              "       [293.],\n",
              "       [259.],\n",
              "       [229.],\n",
              "       [203.],\n",
              "       [229.],\n",
              "       [242.],\n",
              "       [233.],\n",
              "       [267.],\n",
              "       [269.],\n",
              "       [270.],\n",
              "       [315.],\n",
              "       [364.],\n",
              "       [347.],\n",
              "       [312.],\n",
              "       [274.],\n",
              "       [237.],\n",
              "       [278.],\n",
              "       [284.],\n",
              "       [277.],\n",
              "       [317.],\n",
              "       [313.],\n",
              "       [318.],\n",
              "       [374.],\n",
              "       [413.],\n",
              "       [405.],\n",
              "       [355.],\n",
              "       [306.],\n",
              "       [271.],\n",
              "       [306.],\n",
              "       [315.],\n",
              "       [301.],\n",
              "       [356.],\n",
              "       [348.],\n",
              "       [355.],\n",
              "       [422.],\n",
              "       [465.],\n",
              "       [467.],\n",
              "       [404.],\n",
              "       [347.],\n",
              "       [305.],\n",
              "       [336.],\n",
              "       [340.],\n",
              "       [318.],\n",
              "       [362.],\n",
              "       [348.],\n",
              "       [363.],\n",
              "       [435.],\n",
              "       [491.],\n",
              "       [505.],\n",
              "       [404.],\n",
              "       [359.],\n",
              "       [310.],\n",
              "       [337.],\n",
              "       [360.],\n",
              "       [342.],\n",
              "       [406.],\n",
              "       [396.],\n",
              "       [420.],\n",
              "       [472.],\n",
              "       [548.],\n",
              "       [559.],\n",
              "       [463.],\n",
              "       [407.],\n",
              "       [362.],\n",
              "       [405.],\n",
              "       [417.],\n",
              "       [391.],\n",
              "       [419.],\n",
              "       [461.],\n",
              "       [472.],\n",
              "       [535.],\n",
              "       [622.],\n",
              "       [606.],\n",
              "       [508.],\n",
              "       [461.],\n",
              "       [390.],\n",
              "       [432.]], dtype=float32)"
            ]
          },
          "execution_count": 23,
          "metadata": {},
          "output_type": "execute_result"
        }
      ],
      "source": [
        "dataset\n"
      ]
    },
    {
      "cell_type": "code",
      "execution_count": 24,
      "metadata": {
        "colab": {
          "base_uri": "https://localhost:8080/",
          "height": 265
        },
        "id": "qtLYJ7xpZGZP",
        "outputId": "6e9aa14c-8cc4-49f8-eab8-027b51c37fa1"
      },
      "outputs": [
        {
          "data": {
            "image/png": "[encoded data removed]",
            "text/plain": [
              "<Figure size 432x288 with 1 Axes>"
            ]
          },
          "metadata": {
            "needs_background": "light"
          },
          "output_type": "display_data"
        }
      ],
      "source": [
        "plt.plot(dataset)\n",
        "plt.show()\n"
      ]
    },
    {
      "cell_type": "markdown",
      "metadata": {
        "id": "1eAslP-JZ3EC"
      },
      "source": [
        "# Etapa 4: Tratamento da base de dados\n"
      ]
    },
    {
      "cell_type": "markdown",
      "metadata": {
        "id": "PkhEmIEnZoOb"
      },
      "source": [
        "Agora podemos definir uma função para criar um novo conjunto de dados como descrito acima. A função\n",
        "recebe 2 argumentos: o conjunto de dados, que é um array NumPy que queremos converter em um dataset e\n",
        "look back que é o número de etapas de tempo anteriores para usar como variáveis de entrada para prever\n",
        "O próximo período de tempo, neste caso, definido como 1. Esse padrão criará um conjunto de dados onde X é\n",
        "o número de passageiros em um determinado momento (t) e Y é o número de passageiros no próximo\n",
        "momento (t + 1).\n"
      ]
    },
    {
      "cell_type": "markdown",
      "metadata": {
        "id": "go6mhIXLbB9R"
      },
      "source": [
        "**negrito**##Normaliza os dados\n",
        "As LSTMs são sensíveis à escala dos dados de entrada, especificamente quando funções de ativação sigmoide (padrão)\n",
        "ou tanh são usadas. Pode ser uma boa prática redimensionar os dados para o range de 0 a 1,\n",
        "também chamado de normalização. Podemos normalizar facilmente o conjunto de dados usando a classe MinMaxScaler do scikit-learn\n"
      ]
    },
    {
      "cell_type": "code",
      "execution_count": 25,
      "metadata": {
        "id": "oCL3ThnHbM2S"
      },
      "outputs": [],
      "source": [
        "scaler = MinMaxScaler(feature_range=(0, 1))\n",
        "dataset = scaler.fit_transform(dataset)\n"
      ]
    },
    {
      "cell_type": "code",
      "execution_count": 26,
      "metadata": {
        "id": "IwDCJLrwhTGc"
      },
      "outputs": [
        {
          "data": {
            "text/plain": [
              "array([[0.01544401],\n",
              "       [0.02702703],\n",
              "       [0.05405405],\n",
              "       [0.04826255],\n",
              "       [0.03281853],\n",
              "       [0.05984557],\n",
              "       [0.08494207],\n",
              "       [0.08494207],\n",
              "       [0.06177607],\n",
              "       [0.02895753],\n",
              "       [0.        ],\n",
              "       [0.02702703],\n",
              "       [0.02123553],\n",
              "       [0.04247104],\n",
              "       [0.07142857],\n",
              "       [0.05984557],\n",
              "       [0.04054055],\n",
              "       [0.08687258],\n",
              "       [0.12741312],\n",
              "       [0.12741312],\n",
              "       [0.10424709],\n",
              "       [0.05598456],\n",
              "       [0.01930502],\n",
              "       [0.06949806],\n",
              "       [0.07915059],\n",
              "       [0.08880308],\n",
              "       [0.14285713],\n",
              "       [0.11389962],\n",
              "       [0.13127413],\n",
              "       [0.14285713],\n",
              "       [0.18339768],\n",
              "       [0.18339768],\n",
              "       [0.15444016],\n",
              "       [0.11196911],\n",
              "       [0.08108109],\n",
              "       [0.1196911 ],\n",
              "       [0.12934363],\n",
              "       [0.14671814],\n",
              "       [0.17181468],\n",
              "       [0.14864865],\n",
              "       [0.15250966],\n",
              "       [0.22007722],\n",
              "       [0.24324325],\n",
              "       [0.26640925],\n",
              "       [0.2027027 ],\n",
              "       [0.16795367],\n",
              "       [0.13127413],\n",
              "       [0.17374519],\n",
              "       [0.17760617],\n",
              "       [0.17760617],\n",
              "       [0.25482625],\n",
              "       [0.25289574],\n",
              "       [0.24131274],\n",
              "       [0.26833975],\n",
              "       [0.3088803 ],\n",
              "       [0.32432434],\n",
              "       [0.25675675],\n",
              "       [0.20656371],\n",
              "       [0.14671814],\n",
              "       [0.18725869],\n",
              "       [0.19305018],\n",
              "       [0.16216215],\n",
              "       [0.25289574],\n",
              "       [0.23745173],\n",
              "       [0.25096524],\n",
              "       [0.3088803 ],\n",
              "       [0.38223937],\n",
              "       [0.36486486],\n",
              "       [0.2992278 ],\n",
              "       [0.24131274],\n",
              "       [0.1911197 ],\n",
              "       [0.24131274],\n",
              "       [0.26640925],\n",
              "       [0.24903473],\n",
              "       [0.31467178],\n",
              "       [0.3185328 ],\n",
              "       [0.32046333],\n",
              "       [0.4073359 ],\n",
              "       [0.5019305 ],\n",
              "       [0.46911195],\n",
              "       [0.40154442],\n",
              "       [0.32818535],\n",
              "       [0.25675675],\n",
              "       [0.3359073 ],\n",
              "       [0.34749034],\n",
              "       [0.33397684],\n",
              "       [0.41119692],\n",
              "       [0.4034749 ],\n",
              "       [0.4131274 ],\n",
              "       [0.52123547],\n",
              "       [0.5965251 ],\n",
              "       [0.58108103],\n",
              "       [0.484556  ],\n",
              "       [0.3899614 ],\n",
              "       [0.3223938 ],\n",
              "       [0.3899614 ],\n",
              "       [0.4073359 ],\n",
              "       [0.3803089 ],\n",
              "       [0.48648646],\n",
              "       [0.47104248],\n",
              "       [0.484556  ],\n",
              "       [0.6138996 ],\n",
              "       [0.6969112 ],\n",
              "       [0.70077217],\n",
              "       [0.57915056],\n",
              "       [0.46911195],\n",
              "       [0.38803086],\n",
              "       [0.44787642],\n",
              "       [0.45559844],\n",
              "       [0.4131274 ],\n",
              "       [0.4980695 ],\n",
              "       [0.47104248],\n",
              "       [0.49999997],\n",
              "       [0.6389961 ],\n",
              "       [0.7471043 ],\n",
              "       [0.7741313 ],\n",
              "       [0.57915056],\n",
              "       [0.492278  ],\n",
              "       [0.3976834 ],\n",
              "       [0.44980696],\n",
              "       [0.49420848],\n",
              "       [0.45945945],\n",
              "       [0.5830116 ],\n",
              "       [0.5637065 ],\n",
              "       [0.61003864],\n",
              "       [0.71042466],\n",
              "       [0.8571429 ],\n",
              "       [0.8783784 ],\n",
              "       [0.69305015],\n",
              "       [0.5849421 ],\n",
              "       [0.4980695 ],\n",
              "       [0.58108103],\n",
              "       [0.6042471 ],\n",
              "       [0.554054  ],\n",
              "       [0.60810804],\n",
              "       [0.6891892 ],\n",
              "       [0.71042466],\n",
              "       [0.8320464 ],\n",
              "       [1.        ],\n",
              "       [0.96911204],\n",
              "       [0.7799227 ],\n",
              "       [0.6891892 ],\n",
              "       [0.55212355],\n",
              "       [0.6332046 ]], dtype=float32)"
            ]
          },
          "execution_count": 26,
          "metadata": {},
          "output_type": "execute_result"
        }
      ],
      "source": [
        "dataset\n"
      ]
    },
    {
      "cell_type": "markdown",
      "metadata": {
        "id": "sCx_7u7Qb-1T"
      },
      "source": [
        "# Etapa 5: Split em treino e teste\n",
        "Separa os dados em 67% das observações que podemos usar para treinamento do nosso modelo, deixando os 33%\n",
        "restantes para testar o modelo.\n"
      ]
    },
    {
      "cell_type": "code",
      "execution_count": 27,
      "metadata": {
        "colab": {
          "base_uri": "https://localhost:8080/"
        },
        "id": "kFXDTHd3bdva",
        "outputId": "38f85f0e-ae2c-4605-c9ff-7de6f340aad5"
      },
      "outputs": [
        {
          "name": "stdout",
          "output_type": "stream",
          "text": [
            "96 48\n"
          ]
        }
      ],
      "source": [
        "train_size = int(len(dataset) * 0.67)\n",
        "test_size = len(dataset) - train_size\n",
        "train, test = dataset[0:train_size, :], dataset[train_size:len(dataset), :]\n",
        "print(len(train), len(test))\n"
      ]
    },
    {
      "cell_type": "markdown",
      "metadata": {
        "id": "_oTnSz_acg9q"
      },
      "source": [
        "## Reshape em X = t e Y = t + 1\n"
      ]
    },
    {
      "cell_type": "code",
      "execution_count": 28,
      "metadata": {
        "colab": {
          "base_uri": "https://localhost:8080/"
        },
        "id": "7rVy3AIOwgl_",
        "outputId": "e1b28ec9-1607-4c69-c2aa-0866f969cae9"
      },
      "outputs": [
        {
          "name": "stdout",
          "output_type": "stream",
          "text": [
            "[0 1 2 3 4] 5\n",
            "[1 2 3 4 5] 6\n",
            "[2 3 4 5 6] 7\n",
            "[3 4 5 6 7] 8\n",
            "[4 5 6 7 8] 9\n",
            "[5 6 7 8 9] 10\n"
          ]
        }
      ],
      "source": [
        "dataTest = pd.DataFrame({'col': [0, 1, 2, 3, 4, 5, 6, 7, 8, 9, 10]}).values\n",
        "wind = 5\n",
        "\n",
        "for i in range(len(dataTest)-wind):\n",
        "    print(dataTest[i:(i+wind), 0], dataTest[i + wind, 0])\n"
      ]
    },
    {
      "cell_type": "code",
      "execution_count": 29,
      "metadata": {
        "id": "BYclnp8tZ9zE"
      },
      "outputs": [],
      "source": [
        "def create_dataset(dataset, look_back=1):\n",
        "    dataX, dataY = [], []\n",
        "    for i in range(len(dataset)-look_back):\n",
        "        a = dataset[i:(i+look_back), 0]\n",
        "        dataX.append(a)\n",
        "        dataY.append(dataset[i + look_back, 0])\n",
        "    return np.array(dataX), np.array(dataY)\n"
      ]
    },
    {
      "cell_type": "code",
      "execution_count": 30,
      "metadata": {
        "id": "jzaBO7NWh73-"
      },
      "outputs": [],
      "source": [
        "look_back = 1\n"
      ]
    },
    {
      "cell_type": "code",
      "execution_count": 31,
      "metadata": {
        "id": "TTQnKJVCcYeo"
      },
      "outputs": [],
      "source": [
        "trainX, trainY = create_dataset(train, look_back)\n",
        "testX, testY = create_dataset(test, look_back)\n"
      ]
    },
    {
      "cell_type": "code",
      "execution_count": 32,
      "metadata": {
        "colab": {
          "base_uri": "https://localhost:8080/"
        },
        "id": "b1nSxCERcqWW",
        "outputId": "9d8c2f6e-dd1c-44c4-aac7-a744c6ac8f1e"
      },
      "outputs": [
        {
          "name": "stdout",
          "output_type": "stream",
          "text": [
            "[[0.05405405]] [0.04826255]\n"
          ]
        }
      ],
      "source": [
        "# Imprimindo dataset de treino\n",
        "print(trainX[2:3], trainY[2:3])\n"
      ]
    },
    {
      "cell_type": "code",
      "execution_count": 33,
      "metadata": {
        "colab": {
          "base_uri": "https://localhost:8080/"
        },
        "id": "XIgxuIpMcs7j",
        "outputId": "638c6f67-e9eb-4860-cb41-8a4ab440a2bf"
      },
      "outputs": [
        {
          "name": "stdout",
          "output_type": "stream",
          "text": [
            "\n",
            " [[0.01544401]\n",
            " [0.02702703]\n",
            " [0.05405405]\n",
            " [0.04826255]]\n"
          ]
        }
      ],
      "source": [
        "# Imprimindo dataset\n",
        "print(\"\\n\", dataset[0:4])\n"
      ]
    },
    {
      "cell_type": "markdown",
      "metadata": {
        "id": "Nxdk2nOFdO79"
      },
      "source": [
        "## Reshape do input para: [samples, time steps, features]\n",
        "\n",
        "A rede LSTM espera que os dados de entrada (X) sejam fornecidos com uma estrutura de matriz específica\n",
        "na forma de: [amostras, etapas de tempo, características]. Nossos dados preparados estão na forma: [amostras,\n",
        "features] e estamos enquadrando o problema como um único passo para cada amostra. Podemos transformar\n",
        "os dados de treino e de teste na estrutura esperada usando `np.reshape()` (NumPy)\n"
      ]
    },
    {
      "cell_type": "code",
      "execution_count": 34,
      "metadata": {
        "id": "9OYpbEb0dJzo"
      },
      "outputs": [],
      "source": [
        "trainX = np.reshape(trainX, (trainX.shape[0], 1, trainX.shape[1]))\n",
        "testX = np.reshape(testX, (testX.shape[0], 1, testX.shape[1]))\n"
      ]
    },
    {
      "cell_type": "markdown",
      "metadata": {
        "id": "4hP6p0Old3If"
      },
      "source": [
        "# Etapa 6: Construção e treinamento do modelo\n"
      ]
    },
    {
      "cell_type": "markdown",
      "metadata": {
        "id": "lfJcuBYdeW95"
      },
      "source": [
        "## Cria o modelo LSTM\n",
        "\n",
        "Agora estamos prontos para projetar nossa rede LSTM para esse problema. A rede tem uma\n",
        "camada visível com 1 entrada, uma camada oculta com 4 blocos LSTM ou neurônios e uma camada de saída\n",
        "que faz uma previsão de valor único. A função de ativação sigmoid padrão é usada para\n",
        "os blocos de memória LSTM. A rede é treinada em 200 épocas e um tamanho de lote (batch_size) de 1 é usado.\n"
      ]
    },
    {
      "cell_type": "code",
      "execution_count": 35,
      "metadata": {
        "id": "Cl44cTsneTC3"
      },
      "outputs": [
        {
          "name": "stderr",
          "output_type": "stream",
          "text": [
            "2021-12-13 12:01:43.029768: I tensorflow/stream_executor/cuda/cuda_gpu_executor.cc:939] successful NUMA node read from SysFS had negative value (-1), but there must be at least one NUMA node, so returning NUMA node zero\n",
            "2021-12-13 12:01:43.329695: I tensorflow/stream_executor/cuda/cuda_gpu_executor.cc:939] successful NUMA node read from SysFS had negative value (-1), but there must be at least one NUMA node, so returning NUMA node zero\n",
            "2021-12-13 12:01:43.330151: I tensorflow/stream_executor/cuda/cuda_gpu_executor.cc:939] successful NUMA node read from SysFS had negative value (-1), but there must be at least one NUMA node, so returning NUMA node zero\n",
            "2021-12-13 12:01:43.331331: I tensorflow/core/platform/cpu_feature_guard.cc:151] This TensorFlow binary is optimized with oneAPI Deep Neural Network Library (oneDNN) to use the following CPU instructions in performance-critical operations:  AVX2 FMA\n",
            "To enable them in other operations, rebuild TensorFlow with the appropriate compiler flags.\n",
            "2021-12-13 12:01:43.332350: I tensorflow/stream_executor/cuda/cuda_gpu_executor.cc:939] successful NUMA node read from SysFS had negative value (-1), but there must be at least one NUMA node, so returning NUMA node zero\n",
            "2021-12-13 12:01:43.332761: I tensorflow/stream_executor/cuda/cuda_gpu_executor.cc:939] successful NUMA node read from SysFS had negative value (-1), but there must be at least one NUMA node, so returning NUMA node zero\n",
            "2021-12-13 12:01:43.333137: I tensorflow/stream_executor/cuda/cuda_gpu_executor.cc:939] successful NUMA node read from SysFS had negative value (-1), but there must be at least one NUMA node, so returning NUMA node zero\n",
            "2021-12-13 12:01:44.932248: I tensorflow/stream_executor/cuda/cuda_gpu_executor.cc:939] successful NUMA node read from SysFS had negative value (-1), but there must be at least one NUMA node, so returning NUMA node zero\n",
            "2021-12-13 12:01:44.932473: I tensorflow/stream_executor/cuda/cuda_gpu_executor.cc:939] successful NUMA node read from SysFS had negative value (-1), but there must be at least one NUMA node, so returning NUMA node zero\n",
            "2021-12-13 12:01:44.932654: I tensorflow/stream_executor/cuda/cuda_gpu_executor.cc:939] successful NUMA node read from SysFS had negative value (-1), but there must be at least one NUMA node, so returning NUMA node zero\n",
            "2021-12-13 12:01:44.932804: I tensorflow/core/common_runtime/gpu/gpu_device.cc:1525] Created device /job:localhost/replica:0/task:0/device:GPU:0 with 4784 MB memory:  -> device: 0, name: NVIDIA GeForce GTX 1060 6GB, pci bus id: 0000:07:00.0, compute capability: 6.1\n"
          ]
        }
      ],
      "source": [
        "model = Sequential()\n"
      ]
    },
    {
      "cell_type": "code",
      "execution_count": 36,
      "metadata": {
        "id": "yTHh1o8UeyAx"
      },
      "outputs": [],
      "source": [
        "model.add(LSTM(4, input_shape=(1, look_back)))\n"
      ]
    },
    {
      "cell_type": "code",
      "execution_count": 37,
      "metadata": {
        "id": "1LRnRb0Pe0rw"
      },
      "outputs": [],
      "source": [
        "model.add(Dense(1))\n"
      ]
    },
    {
      "cell_type": "code",
      "execution_count": 38,
      "metadata": {
        "colab": {
          "base_uri": "https://localhost:8080/"
        },
        "id": "5ODTay7MffbZ",
        "outputId": "944a3d1a-4c3c-472f-c4c6-fb4a1d60ab39"
      },
      "outputs": [
        {
          "name": "stdout",
          "output_type": "stream",
          "text": [
            "Model: \"sequential\"\n",
            "_________________________________________________________________\n",
            " Layer (type)                Output Shape              Param #   \n",
            "=================================================================\n",
            " lstm (LSTM)                 (None, 4)                 96        \n",
            "                                                                 \n",
            " dense (Dense)               (None, 1)                 5         \n",
            "                                                                 \n",
            "=================================================================\n",
            "Total params: 101\n",
            "Trainable params: 101\n",
            "Non-trainable params: 0\n",
            "_________________________________________________________________\n"
          ]
        }
      ],
      "source": [
        "model.summary()\n"
      ]
    },
    {
      "cell_type": "code",
      "execution_count": 39,
      "metadata": {
        "id": "9Y7I-Ukxe5rL"
      },
      "outputs": [],
      "source": [
        "model.compile(loss='mean_squared_error', optimizer='adam')\n"
      ]
    },
    {
      "cell_type": "code",
      "execution_count": 41,
      "metadata": {
        "colab": {
          "base_uri": "https://localhost:8080/"
        },
        "id": "CDKCERJOe74U",
        "outputId": "63f4fa99-da00-474f-b5f5-85afa20d70d0"
      },
      "outputs": [
        {
          "name": "stdout",
          "output_type": "stream",
          "text": [
            "Epoch 1/200\n"
          ]
        },
        {
          "name": "stderr",
          "output_type": "stream",
          "text": [
            "2021-12-13 12:02:38.709335: I tensorflow/stream_executor/cuda/cuda_dnn.cc:366] Loaded cuDNN version 8300\n"
          ]
        },
        {
          "name": "stdout",
          "output_type": "stream",
          "text": [
            "95/95 - 5s - loss: 0.0488 - 5s/epoch - 51ms/step\n",
            "Epoch 2/200\n",
            "95/95 - 0s - loss: 0.0246 - 279ms/epoch - 3ms/step\n",
            "Epoch 3/200\n",
            "95/95 - 0s - loss: 0.0176 - 308ms/epoch - 3ms/step\n",
            "Epoch 4/200\n",
            "95/95 - 0s - loss: 0.0157 - 285ms/epoch - 3ms/step\n",
            "Epoch 5/200\n",
            "95/95 - 0s - loss: 0.0147 - 259ms/epoch - 3ms/step\n",
            "Epoch 6/200\n",
            "95/95 - 0s - loss: 0.0136 - 257ms/epoch - 3ms/step\n",
            "Epoch 7/200\n",
            "95/95 - 0s - loss: 0.0125 - 246ms/epoch - 3ms/step\n",
            "Epoch 8/200\n",
            "95/95 - 0s - loss: 0.0115 - 246ms/epoch - 3ms/step\n",
            "Epoch 9/200\n",
            "95/95 - 0s - loss: 0.0103 - 252ms/epoch - 3ms/step\n",
            "Epoch 10/200\n",
            "95/95 - 0s - loss: 0.0094 - 202ms/epoch - 2ms/step\n",
            "Epoch 11/200\n",
            "95/95 - 0s - loss: 0.0081 - 213ms/epoch - 2ms/step\n",
            "Epoch 12/200\n",
            "95/95 - 0s - loss: 0.0070 - 190ms/epoch - 2ms/step\n",
            "Epoch 13/200\n",
            "95/95 - 0s - loss: 0.0060 - 171ms/epoch - 2ms/step\n",
            "Epoch 14/200\n",
            "95/95 - 0s - loss: 0.0052 - 148ms/epoch - 2ms/step\n",
            "Epoch 15/200\n",
            "95/95 - 0s - loss: 0.0044 - 160ms/epoch - 2ms/step\n",
            "Epoch 16/200\n",
            "95/95 - 0s - loss: 0.0038 - 163ms/epoch - 2ms/step\n",
            "Epoch 17/200\n",
            "95/95 - 0s - loss: 0.0032 - 166ms/epoch - 2ms/step\n",
            "Epoch 18/200\n",
            "95/95 - 0s - loss: 0.0029 - 187ms/epoch - 2ms/step\n",
            "Epoch 19/200\n",
            "95/95 - 0s - loss: 0.0025 - 186ms/epoch - 2ms/step\n",
            "Epoch 20/200\n",
            "95/95 - 0s - loss: 0.0024 - 189ms/epoch - 2ms/step\n",
            "Epoch 21/200\n",
            "95/95 - 0s - loss: 0.0023 - 188ms/epoch - 2ms/step\n",
            "Epoch 22/200\n",
            "95/95 - 0s - loss: 0.0022 - 184ms/epoch - 2ms/step\n",
            "Epoch 23/200\n",
            "95/95 - 0s - loss: 0.0021 - 191ms/epoch - 2ms/step\n",
            "Epoch 24/200\n",
            "95/95 - 0s - loss: 0.0020 - 184ms/epoch - 2ms/step\n",
            "Epoch 25/200\n",
            "95/95 - 0s - loss: 0.0021 - 193ms/epoch - 2ms/step\n",
            "Epoch 26/200\n",
            "95/95 - 0s - loss: 0.0021 - 180ms/epoch - 2ms/step\n",
            "Epoch 27/200\n",
            "95/95 - 0s - loss: 0.0020 - 188ms/epoch - 2ms/step\n",
            "Epoch 28/200\n",
            "95/95 - 0s - loss: 0.0020 - 201ms/epoch - 2ms/step\n",
            "Epoch 29/200\n",
            "95/95 - 0s - loss: 0.0020 - 195ms/epoch - 2ms/step\n",
            "Epoch 30/200\n",
            "95/95 - 0s - loss: 0.0020 - 197ms/epoch - 2ms/step\n",
            "Epoch 31/200\n",
            "95/95 - 0s - loss: 0.0021 - 209ms/epoch - 2ms/step\n",
            "Epoch 32/200\n",
            "95/95 - 0s - loss: 0.0020 - 158ms/epoch - 2ms/step\n",
            "Epoch 33/200\n",
            "95/95 - 0s - loss: 0.0020 - 154ms/epoch - 2ms/step\n",
            "Epoch 34/200\n",
            "95/95 - 0s - loss: 0.0020 - 165ms/epoch - 2ms/step\n",
            "Epoch 35/200\n",
            "95/95 - 0s - loss: 0.0020 - 152ms/epoch - 2ms/step\n",
            "Epoch 36/200\n",
            "95/95 - 0s - loss: 0.0021 - 148ms/epoch - 2ms/step\n",
            "Epoch 37/200\n",
            "95/95 - 0s - loss: 0.0020 - 192ms/epoch - 2ms/step\n",
            "Epoch 38/200\n",
            "95/95 - 0s - loss: 0.0020 - 186ms/epoch - 2ms/step\n",
            "Epoch 39/200\n",
            "95/95 - 0s - loss: 0.0021 - 160ms/epoch - 2ms/step\n",
            "Epoch 40/200\n",
            "95/95 - 0s - loss: 0.0021 - 168ms/epoch - 2ms/step\n",
            "Epoch 41/200\n",
            "95/95 - 0s - loss: 0.0020 - 165ms/epoch - 2ms/step\n",
            "Epoch 42/200\n",
            "95/95 - 0s - loss: 0.0020 - 151ms/epoch - 2ms/step\n",
            "Epoch 43/200\n",
            "95/95 - 0s - loss: 0.0020 - 141ms/epoch - 1ms/step\n",
            "Epoch 44/200\n",
            "95/95 - 0s - loss: 0.0021 - 138ms/epoch - 1ms/step\n",
            "Epoch 45/200\n",
            "95/95 - 0s - loss: 0.0021 - 143ms/epoch - 2ms/step\n",
            "Epoch 46/200\n",
            "95/95 - 0s - loss: 0.0021 - 159ms/epoch - 2ms/step\n",
            "Epoch 47/200\n",
            "95/95 - 0s - loss: 0.0020 - 199ms/epoch - 2ms/step\n",
            "Epoch 48/200\n",
            "95/95 - 0s - loss: 0.0020 - 166ms/epoch - 2ms/step\n",
            "Epoch 49/200\n",
            "95/95 - 0s - loss: 0.0020 - 157ms/epoch - 2ms/step\n",
            "Epoch 50/200\n",
            "95/95 - 0s - loss: 0.0020 - 194ms/epoch - 2ms/step\n",
            "Epoch 51/200\n",
            "95/95 - 0s - loss: 0.0020 - 215ms/epoch - 2ms/step\n",
            "Epoch 52/200\n",
            "95/95 - 0s - loss: 0.0021 - 195ms/epoch - 2ms/step\n",
            "Epoch 53/200\n",
            "95/95 - 0s - loss: 0.0021 - 213ms/epoch - 2ms/step\n",
            "Epoch 54/200\n",
            "95/95 - 0s - loss: 0.0021 - 200ms/epoch - 2ms/step\n",
            "Epoch 55/200\n",
            "95/95 - 0s - loss: 0.0021 - 224ms/epoch - 2ms/step\n",
            "Epoch 56/200\n",
            "95/95 - 0s - loss: 0.0021 - 228ms/epoch - 2ms/step\n",
            "Epoch 57/200\n",
            "95/95 - 0s - loss: 0.0020 - 167ms/epoch - 2ms/step\n",
            "Epoch 58/200\n",
            "95/95 - 0s - loss: 0.0020 - 171ms/epoch - 2ms/step\n",
            "Epoch 59/200\n",
            "95/95 - 0s - loss: 0.0020 - 195ms/epoch - 2ms/step\n",
            "Epoch 60/200\n",
            "95/95 - 0s - loss: 0.0021 - 235ms/epoch - 2ms/step\n",
            "Epoch 61/200\n",
            "95/95 - 0s - loss: 0.0021 - 317ms/epoch - 3ms/step\n",
            "Epoch 62/200\n",
            "95/95 - 0s - loss: 0.0020 - 305ms/epoch - 3ms/step\n",
            "Epoch 63/200\n",
            "95/95 - 0s - loss: 0.0020 - 261ms/epoch - 3ms/step\n",
            "Epoch 64/200\n",
            "95/95 - 0s - loss: 0.0020 - 221ms/epoch - 2ms/step\n",
            "Epoch 65/200\n",
            "95/95 - 0s - loss: 0.0020 - 162ms/epoch - 2ms/step\n",
            "Epoch 66/200\n",
            "95/95 - 0s - loss: 0.0020 - 235ms/epoch - 2ms/step\n",
            "Epoch 67/200\n",
            "95/95 - 0s - loss: 0.0020 - 232ms/epoch - 2ms/step\n",
            "Epoch 68/200\n",
            "95/95 - 0s - loss: 0.0020 - 234ms/epoch - 2ms/step\n",
            "Epoch 69/200\n",
            "95/95 - 0s - loss: 0.0020 - 252ms/epoch - 3ms/step\n",
            "Epoch 70/200\n",
            "95/95 - 0s - loss: 0.0020 - 154ms/epoch - 2ms/step\n",
            "Epoch 71/200\n",
            "95/95 - 0s - loss: 0.0021 - 146ms/epoch - 2ms/step\n",
            "Epoch 72/200\n",
            "95/95 - 0s - loss: 0.0020 - 147ms/epoch - 2ms/step\n",
            "Epoch 73/200\n",
            "95/95 - 0s - loss: 0.0021 - 142ms/epoch - 1ms/step\n",
            "Epoch 74/200\n",
            "95/95 - 0s - loss: 0.0020 - 142ms/epoch - 1ms/step\n",
            "Epoch 75/200\n",
            "95/95 - 0s - loss: 0.0020 - 153ms/epoch - 2ms/step\n",
            "Epoch 76/200\n",
            "95/95 - 0s - loss: 0.0021 - 173ms/epoch - 2ms/step\n",
            "Epoch 77/200\n",
            "95/95 - 0s - loss: 0.0020 - 159ms/epoch - 2ms/step\n",
            "Epoch 78/200\n",
            "95/95 - 0s - loss: 0.0020 - 160ms/epoch - 2ms/step\n",
            "Epoch 79/200\n",
            "95/95 - 0s - loss: 0.0020 - 221ms/epoch - 2ms/step\n",
            "Epoch 80/200\n",
            "95/95 - 0s - loss: 0.0020 - 186ms/epoch - 2ms/step\n",
            "Epoch 81/200\n",
            "95/95 - 0s - loss: 0.0021 - 264ms/epoch - 3ms/step\n",
            "Epoch 82/200\n",
            "95/95 - 0s - loss: 0.0020 - 242ms/epoch - 3ms/step\n",
            "Epoch 83/200\n",
            "95/95 - 0s - loss: 0.0020 - 190ms/epoch - 2ms/step\n",
            "Epoch 84/200\n",
            "95/95 - 0s - loss: 0.0021 - 206ms/epoch - 2ms/step\n",
            "Epoch 85/200\n",
            "95/95 - 0s - loss: 0.0022 - 205ms/epoch - 2ms/step\n",
            "Epoch 86/200\n",
            "95/95 - 0s - loss: 0.0020 - 209ms/epoch - 2ms/step\n",
            "Epoch 87/200\n",
            "95/95 - 0s - loss: 0.0020 - 180ms/epoch - 2ms/step\n",
            "Epoch 88/200\n",
            "95/95 - 0s - loss: 0.0020 - 206ms/epoch - 2ms/step\n",
            "Epoch 89/200\n",
            "95/95 - 0s - loss: 0.0020 - 257ms/epoch - 3ms/step\n",
            "Epoch 90/200\n",
            "95/95 - 0s - loss: 0.0020 - 210ms/epoch - 2ms/step\n",
            "Epoch 91/200\n",
            "95/95 - 0s - loss: 0.0022 - 233ms/epoch - 2ms/step\n",
            "Epoch 92/200\n",
            "95/95 - 0s - loss: 0.0021 - 200ms/epoch - 2ms/step\n",
            "Epoch 93/200\n",
            "95/95 - 0s - loss: 0.0020 - 195ms/epoch - 2ms/step\n",
            "Epoch 94/200\n",
            "95/95 - 0s - loss: 0.0020 - 230ms/epoch - 2ms/step\n",
            "Epoch 95/200\n",
            "95/95 - 0s - loss: 0.0020 - 240ms/epoch - 3ms/step\n",
            "Epoch 96/200\n",
            "95/95 - 0s - loss: 0.0020 - 201ms/epoch - 2ms/step\n",
            "Epoch 97/200\n",
            "95/95 - 0s - loss: 0.0020 - 262ms/epoch - 3ms/step\n",
            "Epoch 98/200\n",
            "95/95 - 0s - loss: 0.0020 - 251ms/epoch - 3ms/step\n",
            "Epoch 99/200\n",
            "95/95 - 0s - loss: 0.0020 - 233ms/epoch - 2ms/step\n",
            "Epoch 100/200\n",
            "95/95 - 0s - loss: 0.0020 - 216ms/epoch - 2ms/step\n",
            "Epoch 101/200\n",
            "95/95 - 0s - loss: 0.0021 - 209ms/epoch - 2ms/step\n",
            "Epoch 102/200\n",
            "95/95 - 0s - loss: 0.0020 - 257ms/epoch - 3ms/step\n",
            "Epoch 103/200\n",
            "95/95 - 0s - loss: 0.0020 - 222ms/epoch - 2ms/step\n",
            "Epoch 104/200\n",
            "95/95 - 0s - loss: 0.0020 - 192ms/epoch - 2ms/step\n",
            "Epoch 105/200\n",
            "95/95 - 0s - loss: 0.0020 - 214ms/epoch - 2ms/step\n",
            "Epoch 106/200\n",
            "95/95 - 0s - loss: 0.0020 - 206ms/epoch - 2ms/step\n",
            "Epoch 107/200\n",
            "95/95 - 0s - loss: 0.0020 - 206ms/epoch - 2ms/step\n",
            "Epoch 108/200\n",
            "95/95 - 0s - loss: 0.0020 - 231ms/epoch - 2ms/step\n",
            "Epoch 109/200\n",
            "95/95 - 0s - loss: 0.0020 - 191ms/epoch - 2ms/step\n",
            "Epoch 110/200\n",
            "95/95 - 0s - loss: 0.0020 - 178ms/epoch - 2ms/step\n",
            "Epoch 111/200\n",
            "95/95 - 0s - loss: 0.0020 - 174ms/epoch - 2ms/step\n",
            "Epoch 112/200\n",
            "95/95 - 0s - loss: 0.0020 - 206ms/epoch - 2ms/step\n",
            "Epoch 113/200\n",
            "95/95 - 0s - loss: 0.0021 - 178ms/epoch - 2ms/step\n",
            "Epoch 114/200\n",
            "95/95 - 0s - loss: 0.0021 - 178ms/epoch - 2ms/step\n",
            "Epoch 115/200\n",
            "95/95 - 0s - loss: 0.0021 - 145ms/epoch - 2ms/step\n",
            "Epoch 116/200\n",
            "95/95 - 0s - loss: 0.0020 - 140ms/epoch - 1ms/step\n",
            "Epoch 117/200\n",
            "95/95 - 0s - loss: 0.0020 - 140ms/epoch - 1ms/step\n",
            "Epoch 118/200\n",
            "95/95 - 0s - loss: 0.0021 - 139ms/epoch - 1ms/step\n",
            "Epoch 119/200\n",
            "95/95 - 0s - loss: 0.0020 - 137ms/epoch - 1ms/step\n",
            "Epoch 120/200\n",
            "95/95 - 0s - loss: 0.0020 - 145ms/epoch - 2ms/step\n",
            "Epoch 121/200\n",
            "95/95 - 0s - loss: 0.0021 - 179ms/epoch - 2ms/step\n",
            "Epoch 122/200\n",
            "95/95 - 0s - loss: 0.0020 - 198ms/epoch - 2ms/step\n",
            "Epoch 123/200\n",
            "95/95 - 0s - loss: 0.0021 - 203ms/epoch - 2ms/step\n",
            "Epoch 124/200\n",
            "95/95 - 0s - loss: 0.0020 - 198ms/epoch - 2ms/step\n",
            "Epoch 125/200\n",
            "95/95 - 0s - loss: 0.0019 - 160ms/epoch - 2ms/step\n",
            "Epoch 126/200\n",
            "95/95 - 0s - loss: 0.0021 - 167ms/epoch - 2ms/step\n",
            "Epoch 127/200\n",
            "95/95 - 0s - loss: 0.0020 - 150ms/epoch - 2ms/step\n",
            "Epoch 128/200\n",
            "95/95 - 0s - loss: 0.0020 - 157ms/epoch - 2ms/step\n",
            "Epoch 129/200\n",
            "95/95 - 0s - loss: 0.0020 - 159ms/epoch - 2ms/step\n",
            "Epoch 130/200\n",
            "95/95 - 0s - loss: 0.0020 - 164ms/epoch - 2ms/step\n",
            "Epoch 131/200\n",
            "95/95 - 0s - loss: 0.0020 - 171ms/epoch - 2ms/step\n",
            "Epoch 132/200\n",
            "95/95 - 0s - loss: 0.0021 - 173ms/epoch - 2ms/step\n",
            "Epoch 133/200\n",
            "95/95 - 0s - loss: 0.0020 - 158ms/epoch - 2ms/step\n",
            "Epoch 134/200\n",
            "95/95 - 0s - loss: 0.0020 - 201ms/epoch - 2ms/step\n",
            "Epoch 135/200\n",
            "95/95 - 0s - loss: 0.0021 - 277ms/epoch - 3ms/step\n",
            "Epoch 136/200\n",
            "95/95 - 0s - loss: 0.0020 - 266ms/epoch - 3ms/step\n",
            "Epoch 137/200\n",
            "95/95 - 0s - loss: 0.0020 - 248ms/epoch - 3ms/step\n",
            "Epoch 138/200\n",
            "95/95 - 0s - loss: 0.0020 - 211ms/epoch - 2ms/step\n",
            "Epoch 139/200\n",
            "95/95 - 0s - loss: 0.0020 - 230ms/epoch - 2ms/step\n",
            "Epoch 140/200\n",
            "95/95 - 0s - loss: 0.0021 - 254ms/epoch - 3ms/step\n",
            "Epoch 141/200\n",
            "95/95 - 0s - loss: 0.0020 - 170ms/epoch - 2ms/step\n",
            "Epoch 142/200\n",
            "95/95 - 0s - loss: 0.0020 - 206ms/epoch - 2ms/step\n",
            "Epoch 143/200\n",
            "95/95 - 0s - loss: 0.0020 - 243ms/epoch - 3ms/step\n",
            "Epoch 144/200\n",
            "95/95 - 0s - loss: 0.0021 - 175ms/epoch - 2ms/step\n",
            "Epoch 145/200\n",
            "95/95 - 0s - loss: 0.0020 - 150ms/epoch - 2ms/step\n",
            "Epoch 146/200\n",
            "95/95 - 0s - loss: 0.0020 - 148ms/epoch - 2ms/step\n",
            "Epoch 147/200\n",
            "95/95 - 0s - loss: 0.0021 - 200ms/epoch - 2ms/step\n",
            "Epoch 148/200\n",
            "95/95 - 0s - loss: 0.0020 - 248ms/epoch - 3ms/step\n",
            "Epoch 149/200\n",
            "95/95 - 0s - loss: 0.0020 - 179ms/epoch - 2ms/step\n",
            "Epoch 150/200\n",
            "95/95 - 0s - loss: 0.0020 - 165ms/epoch - 2ms/step\n",
            "Epoch 151/200\n",
            "95/95 - 0s - loss: 0.0020 - 158ms/epoch - 2ms/step\n",
            "Epoch 152/200\n",
            "95/95 - 0s - loss: 0.0020 - 231ms/epoch - 2ms/step\n",
            "Epoch 153/200\n",
            "95/95 - 0s - loss: 0.0021 - 250ms/epoch - 3ms/step\n",
            "Epoch 154/200\n",
            "95/95 - 0s - loss: 0.0020 - 239ms/epoch - 3ms/step\n",
            "Epoch 155/200\n",
            "95/95 - 0s - loss: 0.0021 - 251ms/epoch - 3ms/step\n",
            "Epoch 156/200\n",
            "95/95 - 0s - loss: 0.0021 - 232ms/epoch - 2ms/step\n",
            "Epoch 157/200\n",
            "95/95 - 0s - loss: 0.0019 - 232ms/epoch - 2ms/step\n",
            "Epoch 158/200\n",
            "95/95 - 0s - loss: 0.0020 - 194ms/epoch - 2ms/step\n",
            "Epoch 159/200\n",
            "95/95 - 0s - loss: 0.0021 - 289ms/epoch - 3ms/step\n",
            "Epoch 160/200\n",
            "95/95 - 0s - loss: 0.0021 - 312ms/epoch - 3ms/step\n",
            "Epoch 161/200\n",
            "95/95 - 0s - loss: 0.0020 - 312ms/epoch - 3ms/step\n",
            "Epoch 162/200\n",
            "95/95 - 0s - loss: 0.0020 - 206ms/epoch - 2ms/step\n",
            "Epoch 163/200\n",
            "95/95 - 0s - loss: 0.0020 - 171ms/epoch - 2ms/step\n",
            "Epoch 164/200\n",
            "95/95 - 0s - loss: 0.0020 - 192ms/epoch - 2ms/step\n",
            "Epoch 165/200\n",
            "95/95 - 0s - loss: 0.0020 - 257ms/epoch - 3ms/step\n",
            "Epoch 166/200\n",
            "95/95 - 0s - loss: 0.0020 - 165ms/epoch - 2ms/step\n",
            "Epoch 167/200\n",
            "95/95 - 0s - loss: 0.0020 - 150ms/epoch - 2ms/step\n",
            "Epoch 168/200\n",
            "95/95 - 0s - loss: 0.0020 - 165ms/epoch - 2ms/step\n",
            "Epoch 169/200\n",
            "95/95 - 0s - loss: 0.0020 - 220ms/epoch - 2ms/step\n",
            "Epoch 170/200\n",
            "95/95 - 0s - loss: 0.0020 - 159ms/epoch - 2ms/step\n",
            "Epoch 171/200\n",
            "95/95 - 0s - loss: 0.0020 - 204ms/epoch - 2ms/step\n",
            "Epoch 172/200\n",
            "95/95 - 0s - loss: 0.0020 - 216ms/epoch - 2ms/step\n",
            "Epoch 173/200\n",
            "95/95 - 0s - loss: 0.0020 - 159ms/epoch - 2ms/step\n",
            "Epoch 174/200\n",
            "95/95 - 0s - loss: 0.0020 - 175ms/epoch - 2ms/step\n",
            "Epoch 175/200\n",
            "95/95 - 0s - loss: 0.0020 - 152ms/epoch - 2ms/step\n",
            "Epoch 176/200\n",
            "95/95 - 0s - loss: 0.0020 - 201ms/epoch - 2ms/step\n",
            "Epoch 177/200\n",
            "95/95 - 0s - loss: 0.0020 - 200ms/epoch - 2ms/step\n",
            "Epoch 178/200\n",
            "95/95 - 0s - loss: 0.0020 - 260ms/epoch - 3ms/step\n",
            "Epoch 179/200\n",
            "95/95 - 0s - loss: 0.0020 - 201ms/epoch - 2ms/step\n",
            "Epoch 180/200\n",
            "95/95 - 0s - loss: 0.0021 - 160ms/epoch - 2ms/step\n",
            "Epoch 181/200\n",
            "95/95 - 0s - loss: 0.0020 - 185ms/epoch - 2ms/step\n",
            "Epoch 182/200\n",
            "95/95 - 0s - loss: 0.0020 - 189ms/epoch - 2ms/step\n",
            "Epoch 183/200\n",
            "95/95 - 0s - loss: 0.0020 - 186ms/epoch - 2ms/step\n",
            "Epoch 184/200\n",
            "95/95 - 0s - loss: 0.0021 - 164ms/epoch - 2ms/step\n",
            "Epoch 185/200\n",
            "95/95 - 0s - loss: 0.0020 - 169ms/epoch - 2ms/step\n",
            "Epoch 186/200\n",
            "95/95 - 0s - loss: 0.0020 - 155ms/epoch - 2ms/step\n",
            "Epoch 187/200\n",
            "95/95 - 0s - loss: 0.0020 - 150ms/epoch - 2ms/step\n",
            "Epoch 188/200\n",
            "95/95 - 0s - loss: 0.0020 - 181ms/epoch - 2ms/step\n",
            "Epoch 189/200\n",
            "95/95 - 0s - loss: 0.0020 - 242ms/epoch - 3ms/step\n",
            "Epoch 190/200\n",
            "95/95 - 0s - loss: 0.0020 - 236ms/epoch - 2ms/step\n",
            "Epoch 191/200\n",
            "95/95 - 0s - loss: 0.0020 - 184ms/epoch - 2ms/step\n",
            "Epoch 192/200\n",
            "95/95 - 0s - loss: 0.0020 - 252ms/epoch - 3ms/step\n",
            "Epoch 193/200\n",
            "95/95 - 0s - loss: 0.0020 - 182ms/epoch - 2ms/step\n",
            "Epoch 194/200\n",
            "95/95 - 0s - loss: 0.0020 - 236ms/epoch - 2ms/step\n",
            "Epoch 195/200\n",
            "95/95 - 0s - loss: 0.0020 - 276ms/epoch - 3ms/step\n",
            "Epoch 196/200\n",
            "95/95 - 0s - loss: 0.0020 - 295ms/epoch - 3ms/step\n",
            "Epoch 197/200\n",
            "95/95 - 0s - loss: 0.0020 - 296ms/epoch - 3ms/step\n",
            "Epoch 198/200\n",
            "95/95 - 0s - loss: 0.0020 - 286ms/epoch - 3ms/step\n",
            "Epoch 199/200\n",
            "95/95 - 0s - loss: 0.0019 - 267ms/epoch - 3ms/step\n",
            "Epoch 200/200\n",
            "95/95 - 0s - loss: 0.0020 - 203ms/epoch - 2ms/step\n"
          ]
        },
        {
          "data": {
            "text/plain": [
              "<keras.callbacks.History at 0x7fdb68071f70>"
            ]
          },
          "execution_count": 41,
          "metadata": {},
          "output_type": "execute_result"
        }
      ],
      "source": [
        "# %% time\n",
        "model.fit(trainX, trainY, epochs=200, batch_size=1, verbose=2)\n"
      ]
    },
    {
      "cell_type": "markdown",
      "metadata": {
        "id": "-PQmbz3Mfwde"
      },
      "source": [
        "# Etapa 7: Previsões\n"
      ]
    },
    {
      "cell_type": "code",
      "execution_count": 42,
      "metadata": {
        "id": "CRMoFMmwfuR7"
      },
      "outputs": [],
      "source": [
        "\n",
        "trainPredict = model.predict(trainX)\n",
        "testPredict = model.predict(testX)\n"
      ]
    },
    {
      "cell_type": "code",
      "execution_count": 43,
      "metadata": {
        "id": "TyznOU41f0g6"
      },
      "outputs": [],
      "source": [
        "# Inverte as previsões por conta da normalização\n",
        "trainPredict = scaler.inverse_transform(trainPredict)\n",
        "trainY = scaler.inverse_transform([trainY])\n",
        "testPredict = scaler.inverse_transform(testPredict)\n",
        "testY = scaler.inverse_transform([testY])\n"
      ]
    },
    {
      "cell_type": "markdown",
      "metadata": {
        "id": "WqnjjbSegMNF"
      },
      "source": [
        "## Calcula o RMSE\n"
      ]
    },
    {
      "cell_type": "code",
      "execution_count": 44,
      "metadata": {
        "colab": {
          "base_uri": "https://localhost:8080/"
        },
        "id": "xWGyE90agGDV",
        "outputId": "70ab6cf2-15ad-4046-de09-6d2053549c97"
      },
      "outputs": [
        {
          "name": "stdout",
          "output_type": "stream",
          "text": [
            "Score em Treino: 22.72 RMSE\n",
            "Score em Teste: 53.95 RMSE\n"
          ]
        }
      ],
      "source": [
        "\n",
        "trainScore = math.sqrt(mean_squared_error(trainY[0], trainPredict[:, 0]))\n",
        "print('Score em Treino: %.2f RMSE' % (trainScore))\n",
        "testScore = math.sqrt(mean_squared_error(testY[0], testPredict[:, 0]))\n",
        "print('Score em Teste: %.2f RMSE' % (testScore))\n"
      ]
    },
    {
      "cell_type": "markdown",
      "metadata": {
        "id": "Mit1jWPkgmkL"
      },
      "source": [
        "## Ajusta as previsões em treino para o plot\n"
      ]
    },
    {
      "cell_type": "code",
      "execution_count": 45,
      "metadata": {
        "id": "q_tagtgMgUPr"
      },
      "outputs": [],
      "source": [
        "\n",
        "trainPredictPlot = np.empty_like(dataset)\n",
        "trainPredictPlot[:, :] = np.nan\n",
        "trainPredictPlot[look_back:len(trainPredict)+look_back, :] = trainPredict\n"
      ]
    },
    {
      "cell_type": "markdown",
      "metadata": {
        "id": "vewAlBlQgePr"
      },
      "source": [
        "## Plot do baseline e previsões\n"
      ]
    },
    {
      "cell_type": "code",
      "execution_count": 46,
      "metadata": {
        "colab": {
          "base_uri": "https://localhost:8080/",
          "height": 265
        },
        "id": "l4htI0lfgZgy",
        "outputId": "d2c601d3-827a-42e3-b60f-ad78c75f5ef8"
      },
      "outputs": [
        {
          "data": {
            "image/png": "[encoded data removed]",
            "text/plain": [
              "<Figure size 432x288 with 1 Axes>"
            ]
          },
          "metadata": {
            "needs_background": "light"
          },
          "output_type": "display_data"
        }
      ],
      "source": [
        "plt.plot(scaler.inverse_transform(dataset))\n",
        "plt.plot(trainPredictPlot)\n",
        "\n",
        "plt.show()\n"
      ]
    }
  ],
  "metadata": {
    "colab": {
      "name": "Redes Neurais Recorrentes LSTM",
      "provenance": []
    },
    "kernelspec": {
      "display_name": "Python 3",
      "name": "python3"
    },
    "language_info": {
      "name": "python",
      "version": "3.9.7"
    }
  },
  "nbformat": 4,
  "nbformat_minor": 0
}
