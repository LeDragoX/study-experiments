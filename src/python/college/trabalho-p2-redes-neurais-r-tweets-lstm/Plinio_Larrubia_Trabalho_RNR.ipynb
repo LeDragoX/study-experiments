{
 "cells": [
  {
   "cell_type": "markdown",
   "metadata": {},
   "source": [
    "# Trabalho de RnR - Gerando Tweets com LSTMs\n",
    "\n",
    "Usaremos Tweets do Presidente dos Tesla, Elon Musk, para treinar um modelo, onde a arquitetura deverá ter duas camadas LSTM e uma Densa. O modelo irá gerar tweets automaticamente.\n",
    "\n",
    "O conjunto de dados está disponível no site de competições em Data Science Kaggle(Link abaixo)\n",
    "\n",
    "## Detalhes\n",
    "\n",
    "- **Dataset:** https://www.kaggle.com/kulgen/elon-musks-tweets\n",
    "- **Aluno:** Plínio Larrubia Ferreira de Moura\n"
   ]
  },
  {
   "cell_type": "markdown",
   "metadata": {},
   "source": [
    "## 1: Obtenção dos dados\n"
   ]
  },
  {
   "cell_type": "markdown",
   "metadata": {},
   "source": [
    "### Importação das Bibliotecas\n"
   ]
  },
  {
   "cell_type": "code",
   "execution_count": 50,
   "metadata": {},
   "outputs": [
    {
     "name": "stdout",
     "output_type": "stream",
     "text": [
      "Requirement already satisfied: keras in /home/ledragox/anaconda3/lib/python3.9/site-packages (2.7.0)\n",
      "Requirement already satisfied: matplotlib in /home/ledragox/anaconda3/lib/python3.9/site-packages (3.5.1)\n",
      "Requirement already satisfied: fonttools>=4.22.0 in /home/ledragox/anaconda3/lib/python3.9/site-packages (from matplotlib) (4.25.0)\n",
      "Requirement already satisfied: packaging>=20.0 in /home/ledragox/anaconda3/lib/python3.9/site-packages (from matplotlib) (21.0)\n",
      "Requirement already satisfied: cycler>=0.10 in /home/ledragox/anaconda3/lib/python3.9/site-packages (from matplotlib) (0.10.0)\n",
      "Requirement already satisfied: kiwisolver>=1.0.1 in /home/ledragox/anaconda3/lib/python3.9/site-packages (from matplotlib) (1.3.1)\n",
      "Requirement already satisfied: pyparsing>=2.2.1 in /home/ledragox/anaconda3/lib/python3.9/site-packages (from matplotlib) (3.0.4)\n",
      "Requirement already satisfied: numpy>=1.17 in /home/ledragox/anaconda3/lib/python3.9/site-packages (from matplotlib) (1.21.4)\n",
      "Requirement already satisfied: python-dateutil>=2.7 in /home/ledragox/.local/lib/python3.9/site-packages (from matplotlib) (2.8.2)\n",
      "Requirement already satisfied: pillow>=6.2.0 in /home/ledragox/anaconda3/lib/python3.9/site-packages (from matplotlib) (8.4.0)\n",
      "Requirement already satisfied: six in /home/ledragox/anaconda3/lib/python3.9/site-packages (from cycler>=0.10->matplotlib) (1.16.0)\n",
      "Requirement already satisfied: numpy in /home/ledragox/anaconda3/lib/python3.9/site-packages (1.21.4)\n",
      "Requirement already satisfied: pandas in /home/ledragox/anaconda3/lib/python3.9/site-packages (1.3.5)\n",
      "Requirement already satisfied: numpy>=1.17.3 in /home/ledragox/anaconda3/lib/python3.9/site-packages (from pandas) (1.21.4)\n",
      "Requirement already satisfied: pytz>=2017.3 in /home/ledragox/anaconda3/lib/python3.9/site-packages (from pandas) (2021.3)\n",
      "Requirement already satisfied: python-dateutil>=2.7.3 in /home/ledragox/.local/lib/python3.9/site-packages (from pandas) (2.8.2)\n",
      "Requirement already satisfied: six>=1.5 in /home/ledragox/anaconda3/lib/python3.9/site-packages (from python-dateutil>=2.7.3->pandas) (1.16.0)\n",
      "Requirement already satisfied: seaborn in /home/ledragox/anaconda3/lib/python3.9/site-packages (0.11.2)\n",
      "Requirement already satisfied: numpy>=1.15 in /home/ledragox/anaconda3/lib/python3.9/site-packages (from seaborn) (1.21.4)\n",
      "Requirement already satisfied: matplotlib>=2.2 in /home/ledragox/anaconda3/lib/python3.9/site-packages (from seaborn) (3.5.1)\n",
      "Requirement already satisfied: pandas>=0.23 in /home/ledragox/anaconda3/lib/python3.9/site-packages (from seaborn) (1.3.5)\n",
      "Requirement already satisfied: scipy>=1.0 in /home/ledragox/anaconda3/lib/python3.9/site-packages (from seaborn) (1.7.1)\n",
      "Requirement already satisfied: cycler>=0.10 in /home/ledragox/anaconda3/lib/python3.9/site-packages (from matplotlib>=2.2->seaborn) (0.10.0)\n",
      "Requirement already satisfied: kiwisolver>=1.0.1 in /home/ledragox/anaconda3/lib/python3.9/site-packages (from matplotlib>=2.2->seaborn) (1.3.1)\n",
      "Requirement already satisfied: python-dateutil>=2.7 in /home/ledragox/.local/lib/python3.9/site-packages (from matplotlib>=2.2->seaborn) (2.8.2)\n",
      "Requirement already satisfied: pillow>=6.2.0 in /home/ledragox/anaconda3/lib/python3.9/site-packages (from matplotlib>=2.2->seaborn) (8.4.0)\n",
      "Requirement already satisfied: packaging>=20.0 in /home/ledragox/anaconda3/lib/python3.9/site-packages (from matplotlib>=2.2->seaborn) (21.0)\n",
      "Requirement already satisfied: pyparsing>=2.2.1 in /home/ledragox/anaconda3/lib/python3.9/site-packages (from matplotlib>=2.2->seaborn) (3.0.4)\n",
      "Requirement already satisfied: fonttools>=4.22.0 in /home/ledragox/anaconda3/lib/python3.9/site-packages (from matplotlib>=2.2->seaborn) (4.25.0)\n",
      "Requirement already satisfied: six in /home/ledragox/anaconda3/lib/python3.9/site-packages (from cycler>=0.10->matplotlib>=2.2->seaborn) (1.16.0)\n",
      "Requirement already satisfied: pytz>=2017.3 in /home/ledragox/anaconda3/lib/python3.9/site-packages (from pandas>=0.23->seaborn) (2021.3)\n",
      "Requirement already satisfied: tensorflow in /home/ledragox/anaconda3/lib/python3.9/site-packages (2.7.0)\n",
      "Requirement already satisfied: keras-preprocessing>=1.1.1 in /home/ledragox/anaconda3/lib/python3.9/site-packages (from tensorflow) (1.1.2)\n",
      "Requirement already satisfied: tensorflow-estimator<2.8,~=2.7.0rc0 in /home/ledragox/anaconda3/lib/python3.9/site-packages (from tensorflow) (2.7.0)\n",
      "Requirement already satisfied: gast<0.5.0,>=0.2.1 in /home/ledragox/anaconda3/lib/python3.9/site-packages (from tensorflow) (0.4.0)\n",
      "Requirement already satisfied: opt-einsum>=2.3.2 in /home/ledragox/anaconda3/lib/python3.9/site-packages (from tensorflow) (3.3.0)\n",
      "Requirement already satisfied: libclang>=9.0.1 in /home/ledragox/anaconda3/lib/python3.9/site-packages (from tensorflow) (12.0.0)\n",
      "Requirement already satisfied: h5py>=2.9.0 in /home/ledragox/anaconda3/lib/python3.9/site-packages (from tensorflow) (3.3.0)\n",
      "Requirement already satisfied: tensorflow-io-gcs-filesystem>=0.21.0 in /home/ledragox/anaconda3/lib/python3.9/site-packages (from tensorflow) (0.22.0)\n",
      "Requirement already satisfied: wheel<1.0,>=0.32.0 in /home/ledragox/anaconda3/lib/python3.9/site-packages (from tensorflow) (0.37.0)\n",
      "Requirement already satisfied: protobuf>=3.9.2 in /home/ledragox/anaconda3/lib/python3.9/site-packages (from tensorflow) (3.19.1)\n",
      "Requirement already satisfied: absl-py>=0.4.0 in /home/ledragox/anaconda3/lib/python3.9/site-packages (from tensorflow) (1.0.0)\n",
      "Requirement already satisfied: keras<2.8,>=2.7.0rc0 in /home/ledragox/anaconda3/lib/python3.9/site-packages (from tensorflow) (2.7.0)\n",
      "Requirement already satisfied: flatbuffers<3.0,>=1.12 in /home/ledragox/anaconda3/lib/python3.9/site-packages (from tensorflow) (2.0)\n",
      "Requirement already satisfied: wrapt>=1.11.0 in /home/ledragox/anaconda3/lib/python3.9/site-packages (from tensorflow) (1.12.1)\n",
      "Requirement already satisfied: numpy>=1.14.5 in /home/ledragox/anaconda3/lib/python3.9/site-packages (from tensorflow) (1.21.4)\n",
      "Requirement already satisfied: typing-extensions>=3.6.6 in /home/ledragox/anaconda3/lib/python3.9/site-packages (from tensorflow) (3.10.0.2)\n",
      "Requirement already satisfied: astunparse>=1.6.0 in /home/ledragox/anaconda3/lib/python3.9/site-packages (from tensorflow) (1.6.3)\n",
      "Requirement already satisfied: six>=1.12.0 in /home/ledragox/anaconda3/lib/python3.9/site-packages (from tensorflow) (1.16.0)\n",
      "Requirement already satisfied: termcolor>=1.1.0 in /home/ledragox/anaconda3/lib/python3.9/site-packages (from tensorflow) (1.1.0)\n",
      "Requirement already satisfied: grpcio<2.0,>=1.24.3 in /home/ledragox/anaconda3/lib/python3.9/site-packages (from tensorflow) (1.42.0)\n",
      "Requirement already satisfied: tensorboard~=2.6 in /home/ledragox/anaconda3/lib/python3.9/site-packages (from tensorflow) (2.7.0)\n",
      "Requirement already satisfied: google-pasta>=0.1.1 in /home/ledragox/anaconda3/lib/python3.9/site-packages (from tensorflow) (0.2.0)\n",
      "Requirement already satisfied: markdown>=2.6.8 in /home/ledragox/anaconda3/lib/python3.9/site-packages (from tensorboard~=2.6->tensorflow) (3.3.6)\n",
      "Requirement already satisfied: tensorboard-data-server<0.7.0,>=0.6.0 in /home/ledragox/anaconda3/lib/python3.9/site-packages (from tensorboard~=2.6->tensorflow) (0.6.1)\n",
      "Requirement already satisfied: requests<3,>=2.21.0 in /home/ledragox/anaconda3/lib/python3.9/site-packages (from tensorboard~=2.6->tensorflow) (2.26.0)\n",
      "Requirement already satisfied: setuptools>=41.0.0 in /home/ledragox/anaconda3/lib/python3.9/site-packages (from tensorboard~=2.6->tensorflow) (58.0.4)\n",
      "Requirement already satisfied: google-auth-oauthlib<0.5,>=0.4.1 in /home/ledragox/anaconda3/lib/python3.9/site-packages (from tensorboard~=2.6->tensorflow) (0.4.6)\n",
      "Requirement already satisfied: tensorboard-plugin-wit>=1.6.0 in /home/ledragox/anaconda3/lib/python3.9/site-packages (from tensorboard~=2.6->tensorflow) (1.8.0)\n",
      "Requirement already satisfied: werkzeug>=0.11.15 in /home/ledragox/anaconda3/lib/python3.9/site-packages (from tensorboard~=2.6->tensorflow) (2.0.2)\n",
      "Requirement already satisfied: google-auth<3,>=1.6.3 in /home/ledragox/anaconda3/lib/python3.9/site-packages (from tensorboard~=2.6->tensorflow) (2.3.3)\n",
      "Requirement already satisfied: cachetools<5.0,>=2.0.0 in /home/ledragox/anaconda3/lib/python3.9/site-packages (from google-auth<3,>=1.6.3->tensorboard~=2.6->tensorflow) (4.2.4)\n",
      "Requirement already satisfied: rsa<5,>=3.1.4 in /home/ledragox/anaconda3/lib/python3.9/site-packages (from google-auth<3,>=1.6.3->tensorboard~=2.6->tensorflow) (4.8)\n",
      "Requirement already satisfied: pyasn1-modules>=0.2.1 in /home/ledragox/anaconda3/lib/python3.9/site-packages (from google-auth<3,>=1.6.3->tensorboard~=2.6->tensorflow) (0.2.8)\n",
      "Requirement already satisfied: requests-oauthlib>=0.7.0 in /home/ledragox/anaconda3/lib/python3.9/site-packages (from google-auth-oauthlib<0.5,>=0.4.1->tensorboard~=2.6->tensorflow) (1.3.0)\n",
      "Requirement already satisfied: importlib-metadata>=4.4 in /home/ledragox/anaconda3/lib/python3.9/site-packages (from markdown>=2.6.8->tensorboard~=2.6->tensorflow) (4.8.1)\n",
      "Requirement already satisfied: zipp>=0.5 in /home/ledragox/anaconda3/lib/python3.9/site-packages (from importlib-metadata>=4.4->markdown>=2.6.8->tensorboard~=2.6->tensorflow) (3.6.0)\n",
      "Requirement already satisfied: pyasn1<0.5.0,>=0.4.6 in /home/ledragox/anaconda3/lib/python3.9/site-packages (from pyasn1-modules>=0.2.1->google-auth<3,>=1.6.3->tensorboard~=2.6->tensorflow) (0.4.8)\n",
      "Requirement already satisfied: certifi>=2017.4.17 in /home/ledragox/anaconda3/lib/python3.9/site-packages (from requests<3,>=2.21.0->tensorboard~=2.6->tensorflow) (2021.10.8)\n",
      "Requirement already satisfied: urllib3<1.27,>=1.21.1 in /home/ledragox/anaconda3/lib/python3.9/site-packages (from requests<3,>=2.21.0->tensorboard~=2.6->tensorflow) (1.26.7)\n",
      "Requirement already satisfied: idna<4,>=2.5 in /home/ledragox/anaconda3/lib/python3.9/site-packages (from requests<3,>=2.21.0->tensorboard~=2.6->tensorflow) (3.2)\n",
      "Requirement already satisfied: charset-normalizer~=2.0.0 in /home/ledragox/anaconda3/lib/python3.9/site-packages (from requests<3,>=2.21.0->tensorboard~=2.6->tensorflow) (2.0.4)\n",
      "Requirement already satisfied: oauthlib>=3.0.0 in /home/ledragox/anaconda3/lib/python3.9/site-packages (from requests-oauthlib>=0.7.0->google-auth-oauthlib<0.5,>=0.4.1->tensorboard~=2.6->tensorflow) (3.1.1)\n"
     ]
    }
   ],
   "source": [
    "!pip install keras --upgrade\n",
    "!pip install matplotlib --upgrade\n",
    "!pip install numpy --upgrade\n",
    "!pip install pandas --upgrade\n",
    "!pip install seaborn --upgrade\n",
    "!pip install tensorflow --upgrade\n"
   ]
  },
  {
   "cell_type": "code",
   "execution_count": 51,
   "metadata": {},
   "outputs": [],
   "source": [
    "from keras.models import Sequential\n",
    "from keras.layers import Dense\n",
    "from keras.layers import Embedding\n",
    "from keras.layers import LSTM\n",
    "from keras.callbacks import ModelCheckpoint\n",
    "from keras.utils import np_utils\n",
    "import matplotlib.pyplot as plt\n",
    "import numpy as np\n",
    "import pandas as pd\n",
    "import seaborn as sns\n",
    "import tensorflow as tf\n",
    "import time\n",
    "import sys\n"
   ]
  },
  {
   "cell_type": "markdown",
   "metadata": {},
   "source": [
    "### Carregando Base de Dados\n"
   ]
  },
  {
   "cell_type": "code",
   "execution_count": 52,
   "metadata": {},
   "outputs": [],
   "source": [
    "# from google.colab import drive\n",
    "# drive.mount('/content/drive')\n"
   ]
  },
  {
   "cell_type": "code",
   "execution_count": 53,
   "metadata": {},
   "outputs": [],
   "source": [
    "elon_base = pd.read_csv('data/data_elonmusk.csv', encoding='latin1')\n"
   ]
  },
  {
   "cell_type": "markdown",
   "metadata": {},
   "source": [
    "## 2: Análise Explorátoria (O possível)\n"
   ]
  },
  {
   "cell_type": "code",
   "execution_count": 54,
   "metadata": {},
   "outputs": [
    {
     "data": {
      "text/html": [
       "<div>\n",
       "<style scoped>\n",
       "    .dataframe tbody tr th:only-of-type {\n",
       "        vertical-align: middle;\n",
       "    }\n",
       "\n",
       "    .dataframe tbody tr th {\n",
       "        vertical-align: top;\n",
       "    }\n",
       "\n",
       "    .dataframe thead th {\n",
       "        text-align: right;\n",
       "    }\n",
       "</style>\n",
       "<table border=\"1\" class=\"dataframe\">\n",
       "  <thead>\n",
       "    <tr style=\"text-align: right;\">\n",
       "      <th></th>\n",
       "      <th>row ID</th>\n",
       "      <th>Tweet</th>\n",
       "      <th>Time</th>\n",
       "      <th>Retweet from</th>\n",
       "      <th>User</th>\n",
       "    </tr>\n",
       "  </thead>\n",
       "  <tbody>\n",
       "    <tr>\n",
       "      <th>0</th>\n",
       "      <td>Row0</td>\n",
       "      <td>@MeltingIce Assuming max acceleration of 2 to ...</td>\n",
       "      <td>2017-09-29 17:39:19</td>\n",
       "      <td>NaN</td>\n",
       "      <td>elonmusk</td>\n",
       "    </tr>\n",
       "    <tr>\n",
       "      <th>1</th>\n",
       "      <td>Row1</td>\n",
       "      <td>RT @SpaceX: BFR is capable of transporting sat...</td>\n",
       "      <td>2017-09-29 10:44:54</td>\n",
       "      <td>SpaceX</td>\n",
       "      <td>elonmusk</td>\n",
       "    </tr>\n",
       "    <tr>\n",
       "      <th>2</th>\n",
       "      <td>Row2</td>\n",
       "      <td>@bigajm Yup :)</td>\n",
       "      <td>2017-09-29 10:39:57</td>\n",
       "      <td>NaN</td>\n",
       "      <td>elonmusk</td>\n",
       "    </tr>\n",
       "    <tr>\n",
       "      <th>3</th>\n",
       "      <td>Row3</td>\n",
       "      <td>Part 2 https://t.co/8Fvu57muhM</td>\n",
       "      <td>2017-09-29 09:56:12</td>\n",
       "      <td>NaN</td>\n",
       "      <td>elonmusk</td>\n",
       "    </tr>\n",
       "    <tr>\n",
       "      <th>4</th>\n",
       "      <td>Row4</td>\n",
       "      <td>Fly to most places on Earth in under 30 mins a...</td>\n",
       "      <td>2017-09-29 09:19:21</td>\n",
       "      <td>NaN</td>\n",
       "      <td>elonmusk</td>\n",
       "    </tr>\n",
       "  </tbody>\n",
       "</table>\n",
       "</div>"
      ],
      "text/plain": [
       "  row ID                                              Tweet  \\\n",
       "0   Row0  @MeltingIce Assuming max acceleration of 2 to ...   \n",
       "1   Row1  RT @SpaceX: BFR is capable of transporting sat...   \n",
       "2   Row2                                     @bigajm Yup :)   \n",
       "3   Row3                     Part 2 https://t.co/8Fvu57muhM   \n",
       "4   Row4  Fly to most places on Earth in under 30 mins a...   \n",
       "\n",
       "                  Time Retweet from      User  \n",
       "0  2017-09-29 17:39:19          NaN  elonmusk  \n",
       "1  2017-09-29 10:44:54       SpaceX  elonmusk  \n",
       "2  2017-09-29 10:39:57          NaN  elonmusk  \n",
       "3  2017-09-29 09:56:12          NaN  elonmusk  \n",
       "4  2017-09-29 09:19:21          NaN  elonmusk  "
      ]
     },
     "execution_count": 54,
     "metadata": {},
     "output_type": "execute_result"
    }
   ],
   "source": [
    "elon_base.head()\n"
   ]
  },
  {
   "cell_type": "code",
   "execution_count": 55,
   "metadata": {},
   "outputs": [
    {
     "data": {
      "text/html": [
       "<div>\n",
       "<style scoped>\n",
       "    .dataframe tbody tr th:only-of-type {\n",
       "        vertical-align: middle;\n",
       "    }\n",
       "\n",
       "    .dataframe tbody tr th {\n",
       "        vertical-align: top;\n",
       "    }\n",
       "\n",
       "    .dataframe thead th {\n",
       "        text-align: right;\n",
       "    }\n",
       "</style>\n",
       "<table border=\"1\" class=\"dataframe\">\n",
       "  <thead>\n",
       "    <tr style=\"text-align: right;\">\n",
       "      <th></th>\n",
       "      <th>row ID</th>\n",
       "      <th>Tweet</th>\n",
       "      <th>Time</th>\n",
       "      <th>Retweet from</th>\n",
       "      <th>User</th>\n",
       "    </tr>\n",
       "  </thead>\n",
       "  <tbody>\n",
       "    <tr>\n",
       "      <th>3213</th>\n",
       "      <td>Row3213</td>\n",
       "      <td>@YOUSRC Amos's article was fair, but his edito...</td>\n",
       "      <td>2012-11-20 08:52:03</td>\n",
       "      <td>NaN</td>\n",
       "      <td>elonmusk</td>\n",
       "    </tr>\n",
       "    <tr>\n",
       "      <th>3214</th>\n",
       "      <td>Row3214</td>\n",
       "      <td>These articles in Space News describe why Aria...</td>\n",
       "      <td>2012-11-20 08:38:31</td>\n",
       "      <td>NaN</td>\n",
       "      <td>elonmusk</td>\n",
       "    </tr>\n",
       "    <tr>\n",
       "      <th>3215</th>\n",
       "      <td>Row3215</td>\n",
       "      <td>Was misquoted by BBC as saying Europe's rocket...</td>\n",
       "      <td>2012-11-20 08:30:44</td>\n",
       "      <td>NaN</td>\n",
       "      <td>elonmusk</td>\n",
       "    </tr>\n",
       "    <tr>\n",
       "      <th>3216</th>\n",
       "      <td>Row3216</td>\n",
       "      <td>Just returned from a trip to London and Oxford...</td>\n",
       "      <td>2012-11-19 08:59:46</td>\n",
       "      <td>NaN</td>\n",
       "      <td>elonmusk</td>\n",
       "    </tr>\n",
       "    <tr>\n",
       "      <th>3217</th>\n",
       "      <td>Row3217</td>\n",
       "      <td>RT @Jon_Favreau: My Model S just arrived and I...</td>\n",
       "      <td>2012-11-16 17:59:47</td>\n",
       "      <td>Jon_Favreau</td>\n",
       "      <td>elonmusk</td>\n",
       "    </tr>\n",
       "  </tbody>\n",
       "</table>\n",
       "</div>"
      ],
      "text/plain": [
       "       row ID                                              Tweet  \\\n",
       "3213  Row3213  @YOUSRC Amos's article was fair, but his edito...   \n",
       "3214  Row3214  These articles in Space News describe why Aria...   \n",
       "3215  Row3215  Was misquoted by BBC as saying Europe's rocket...   \n",
       "3216  Row3216  Just returned from a trip to London and Oxford...   \n",
       "3217  Row3217  RT @Jon_Favreau: My Model S just arrived and I...   \n",
       "\n",
       "                     Time Retweet from      User  \n",
       "3213  2012-11-20 08:52:03          NaN  elonmusk  \n",
       "3214  2012-11-20 08:38:31          NaN  elonmusk  \n",
       "3215  2012-11-20 08:30:44          NaN  elonmusk  \n",
       "3216  2012-11-19 08:59:46          NaN  elonmusk  \n",
       "3217  2012-11-16 17:59:47  Jon_Favreau  elonmusk  "
      ]
     },
     "execution_count": 55,
     "metadata": {},
     "output_type": "execute_result"
    }
   ],
   "source": [
    "elon_base.iloc[-5:, :]\n"
   ]
  },
  {
   "cell_type": "code",
   "execution_count": 56,
   "metadata": {},
   "outputs": [
    {
     "data": {
      "text/plain": [
       "(array(['elonmusk'], dtype=object), array([3218]))"
      ]
     },
     "execution_count": 56,
     "metadata": {},
     "output_type": "execute_result"
    }
   ],
   "source": [
    "np.unique(elon_base['User'], return_counts=True)\n"
   ]
  },
  {
   "cell_type": "code",
   "execution_count": 57,
   "metadata": {},
   "outputs": [
    {
     "name": "stdout",
     "output_type": "stream",
     "text": [
      "<class 'pandas.core.frame.DataFrame'>\n",
      "RangeIndex: 3218 entries, 0 to 3217\n",
      "Data columns (total 5 columns):\n",
      " #   Column        Non-Null Count  Dtype \n",
      "---  ------        --------------  ----- \n",
      " 0   row ID        3218 non-null   object\n",
      " 1   Tweet         3218 non-null   object\n",
      " 2   Time          3218 non-null   object\n",
      " 3   Retweet from  525 non-null    object\n",
      " 4   User          3218 non-null   object\n",
      "dtypes: object(5)\n",
      "memory usage: 125.8+ KB\n"
     ]
    }
   ],
   "source": [
    "elon_base.info()\n"
   ]
  },
  {
   "cell_type": "code",
   "execution_count": 58,
   "metadata": {},
   "outputs": [
    {
     "data": {
      "text/html": [
       "<div>\n",
       "<style scoped>\n",
       "    .dataframe tbody tr th:only-of-type {\n",
       "        vertical-align: middle;\n",
       "    }\n",
       "\n",
       "    .dataframe tbody tr th {\n",
       "        vertical-align: top;\n",
       "    }\n",
       "\n",
       "    .dataframe thead th {\n",
       "        text-align: right;\n",
       "    }\n",
       "</style>\n",
       "<table border=\"1\" class=\"dataframe\">\n",
       "  <thead>\n",
       "    <tr style=\"text-align: right;\">\n",
       "      <th></th>\n",
       "      <th>row ID</th>\n",
       "      <th>Tweet</th>\n",
       "      <th>Time</th>\n",
       "      <th>Retweet from</th>\n",
       "      <th>User</th>\n",
       "    </tr>\n",
       "  </thead>\n",
       "  <tbody>\n",
       "    <tr>\n",
       "      <th>count</th>\n",
       "      <td>3218</td>\n",
       "      <td>3218</td>\n",
       "      <td>3218</td>\n",
       "      <td>525</td>\n",
       "      <td>3218</td>\n",
       "    </tr>\n",
       "    <tr>\n",
       "      <th>unique</th>\n",
       "      <td>3218</td>\n",
       "      <td>3216</td>\n",
       "      <td>3217</td>\n",
       "      <td>201</td>\n",
       "      <td>1</td>\n",
       "    </tr>\n",
       "    <tr>\n",
       "      <th>top</th>\n",
       "      <td>Row0</td>\n",
       "      <td>RT @SpaceX: Webcast of Falcon 9 launch is now ...</td>\n",
       "      <td>2013-07-24 10:49:13</td>\n",
       "      <td>SpaceX</td>\n",
       "      <td>elonmusk</td>\n",
       "    </tr>\n",
       "    <tr>\n",
       "      <th>freq</th>\n",
       "      <td>1</td>\n",
       "      <td>2</td>\n",
       "      <td>2</td>\n",
       "      <td>109</td>\n",
       "      <td>3218</td>\n",
       "    </tr>\n",
       "  </tbody>\n",
       "</table>\n",
       "</div>"
      ],
      "text/plain": [
       "       row ID                                              Tweet  \\\n",
       "count    3218                                               3218   \n",
       "unique   3218                                               3216   \n",
       "top      Row0  RT @SpaceX: Webcast of Falcon 9 launch is now ...   \n",
       "freq        1                                                  2   \n",
       "\n",
       "                       Time Retweet from      User  \n",
       "count                  3218          525      3218  \n",
       "unique                 3217          201         1  \n",
       "top     2013-07-24 10:49:13       SpaceX  elonmusk  \n",
       "freq                      2          109      3218  "
      ]
     },
     "execution_count": 58,
     "metadata": {},
     "output_type": "execute_result"
    }
   ],
   "source": [
    "elon_base.describe()\n"
   ]
  },
  {
   "cell_type": "code",
   "execution_count": 59,
   "metadata": {},
   "outputs": [
    {
     "data": {
      "text/plain": [
       "array([nan, 'SpaceX', 'mayemusk', 'MotorTrend', 'FastCompany', 'Gizmodo',\n",
       "       'Tesla', 'karpathy', 'Hyperloop', 'Teslarati', 'cmleahey', 'NASA',\n",
       "       'OpenAI', 'mkarolian', 'guardianeco', 'rj8w', 'TheOnion',\n",
       "       'tanyaofmars', 'mcannonbrookes', 'BBCWorld', 'HuffPostAU',\n",
       "       'justAfanDavid', 'cnntech', 'jovanik21', 'ElectrekCo',\n",
       "       'businessinsider', 'newscientist', 'RobertIger', 'TheMarsSociety',\n",
       "       'insideclimate', 'GeorgeTakei', 'waitbutwhy', 'creepypuppet',\n",
       "       'wcax', 'business', 'MrJc2012', 'mashable', '350', 'XHNews',\n",
       "       'realamberheard', 'AAAauto', 'ProfBrianCox', 'PokerVixen',\n",
       "       'RH_Way', 'morrisonbrett', 'arctechinc', 'Herifin_teki',\n",
       "       'RicardoTwumasi', 'Shkottt', 'danieltadros', 'bobbykansara',\n",
       "       'ryanrossuk', 'verge', 'SteveCase', 'WIRED', 'techinsider',\n",
       "       'neiltyson', 'tsrandall', 'BBC_TopGear', 'IridiumComm', 'thedrive',\n",
       "       'TechCrunch', 'garrett_bauman', 'TheEconomist', 'NatGeo',\n",
       "       'RealRonHoward', 'ggreenwald', 'jodyfisher', 'CNBC', 'solarcity',\n",
       "       'zebedee666', 'jeffmason1', 'Walpoleboy6_RBX', 'InsideWestworld',\n",
       "       'exploreplanets', 'dougfeig', 'Space_Station', 'VentureBeat',\n",
       "       'WestworldHBO', 'futuregames', 'BadAstronomer', 'inversedotcom',\n",
       "       'geekwire', 'westcoastbill', 'ycombinator', 'sama', 'sapinker',\n",
       "       'HodderBooks', 'kytv', 'engadget', 'Reuters', 'solarimpulse',\n",
       "       'TheRealBuzz', 'Eddy_Jahn', 'DougEatwell', 'VanityFair',\n",
       "       'nickbilton', 'Kotaku_UK', 'nicoleva', 'juanmtrejo', 'USATODAY',\n",
       "       'joshuapinter', 'jdickerson', 'StationCDRKelly', 'Nashenas88',\n",
       "       'chamath', 'physorg_com', 'hamids', 'marcthiessen', 'BillGates',\n",
       "       'alexisgeo', 'bonnienorman', 'LeilaniMunter', 'PaulPolman',\n",
       "       'Lebeaucarnews', 'billmckibben', 'Commercial_Crew', 'ORBCOMM_Inc',\n",
       "       'InsideEVs', 'karliekloss', 'WSJLife', 'MikeBloomberg',\n",
       "       'DiscoveryUK', 'THR', 'realdavidjehl', 'NewYorker', 'MrTeller',\n",
       "       'EcoWatch', 'Jalopnik', 'strngwys', 'TIME', 'TeslaEight', 'Oprah',\n",
       "       'ConsumerReports', 'BjornNyland', 'gearpatrol', 'DavidBrin',\n",
       "       'GreenCarReports', 'pierre', 'johngreen', 'deadmau5',\n",
       "       'StephenKing', 'CERN', 'Zedd', 'motherboard', 'StarTalkRadio',\n",
       "       'Slate', 'RacingXtinction', 'KrapelsMarco', 'hitaskunk',\n",
       "       'Miles_Brundage', 'Techmeme', 'AutoblogGreen', 'astro_reid', 'WSJ',\n",
       "       'R_Rojas_Leon', 'cuckoolandcom', 'pud', 'Jon_Favreau',\n",
       "       'arstechnica', 'OEVAorg', 'th_az_', 'amerpro555', 'SpaceNews_Inc',\n",
       "       'TeslaMS60', 'wendelljopson', 'HighTechJoe', 'plugshare',\n",
       "       'mgalimany', 'williamwinters', 'ID_AA_Carmack', 'UberObvi',\n",
       "       'DynamicWebPaige', 'John_Gardi', 'RobertGaristo', 'UberFacts',\n",
       "       '1stHubbleFan', 'CRcars', 'sciam', 'DowntownProjLV', 'edmunds',\n",
       "       'davidharvey', 'timoreilly', 'NASAKennedy', 'willsamari',\n",
       "       'Edmunds_Test', 'johnvoelcker', 'lenfeldman', 'YaelTAbouhalkah',\n",
       "       'TeslaRoadTrip', 'LawrenceChanin', 'kjkuske', 'Benioff',\n",
       "       'AbigailBassett', 'PeterDrives', 'Thomsen_Lars', 'A_C_R',\n",
       "       'JasonJKnapp', 'jordanrushbloch', 'gigaom', 'brynmooser',\n",
       "       'neokoenig'], dtype=object)"
      ]
     },
     "execution_count": 59,
     "metadata": {},
     "output_type": "execute_result"
    }
   ],
   "source": [
    "retweet_values = elon_base['Retweet from'].unique()\n",
    "retweet_values\n"
   ]
  },
  {
   "cell_type": "markdown",
   "metadata": {},
   "source": [
    "### Retweets da @SpaceX\n"
   ]
  },
  {
   "cell_type": "code",
   "execution_count": 60,
   "metadata": {},
   "outputs": [],
   "source": [
    "by_retweets = elon_base.groupby(['Retweet from'])\n"
   ]
  },
  {
   "cell_type": "code",
   "execution_count": 61,
   "metadata": {},
   "outputs": [
    {
     "data": {
      "text/html": [
       "<div>\n",
       "<style scoped>\n",
       "    .dataframe tbody tr th:only-of-type {\n",
       "        vertical-align: middle;\n",
       "    }\n",
       "\n",
       "    .dataframe tbody tr th {\n",
       "        vertical-align: top;\n",
       "    }\n",
       "\n",
       "    .dataframe thead th {\n",
       "        text-align: right;\n",
       "    }\n",
       "</style>\n",
       "<table border=\"1\" class=\"dataframe\">\n",
       "  <thead>\n",
       "    <tr style=\"text-align: right;\">\n",
       "      <th></th>\n",
       "      <th>Tweet</th>\n",
       "    </tr>\n",
       "  </thead>\n",
       "  <tbody>\n",
       "    <tr>\n",
       "      <th>1</th>\n",
       "      <td>RT @SpaceX: BFR is capable of transporting sat...</td>\n",
       "    </tr>\n",
       "    <tr>\n",
       "      <th>5</th>\n",
       "      <td>RT @SpaceX: Supporting the creation of a perma...</td>\n",
       "    </tr>\n",
       "    <tr>\n",
       "      <th>10</th>\n",
       "      <td>RT @SpaceX: Nine years ago today, Falcon 1 bec...</td>\n",
       "    </tr>\n",
       "    <tr>\n",
       "      <th>44</th>\n",
       "      <td>RT @SpaceX: More photos from today?s Falcon 9 ...</td>\n",
       "    </tr>\n",
       "    <tr>\n",
       "      <th>110</th>\n",
       "      <td>RT @SpaceX: Successful deployment of FORMOSAT-...</td>\n",
       "    </tr>\n",
       "    <tr>\n",
       "      <th>...</th>\n",
       "      <td>...</td>\n",
       "    </tr>\n",
       "    <tr>\n",
       "      <th>2699</th>\n",
       "      <td>RT @SpaceX: [PHOTO] Falcon 9 and SES-8 liftoff...</td>\n",
       "    </tr>\n",
       "    <tr>\n",
       "      <th>2729</th>\n",
       "      <td>RT @SpaceX: Falcon 9 launch window opens tmrw ...</td>\n",
       "    </tr>\n",
       "    <tr>\n",
       "      <th>2733</th>\n",
       "      <td>RT @SpaceX: Falcon 9 targeted to launch SES-8 ...</td>\n",
       "    </tr>\n",
       "    <tr>\n",
       "      <th>2900</th>\n",
       "      <td>RT @SpaceX: [WATCH] SpaceX?s 5.2m satellite fa...</td>\n",
       "    </tr>\n",
       "    <tr>\n",
       "      <th>3093</th>\n",
       "      <td>RT @SpaceX: #Dragon attachment to #ISS is conf...</td>\n",
       "    </tr>\n",
       "  </tbody>\n",
       "</table>\n",
       "<p>109 rows × 1 columns</p>\n",
       "</div>"
      ],
      "text/plain": [
       "                                                  Tweet\n",
       "1     RT @SpaceX: BFR is capable of transporting sat...\n",
       "5     RT @SpaceX: Supporting the creation of a perma...\n",
       "10    RT @SpaceX: Nine years ago today, Falcon 1 bec...\n",
       "44    RT @SpaceX: More photos from today?s Falcon 9 ...\n",
       "110   RT @SpaceX: Successful deployment of FORMOSAT-...\n",
       "...                                                 ...\n",
       "2699  RT @SpaceX: [PHOTO] Falcon 9 and SES-8 liftoff...\n",
       "2729  RT @SpaceX: Falcon 9 launch window opens tmrw ...\n",
       "2733  RT @SpaceX: Falcon 9 targeted to launch SES-8 ...\n",
       "2900  RT @SpaceX: [WATCH] SpaceX?s 5.2m satellite fa...\n",
       "3093  RT @SpaceX: #Dragon attachment to #ISS is conf...\n",
       "\n",
       "[109 rows x 1 columns]"
      ]
     },
     "execution_count": 61,
     "metadata": {},
     "output_type": "execute_result"
    }
   ],
   "source": [
    "pd.DataFrame(by_retweets['Tweet'].get_group(name='SpaceX'))\n"
   ]
  },
  {
   "cell_type": "markdown",
   "metadata": {},
   "source": [
    "## 3: Preparação dos Dados\n"
   ]
  },
  {
   "cell_type": "code",
   "execution_count": 62,
   "metadata": {},
   "outputs": [
    {
     "data": {
      "text/plain": [
       "array([\"@MeltingIce Assuming max acceleration of 2 to 3 g's, but in a comfortable direction. Will feel like a mild to moder? https://t.co/fpjmEgrHfC\",\n",
       "       'RT @SpaceX: BFR is capable of transporting satellites to orbit, crew and cargo to the @Space_Station and completing missions to the Moon an?',\n",
       "       '@bigajm Yup :)', ...,\n",
       "       \"Was misquoted by BBC as saying Europe's rocket has no chance. Just said the [Franco-German] Ariane 5 has no chance, so go with Ariane 6.\",\n",
       "       'Just returned from a trip to London and Oxford, where I met with many interesting people. I really like Britain!',\n",
       "       'RT @Jon_Favreau: My Model S just arrived and I went electric like Dylan! #FF @TeslaMotors @elonmusk'],\n",
       "      dtype=object)"
      ]
     },
     "execution_count": 62,
     "metadata": {},
     "output_type": "execute_result"
    }
   ],
   "source": [
    "tweets_data = elon_base['Tweet'].values\n",
    "tweets_data"
   ]
  },
  {
   "cell_type": "code",
   "execution_count": 63,
   "metadata": {},
   "outputs": [],
   "source": [
    "dataset_text = '\\n'.join(tweets_data)\n"
   ]
  },
  {
   "cell_type": "code",
   "execution_count": 64,
   "metadata": {},
   "outputs": [
    {
     "name": "stdout",
     "output_type": "stream",
     "text": [
      "97 unique characters\n"
     ]
    }
   ],
   "source": [
    "characteres = sorted(list(set(dataset_text)))\n",
    "print('{} unique characters'.format(len(characteres)))\n"
   ]
  },
  {
   "cell_type": "code",
   "execution_count": 65,
   "metadata": {},
   "outputs": [
    {
     "data": {
      "text/plain": [
       "['\\n',\n",
       " ' ',\n",
       " '!',\n",
       " '#',\n",
       " '$',\n",
       " '%',\n",
       " '&',\n",
       " \"'\",\n",
       " '(',\n",
       " ')',\n",
       " '*',\n",
       " '+',\n",
       " ',',\n",
       " '-',\n",
       " '.',\n",
       " '/',\n",
       " '0',\n",
       " '1',\n",
       " '2',\n",
       " '3',\n",
       " '4',\n",
       " '5',\n",
       " '6',\n",
       " '7',\n",
       " '8',\n",
       " '9',\n",
       " ':',\n",
       " ';',\n",
       " '<',\n",
       " '=',\n",
       " '>',\n",
       " '?',\n",
       " '@',\n",
       " 'A',\n",
       " 'B',\n",
       " 'C',\n",
       " 'D',\n",
       " 'E',\n",
       " 'F',\n",
       " 'G',\n",
       " 'H',\n",
       " 'I',\n",
       " 'J',\n",
       " 'K',\n",
       " 'L',\n",
       " 'M',\n",
       " 'N',\n",
       " 'O',\n",
       " 'P',\n",
       " 'Q',\n",
       " 'R',\n",
       " 'S',\n",
       " 'T',\n",
       " 'U',\n",
       " 'V',\n",
       " 'W',\n",
       " 'X',\n",
       " 'Y',\n",
       " 'Z',\n",
       " '[',\n",
       " ']',\n",
       " '^',\n",
       " '_',\n",
       " '`',\n",
       " 'a',\n",
       " 'b',\n",
       " 'c',\n",
       " 'd',\n",
       " 'e',\n",
       " 'f',\n",
       " 'g',\n",
       " 'h',\n",
       " 'i',\n",
       " 'j',\n",
       " 'k',\n",
       " 'l',\n",
       " 'm',\n",
       " 'n',\n",
       " 'o',\n",
       " 'p',\n",
       " 'q',\n",
       " 'r',\n",
       " 's',\n",
       " 't',\n",
       " 'u',\n",
       " 'v',\n",
       " 'w',\n",
       " 'x',\n",
       " 'y',\n",
       " 'z',\n",
       " '|',\n",
       " '~',\n",
       " '\\xa0',\n",
       " '°',\n",
       " 'Ü',\n",
       " 'ä',\n",
       " 'é']"
      ]
     },
     "execution_count": 65,
     "metadata": {},
     "output_type": "execute_result"
    }
   ],
   "source": [
    "characteres"
   ]
  },
  {
   "cell_type": "code",
   "execution_count": 66,
   "metadata": {},
   "outputs": [
    {
     "data": {
      "text/plain": [
       "{'\\n': 0,\n",
       " ' ': 1,\n",
       " '!': 2,\n",
       " '#': 3,\n",
       " '$': 4,\n",
       " '%': 5,\n",
       " '&': 6,\n",
       " \"'\": 7,\n",
       " '(': 8,\n",
       " ')': 9,\n",
       " '*': 10,\n",
       " '+': 11,\n",
       " ',': 12,\n",
       " '-': 13,\n",
       " '.': 14,\n",
       " '/': 15,\n",
       " '0': 16,\n",
       " '1': 17,\n",
       " '2': 18,\n",
       " '3': 19,\n",
       " '4': 20,\n",
       " '5': 21,\n",
       " '6': 22,\n",
       " '7': 23,\n",
       " '8': 24,\n",
       " '9': 25,\n",
       " ':': 26,\n",
       " ';': 27,\n",
       " '<': 28,\n",
       " '=': 29,\n",
       " '>': 30,\n",
       " '?': 31,\n",
       " '@': 32,\n",
       " 'A': 33,\n",
       " 'B': 34,\n",
       " 'C': 35,\n",
       " 'D': 36,\n",
       " 'E': 37,\n",
       " 'F': 38,\n",
       " 'G': 39,\n",
       " 'H': 40,\n",
       " 'I': 41,\n",
       " 'J': 42,\n",
       " 'K': 43,\n",
       " 'L': 44,\n",
       " 'M': 45,\n",
       " 'N': 46,\n",
       " 'O': 47,\n",
       " 'P': 48,\n",
       " 'Q': 49,\n",
       " 'R': 50,\n",
       " 'S': 51,\n",
       " 'T': 52,\n",
       " 'U': 53,\n",
       " 'V': 54,\n",
       " 'W': 55,\n",
       " 'X': 56,\n",
       " 'Y': 57,\n",
       " 'Z': 58,\n",
       " '[': 59,\n",
       " ']': 60,\n",
       " '^': 61,\n",
       " '_': 62,\n",
       " '`': 63,\n",
       " 'a': 64,\n",
       " 'b': 65,\n",
       " 'c': 66,\n",
       " 'd': 67,\n",
       " 'e': 68,\n",
       " 'f': 69,\n",
       " 'g': 70,\n",
       " 'h': 71,\n",
       " 'i': 72,\n",
       " 'j': 73,\n",
       " 'k': 74,\n",
       " 'l': 75,\n",
       " 'm': 76,\n",
       " 'n': 77,\n",
       " 'o': 78,\n",
       " 'p': 79,\n",
       " 'q': 80,\n",
       " 'r': 81,\n",
       " 's': 82,\n",
       " 't': 83,\n",
       " 'u': 84,\n",
       " 'v': 85,\n",
       " 'w': 86,\n",
       " 'x': 87,\n",
       " 'y': 88,\n",
       " 'z': 89,\n",
       " '|': 90,\n",
       " '~': 91,\n",
       " '\\xa0': 92,\n",
       " '°': 93,\n",
       " 'Ü': 94,\n",
       " 'ä': 95,\n",
       " 'é': 96}"
      ]
     },
     "execution_count": 66,
     "metadata": {},
     "output_type": "execute_result"
    }
   ],
   "source": [
    "char2idx = { char: index for index, char in enumerate(characteres) }\n",
    "char2idx"
   ]
  },
  {
   "cell_type": "code",
   "execution_count": 67,
   "metadata": {},
   "outputs": [
    {
     "data": {
      "text/plain": [
       "array(['\\n', ' ', '!', '#', '$', '%', '&', \"'\", '(', ')', '*', '+', ',',\n",
       "       '-', '.', '/', '0', '1', '2', '3', '4', '5', '6', '7', '8', '9',\n",
       "       ':', ';', '<', '=', '>', '?', '@', 'A', 'B', 'C', 'D', 'E', 'F',\n",
       "       'G', 'H', 'I', 'J', 'K', 'L', 'M', 'N', 'O', 'P', 'Q', 'R', 'S',\n",
       "       'T', 'U', 'V', 'W', 'X', 'Y', 'Z', '[', ']', '^', '_', '`', 'a',\n",
       "       'b', 'c', 'd', 'e', 'f', 'g', 'h', 'i', 'j', 'k', 'l', 'm', 'n',\n",
       "       'o', 'p', 'q', 'r', 's', 't', 'u', 'v', 'w', 'x', 'y', 'z', '|',\n",
       "       '~', '\\xa0', '°', 'Ü', 'ä', 'é'], dtype='<U1')"
      ]
     },
     "execution_count": 67,
     "metadata": {},
     "output_type": "execute_result"
    }
   ],
   "source": [
    "idx2char = np.array(characteres)\n",
    "idx2char"
   ]
  },
  {
   "cell_type": "code",
   "execution_count": 68,
   "metadata": {},
   "outputs": [
    {
     "data": {
      "text/plain": [
       "(96, 'é')"
      ]
     },
     "execution_count": 68,
     "metadata": {},
     "output_type": "execute_result"
    }
   ],
   "source": [
    "char2idx['é'], idx2char[96]"
   ]
  },
  {
   "cell_type": "code",
   "execution_count": 69,
   "metadata": {},
   "outputs": [
    {
     "data": {
      "text/plain": [
       "((300787,), array([32, 45, 68, ..., 84, 82, 74]))"
      ]
     },
     "execution_count": 69,
     "metadata": {},
     "output_type": "execute_result"
    }
   ],
   "source": [
    "text_as_int = np.array([char2idx[char] for char in dataset_text])\n",
    "text_as_int.shape, text_as_int"
   ]
  },
  {
   "cell_type": "code",
   "execution_count": 70,
   "metadata": {},
   "outputs": [
    {
     "name": "stdout",
     "output_type": "stream",
     "text": [
      "'@MeltingIce Ass' characters mapped to int ---> [32 45 68 75 83 72 77 70 41 66 68  1 33 82 82]\n"
     ]
    }
   ],
   "source": [
    "print('{} characters mapped to int ---> {}'.format(repr(dataset_text[:15]), text_as_int[:15]))"
   ]
  },
  {
   "cell_type": "markdown",
   "metadata": {},
   "source": [
    "## 4: Criação dos exemplos de treinamento e batches"
   ]
  },
  {
   "cell_type": "code",
   "execution_count": 71,
   "metadata": {},
   "outputs": [
    {
     "data": {
      "text/plain": [
       "300787"
      ]
     },
     "execution_count": 71,
     "metadata": {},
     "output_type": "execute_result"
    }
   ],
   "source": [
    "len(dataset_text)"
   ]
  },
  {
   "cell_type": "code",
   "execution_count": 72,
   "metadata": {},
   "outputs": [
    {
     "data": {
      "text/plain": [
       "3007"
      ]
     },
     "execution_count": 72,
     "metadata": {},
     "output_type": "execute_result"
    }
   ],
   "source": [
    "seq_length = 100\n",
    "examples_per_epoch = len(dataset_text) // seq_length\n",
    "examples_per_epoch"
   ]
  },
  {
   "cell_type": "code",
   "execution_count": 73,
   "metadata": {},
   "outputs": [],
   "source": [
    "char_dataset = tf.data.Dataset.from_tensor_slices(text_as_int)"
   ]
  },
  {
   "cell_type": "code",
   "execution_count": 74,
   "metadata": {},
   "outputs": [],
   "source": [
    "sequences = char_dataset.batch(batch_size=seq_length + 1, drop_remainder=True)"
   ]
  },
  {
   "cell_type": "code",
   "execution_count": 75,
   "metadata": {},
   "outputs": [
    {
     "name": "stdout",
     "output_type": "stream",
     "text": [
      "\"@MeltingIce Assuming max acceleration of 2 to 3 g's, but in a comfortable direction. Will feel like a\"\n",
      "' mild to moder? https://t.co/fpjmEgrHfC\\nRT @SpaceX: BFR is capable of transporting satellites to orbi'\n",
      "'t, crew and cargo to the @Space_Station and completing missions to the Moon an?\\n@bigajm Yup :)\\nPart 2'\n",
      "' https://t.co/8Fvu57muhM\\nFly to most places on Earth in under 30 mins and anywhere in under 60. Cost '\n",
      "'per seat should be? https://t.co/dGYDdGttYd\\nRT @SpaceX: Supporting the creation of a permanent, self-'\n",
      "'sustaining human presence on Mars. https://t.co/kCtBLPbSg8 https://t.co/ra6hKsrOcG\\nBFR will take you '\n",
      "'anywhere on Earth in less than 60 mins https://t.co/HWt9BZ1FI9\\nMars City\\nOpposite of Earth. Dawn and '\n",
      "'dusk sky are blue on Mars and day sky is red. https://t.co/XHcZIdgqnb\\nMoon Base Alpha https://t.co/vo'\n",
      "\"Y8qEW9kl\\nWill be announcing something really special at today's talk https://t.co/plXTBJY6ia\\nRT @Spac\"\n",
      "'eX: Nine years ago today, Falcon 1 became the first privately developed liquid fuel rocket to orbit E'\n",
      "'arth. https://t.co/Aa0ITkuJET?\\n@kevinroose Just another day in the office\\n@Fashionista_com @mayemusk '\n",
      "\"Congrats Mom! I love you.\\nRT @mayemusk: .@covergirl I'm so excited to say that I'm now officially a C\"\n",
      "'OVERGIRL, at 69! Beauty is for all ages. #COVERGIRLMADE https://?\\nPrev ideas for paying ~$10B dev cos'\n",
      "'t incl. Kickstarter & collecting underpants, which turned out to be um... less lucrative than expecte'\n",
      "'d\\nHeaded to Adelaide soon to describe new BFR planetary colonizer design in detail @IAC2017. This sho'\n",
      "'uld be worth seeing. Design feels right.\\n@El_Deano @Daimler @Jalopnik Yes, I did :)\\nGood NYT article '\n",
      "'from several years ago about the value of fiction https://t.co/lVg7T0h7zG\\n@AdrianZorrillaC Yes\\nSimula'\n",
      "'tion of how the SpaceX Interplanetary Spaceship and Rocket design would work. Will be? https://t.co/y'\n",
      "'WYDxtAKQP\\n@Daimler Good\\nMajor improvements & some unexpected applications to be unveiled on Friday at'\n",
      "' @IAC2017 in Australia\\nPresentation of @SpaceX Interplanetary Spaceship & Rocket design from 2016 htt'\n",
      "\"ps://t.co/3b1YWWmmxg\\n@USATODAYmoney @NathanBomey That's not a lot of money for a giant like Daimler/M\"\n",
      "\"ercedes. Wish they'd do more. Off by a zero.\\nRT @MotorTrend: Shocking winner of our latest, World's G\"\n",
      "\"reatest Drag Race 7! Maybe even #ludicrous? #WGDR7 https://t.co/ImvNAm2Yop\\n@Its_Subhamk Don't give up\"\n",
      "' if the cause is important enough, even if you believe you are walking into doom. Good friends really'\n",
      "' matter.\\n@JimHeaney Absolutely. Moreover, we expect to expand the facility significantly over time.\\n@'\n",
      "'Richwsadler Does my hivemind count as me?\\n@Bobby_Gupta Def not ok. Just sent a reminder to Tesla stor'\n",
      "'es that we just want people to look forward to their nex? https://t.co/z4KuEhvl4a\\n@rishabagrwl2013 In'\n",
      "' discussions with national govt. Just need a temporary reprieve on local content requirements un? htt'\n",
      "'ps://t.co/sN53qoOckf\\n@JayCruicks_ATC What if we just made a mini version of the Tesla Semi?\\n@bonnieno'\n",
      "'rman Of course :)\\nHigh res version at https://t.co/YysKftHhoz\\n@jovanik21 Most of it\\nLong road to reus'\n",
      "'abity of Falcon 9 primary boost stage?When upper stage & fairing also reusable, costs will drop by? h'\n",
      "'ttps://t.co/omqxEl6hCU\\n@simcrook @SmileSimplify Actually ... yes\\nTesla Semi truck unveil & test ride '\n",
      "\"tentatively scheduled for Oct 26th in Hawthorne. Worth seeing this beast in person. It's unreal.\\n@Smi\"\n",
      "'leSimplify Promise to be as boring as possible!\\nRT @FastCompany: During Irma?s power outages, some ho'\n",
      "'uses kept the lights on with solar and batteries https://t.co/OHDMawHI0A https://t.co/?\\nRT @Gizmodo: '\n",
      "'Hackers have already started to weaponize artificial intelligence https://t.co/x7WfEYJLOv https://t.c'\n",
      "'o/gshNLUKSyi\\n@hohocho Yes\\nRT @TeslaMotors: Supercharging Cities https://t.co/IGK9FasWDa\\n@_vinouz_ @Re'\n",
      "'za_Zadeh Exactly\\nAstronaut spacesuit next to Crew Dragon https://t.co/Csmgx8Nn0t\\nRT @SpaceX: More pho'\n",
      "'tos from today?s Falcon 9 launch and first stage landing ? https://t.co/095WHWMtKp https://t.co/TpFnW'\n",
      "'S9GI9\\nRT @TeslaMotors: Our new Supercharger route in South Australia will soon allow Tesla owners to '\n",
      "\"visit the world's largest battery site https?\\n@SmileSimplify Fun, exciting tweets coming soon!\\n@Smile\"\n",
      "\"Simplify Sorry about that. You're right. I was depressing myself too :(\\n@AndrewKemendo Govts don't ne\"\n",
      "'ed to follow normal laws. They will obtain AI developed by companies at gunpoint, if necessary.\\n@Itch'\n",
      "'Grid Should be low on our list of concerns for civilizational existential risk. NK has no entangling '\n",
      "'alliances? https://t.co/aFUetANTvB\\n@SethicusGP NK launching a nuclear missile would be suicide for th'\n",
      "'eir leadership, as SK, US and China wd invade and? https://t.co/lmbkjRsucC\\n@JakeBlueatSM May be initi'\n",
      "\"ated not by the country leaders, but one of the AI's, if it decides that a prepemptive st? https://t.\"\n",
      "'co/Ydj22p10gq\\nChina, Russia, soon all countries w strong computer science. Competition for AI superio'\n",
      "'rity at national level most likely cause of WW3 imo.\\n@WendyWednesday8 Zeroth Law\\nIt begins ... https:'\n",
      "'//t.co/mbjw5hWC5J\\nPutting together SpaceX rocket landing blooper reel. We messed up a lot before it f'\n"
     ]
    }
   ],
   "source": [
    "for item in sequences.take(50):\n",
    "  print(repr(''.join(idx2char[item.numpy()])))"
   ]
  },
  {
   "cell_type": "code",
   "execution_count": 76,
   "metadata": {},
   "outputs": [],
   "source": [
    "def split_input_target(chunk):\n",
    "  input_text = chunk[:-1]\n",
    "  target_text = chunk[1:]\n",
    "  return input_text, target_text"
   ]
  },
  {
   "cell_type": "code",
   "execution_count": 77,
   "metadata": {},
   "outputs": [],
   "source": [
    "dataset = sequences.map(split_input_target)"
   ]
  },
  {
   "cell_type": "code",
   "execution_count": 78,
   "metadata": {},
   "outputs": [
    {
     "name": "stdout",
     "output_type": "stream",
     "text": [
      "Input data: \"@MeltingIce Assuming max acceleration of 2 to 3 g's, but in a comfortable direction. Will feel like \"\n",
      "Target data: \"MeltingIce Assuming max acceleration of 2 to 3 g's, but in a comfortable direction. Will feel like a\"\n",
      "Input data: ' mild to moder? https://t.co/fpjmEgrHfC\\nRT @SpaceX: BFR is capable of transporting satellites to orb'\n",
      "Target data: 'mild to moder? https://t.co/fpjmEgrHfC\\nRT @SpaceX: BFR is capable of transporting satellites to orbi'\n",
      "Input data: 't, crew and cargo to the @Space_Station and completing missions to the Moon an?\\n@bigajm Yup :)\\nPart '\n",
      "Target data: ', crew and cargo to the @Space_Station and completing missions to the Moon an?\\n@bigajm Yup :)\\nPart 2'\n",
      "Input data: ' https://t.co/8Fvu57muhM\\nFly to most places on Earth in under 30 mins and anywhere in under 60. Cost'\n",
      "Target data: 'https://t.co/8Fvu57muhM\\nFly to most places on Earth in under 30 mins and anywhere in under 60. Cost '\n",
      "Input data: 'per seat should be? https://t.co/dGYDdGttYd\\nRT @SpaceX: Supporting the creation of a permanent, self'\n",
      "Target data: 'er seat should be? https://t.co/dGYDdGttYd\\nRT @SpaceX: Supporting the creation of a permanent, self-'\n",
      "Input data: 'sustaining human presence on Mars. https://t.co/kCtBLPbSg8 https://t.co/ra6hKsrOcG\\nBFR will take you'\n",
      "Target data: 'ustaining human presence on Mars. https://t.co/kCtBLPbSg8 https://t.co/ra6hKsrOcG\\nBFR will take you '\n",
      "Input data: 'anywhere on Earth in less than 60 mins https://t.co/HWt9BZ1FI9\\nMars City\\nOpposite of Earth. Dawn and'\n",
      "Target data: 'nywhere on Earth in less than 60 mins https://t.co/HWt9BZ1FI9\\nMars City\\nOpposite of Earth. Dawn and '\n",
      "Input data: 'dusk sky are blue on Mars and day sky is red. https://t.co/XHcZIdgqnb\\nMoon Base Alpha https://t.co/v'\n",
      "Target data: 'usk sky are blue on Mars and day sky is red. https://t.co/XHcZIdgqnb\\nMoon Base Alpha https://t.co/vo'\n",
      "Input data: \"Y8qEW9kl\\nWill be announcing something really special at today's talk https://t.co/plXTBJY6ia\\nRT @Spa\"\n",
      "Target data: \"8qEW9kl\\nWill be announcing something really special at today's talk https://t.co/plXTBJY6ia\\nRT @Spac\"\n",
      "Input data: 'eX: Nine years ago today, Falcon 1 became the first privately developed liquid fuel rocket to orbit '\n",
      "Target data: 'X: Nine years ago today, Falcon 1 became the first privately developed liquid fuel rocket to orbit E'\n"
     ]
    }
   ],
   "source": [
    "for input_example, target_example in dataset.take(10):\n",
    "  print('Input data:', repr(''.join(idx2char[input_example.numpy()])))\n",
    "  print('Target data:', repr(''.join(idx2char[target_example.numpy()])))"
   ]
  },
  {
   "cell_type": "code",
   "execution_count": 79,
   "metadata": {},
   "outputs": [],
   "source": [
    "batch_size = 64\n",
    "buffer_size = 10000"
   ]
  },
  {
   "cell_type": "code",
   "execution_count": 80,
   "metadata": {},
   "outputs": [],
   "source": [
    "dataset = dataset.shuffle(buffer_size).batch(batch_size, drop_remainder = True)"
   ]
  },
  {
   "cell_type": "code",
   "execution_count": 81,
   "metadata": {},
   "outputs": [
    {
     "data": {
      "text/plain": [
       "<BatchDataset shapes: ((64, 100), (64, 100)), types: (tf.int64, tf.int64)>"
      ]
     },
     "execution_count": 81,
     "metadata": {},
     "output_type": "execute_result"
    }
   ],
   "source": [
    "dataset"
   ]
  },
  {
   "cell_type": "markdown",
   "metadata": {},
   "source": [
    "## 5: Construção do modelo de Redes Neurais Recorrentes (LTSM)\n"
   ]
  },
  {
   "cell_type": "code",
   "execution_count": 82,
   "metadata": {},
   "outputs": [
    {
     "data": {
      "text/plain": [
       "97"
      ]
     },
     "execution_count": 82,
     "metadata": {},
     "output_type": "execute_result"
    }
   ],
   "source": [
    "len(characteres)"
   ]
  },
  {
   "cell_type": "code",
   "execution_count": 83,
   "metadata": {},
   "outputs": [],
   "source": [
    "vocab_size = len(characteres)\n",
    "embedding_dim = 256\n",
    "rnn_units = 1024"
   ]
  },
  {
   "cell_type": "code",
   "execution_count": 91,
   "metadata": {},
   "outputs": [],
   "source": [
    "def build_model(vocab_size, embedding_dim, rnn_units, batch_size):\n",
    "  model = tf.keras.Sequential()\n",
    "  model.add(Embedding(vocab_size, embedding_dim, batch_input_shape=[batch_size, None]))\n",
    "  model.add(LSTM(rnn_units, return_sequences=True, stateful=True, recurrent_initializer='glorot_uniform'))\n",
    "  model.add(LSTM(rnn_units, return_sequences=True, stateful=True))\n",
    "  model.add(Dense(vocab_size))\n",
    "  return model"
   ]
  },
  {
   "cell_type": "code",
   "execution_count": 92,
   "metadata": {},
   "outputs": [],
   "source": [
    "model = build_model(vocab_size = len(characteres), embedding_dim=embedding_dim, rnn_units=rnn_units, batch_size=batch_size)"
   ]
  },
  {
   "cell_type": "code",
   "execution_count": 93,
   "metadata": {},
   "outputs": [
    {
     "name": "stdout",
     "output_type": "stream",
     "text": [
      "Model: \"sequential_3\"\n",
      "_________________________________________________________________\n",
      " Layer (type)                Output Shape              Param #   \n",
      "=================================================================\n",
      " embedding_3 (Embedding)     (64, None, 256)           24832     \n",
      "                                                                 \n",
      " lstm_4 (LSTM)               (64, None, 1024)          5246976   \n",
      "                                                                 \n",
      " lstm_5 (LSTM)               (64, None, 1024)          8392704   \n",
      "                                                                 \n",
      " dense_3 (Dense)             (64, None, 97)            99425     \n",
      "                                                                 \n",
      "=================================================================\n",
      "Total params: 13,763,937\n",
      "Trainable params: 13,763,937\n",
      "Non-trainable params: 0\n",
      "_________________________________________________________________\n"
     ]
    }
   ],
   "source": [
    "model.summary()\n"
   ]
  },
  {
   "cell_type": "markdown",
   "metadata": {},
   "source": [
    "## 6: Treinamento do modelo"
   ]
  },
  {
   "cell_type": "markdown",
   "metadata": {},
   "source": [
    "### Otimizador e loss function"
   ]
  },
  {
   "cell_type": "code",
   "execution_count": 94,
   "metadata": {},
   "outputs": [],
   "source": [
    "def loss(labels, logits):\n",
    "  return tf.keras.losses.sparse_categorical_crossentropy(labels, logits, from_logits=True)"
   ]
  },
  {
   "cell_type": "code",
   "execution_count": 95,
   "metadata": {},
   "outputs": [],
   "source": [
    "model.compile(optimizer='Adam', loss=loss)"
   ]
  },
  {
   "cell_type": "markdown",
   "metadata": {},
   "source": [
    "### Checkpoints"
   ]
  },
  {
   "cell_type": "code",
   "execution_count": 96,
   "metadata": {},
   "outputs": [],
   "source": [
    "checkpoint_dir = './training_checkpoints'\n",
    "checkpoint_prefix = os.path.join(checkpoint_dir, 'ckpt_{epoch:02d}-{loss:.4f}')\n",
    "checkpoint_callback = ModelCheckpoint(filepath=checkpoint_prefix, save_weights_only=True)"
   ]
  },
  {
   "cell_type": "markdown",
   "metadata": {},
   "source": [
    "### Execução do Treinamento"
   ]
  },
  {
   "cell_type": "code",
   "execution_count": 97,
   "metadata": {},
   "outputs": [
    {
     "name": "stdout",
     "output_type": "stream",
     "text": [
      "Epoch 1/12\n",
      "46/46 [==============================] - 14s 246ms/step - loss: 3.5664\n",
      "Epoch 2/12\n",
      "46/46 [==============================] - 11s 241ms/step - loss: 3.2331\n",
      "Epoch 3/12\n",
      "46/46 [==============================] - 11s 242ms/step - loss: 2.7929\n",
      "Epoch 4/12\n",
      "46/46 [==============================] - 12s 245ms/step - loss: 2.5341\n",
      "Epoch 5/12\n",
      "46/46 [==============================] - 12s 246ms/step - loss: 2.3467\n",
      "Epoch 6/12\n",
      "46/46 [==============================] - 12s 251ms/step - loss: 2.2023\n",
      "Epoch 7/12\n",
      "46/46 [==============================] - 11s 240ms/step - loss: 2.0729\n",
      "Epoch 8/12\n",
      "46/46 [==============================] - 12s 250ms/step - loss: 1.9625\n",
      "Epoch 9/12\n",
      "46/46 [==============================] - 12s 247ms/step - loss: 1.8607\n",
      "Epoch 10/12\n",
      "46/46 [==============================] - 11s 241ms/step - loss: 1.7715\n",
      "Epoch 11/12\n",
      "46/46 [==============================] - 12s 246ms/step - loss: 1.6863\n",
      "Epoch 12/12\n",
      "46/46 [==============================] - 11s 241ms/step - loss: 1.6133\n",
      "CPU times: user 1min 39s, sys: 7.66 s, total: 1min 47s\n",
      "Wall time: 2min 20s\n"
     ]
    }
   ],
   "source": [
    "%%time\n",
    "epochs = 12\n",
    "history = model.fit(dataset, epochs = epochs, callbacks=[checkpoint_callback])"
   ]
  },
  {
   "cell_type": "markdown",
   "metadata": {},
   "source": [
    "## 7: Geração dos Tweets\n"
   ]
  },
  {
   "cell_type": "markdown",
   "metadata": {},
   "source": [
    "### Restauração do último checkpoint"
   ]
  },
  {
   "cell_type": "code",
   "execution_count": 98,
   "metadata": {},
   "outputs": [
    {
     "data": {
      "text/plain": [
       "'./training_checkpoints/ckpt_12-1.6133'"
      ]
     },
     "execution_count": 98,
     "metadata": {},
     "output_type": "execute_result"
    }
   ],
   "source": [
    "tf.train.latest_checkpoint(checkpoint_dir)"
   ]
  },
  {
   "cell_type": "code",
   "execution_count": 99,
   "metadata": {},
   "outputs": [],
   "source": [
    "model = build_model(vocab_size, embedding_dim, rnn_units, batch_size = 1)\n",
    "model.load_weights(tf.train.latest_checkpoint(checkpoint_dir))\n",
    "model.build(tf.TensorShape([1, None]))"
   ]
  },
  {
   "cell_type": "code",
   "execution_count": 100,
   "metadata": {},
   "outputs": [
    {
     "name": "stdout",
     "output_type": "stream",
     "text": [
      "Model: \"sequential_4\"\n",
      "_________________________________________________________________\n",
      " Layer (type)                Output Shape              Param #   \n",
      "=================================================================\n",
      " embedding_4 (Embedding)     (1, None, 256)            24832     \n",
      "                                                                 \n",
      " lstm_6 (LSTM)               (1, None, 1024)           5246976   \n",
      "                                                                 \n",
      " lstm_7 (LSTM)               (1, None, 1024)           8392704   \n",
      "                                                                 \n",
      " dense_4 (Dense)             (1, None, 97)             99425     \n",
      "                                                                 \n",
      "=================================================================\n",
      "Total params: 13,763,937\n",
      "Trainable params: 13,763,937\n",
      "Non-trainable params: 0\n",
      "_________________________________________________________________\n"
     ]
    }
   ],
   "source": [
    "model.summary()"
   ]
  },
  {
   "cell_type": "markdown",
   "metadata": {},
   "source": [
    "### Loop de previsão"
   ]
  },
  {
   "cell_type": "code",
   "execution_count": 101,
   "metadata": {},
   "outputs": [],
   "source": [
    "def generate_text(model, start_string):\n",
    "  # Número de caracteres a serem gerados\n",
    "  num_generate = 100\n",
    "\n",
    "  # Conversão dos caracteres iniciais de string para números\n",
    "  input_eval = [char2idx[s] for s in start_string]\n",
    "  input_eval = tf.expand_dims(input_eval, 0)\n",
    "\n",
    "  # Lista para armazenar os textos gerados pela rede neural\n",
    "  text_generated = []\n",
    "\n",
    "  # Parâmetro temperatura\n",
    "  # Valores baixos resultam em melhores textos (deve ser testado)\n",
    "  temperature = 1.0\n",
    "\n",
    "  # Loop para gerar os textos\n",
    "  for i in range(num_generate):\n",
    "    # Previsões\n",
    "    predictions = model(input_eval)\n",
    "\n",
    "    # Tratamento das previsões\n",
    "    predictions = tf.squeeze(predictions, 0)\n",
    "    predictions = predictions / temperature\n",
    "    predicted_id = tf.random.categorical(predictions, num_samples=1)[-1,0].numpy()\n",
    "\n",
    "    # Passamos a previsão como próxima entrada da rede\n",
    "    input_eval = tf.expand_dims([predicted_id], 0)\n",
    "    #print(idx2char[predicted_id])\n",
    "    text_generated.append(idx2char[predicted_id])\n",
    "  \n",
    "  return (start_string + ''.join(text_generated))"
   ]
  },
  {
   "cell_type": "code",
   "execution_count": 114,
   "metadata": {},
   "outputs": [
    {
     "name": "stdout",
     "output_type": "stream",
     "text": [
      "Tesla http://t.co/AgfZSTdlwq to all homured another upssate) but be designed by @TandashRvoaldoch Model 3 \n"
     ]
    }
   ],
   "source": [
    "print(generate_text(model, start_string='Tesla '))"
   ]
  }
 ],
 "metadata": {
  "interpreter": {
   "hash": "7d917b95d4d7850d19f76a5ba18c72e09f964027fc3c79708a9cee92fe9ce50c"
  },
  "kernelspec": {
   "display_name": "Python 3.8.12 64-bit ('base': conda)",
   "language": "python",
   "name": "python3"
  },
  "language_info": {
   "codemirror_mode": {
    "name": "ipython",
    "version": 3
   },
   "file_extension": ".py",
   "mimetype": "text/x-python",
   "name": "python",
   "nbconvert_exporter": "python",
   "pygments_lexer": "ipython3",
   "version": "3.9.7"
  },
  "orig_nbformat": 4
 },
 "nbformat": 4,
 "nbformat_minor": 2
}
